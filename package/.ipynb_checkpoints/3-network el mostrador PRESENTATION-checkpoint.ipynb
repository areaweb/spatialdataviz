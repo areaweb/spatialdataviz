{
 "cells": [
  {
   "cell_type": "markdown",
   "metadata": {},
   "source": [
    "[http://www.elmostrador.cl/]"
   ]
  },
  {
   "cell_type": "code",
   "execution_count": 1,
   "metadata": {
    "collapsed": false
   },
   "outputs": [],
   "source": [
    "from robobrowser import RoboBrowser\n",
    "urls = 'http://www.elmostrador.cl/','http://www.elmostrador.cl/dia/','http://www.elmostrador.cl/dia/page/2/','http://www.elmostrador.cl/dia/page/3/'\n",
    "\n",
    "browser = RoboBrowser(history=True, parser='html5lib')"
   ]
  },
  {
   "cell_type": "code",
   "execution_count": 2,
   "metadata": {
    "collapsed": true
   },
   "outputs": [],
   "source": [
    "articulos = []\n",
    "for url in urls:\n",
    "    browser.open(url)\n",
    "    articulos += browser.select('h3 a') + browser.select('h2 a')"
   ]
  },
  {
   "cell_type": "code",
   "execution_count": 3,
   "metadata": {
    "collapsed": false
   },
   "outputs": [
    {
     "name": "stdout",
     "output_type": "stream",
     "text": [
      "0 Presidenta escuchÃ³ a su ministro de Hacienda y las clasificadoras y presentÃ³ el presupuesto mÃ¡s austero en casi 20 aÃ±os\n",
      "1 Roberto GuzmÃ¡n defiende su bolsillo y evita pagar millonaria multa de la SVS por caso Cascada\n",
      "2 La Semana PolÃ­tica: La candidatura de Atria, el Jaime GuzmÃ¡n de la izquierda\n",
      "3 Miradas: La dura realidad de las pensiones de las mujeres y la alternativa solidaria\n",
      "4 OssandÃ³n y la ignorancia sexual\n",
      "5 Casen y cohesiÃ³n: oportunidades y precauciones\n",
      "6 PPK y el PerÃº: una agenda para conectar con las expectativas ciudadanas\n",
      "7 Litio: tribunal fija formalizaciÃ³n de Pablo Wagner para el 21 de octubre\n",
      "8 Los socialistas, en su crisis mÃ¡s grave mientras EspaÃ±a sigue sin Gobierno\n",
      "9 Â¿La punta del iceberg?: diputados piden indagar las millonarias compras de Fonasa a clÃ­nicas privadas\n",
      "10 Candidato a concejal borra imagen de ME-O de su propaganda\n",
      "11 “Acoso” de Patricio Hales: sumario de CancillerÃ­a descartÃ³ cargos en su contra\n",
      "12 Diputada Nogueira por ley de aborto: â€œDespuÃ©s de las palabras de la Presidenta, es claro que el aborto libre serÃ¡ un hecho en nuestro paÃ­sâ€�\n",
      "13 Ataque cibernÃ©tico a la Municipalidad de Santiago impide descargar libro de sexualidad\n",
      "14 Macri: “Me cuesta creer que Nisman se haya suicidado”\n",
      "15 OssandÃ³n candidato: dice que si no se concreta elecciÃ³n de intendentes “lo plantearÃ© en mi programa de gobierno”\n",
      "16 TecnologÃ­a de Rosetta permite enviar misiÃ³n a JÃºpiter para explorar mundos habitables cercanos al gigante gaseoso\n",
      "17 Semana del Arte ContemporÃ¡neo llega a 12 mil asistentes: Un ejemplo de cÃ³mo alimentarse del desierto\n",
      "18 Festival Puerto de Ideas ValparaÃ­so celebra a Violeta Parra, RaÃºl Ruiz y Gonzalo Rojas\n",
      "19 Palestino deja a Flamengo con las manos vacÃ­as y pasa a cuartos de final\n"
     ]
    }
   ],
   "source": [
    "for ct, articulo in enumerate(articulos[:20]):\n",
    "    print ct, articulo.text"
   ]
  },
  {
   "cell_type": "code",
   "execution_count": 4,
   "metadata": {
    "collapsed": false
   },
   "outputs": [
    {
     "name": "stdout",
     "output_type": "stream",
     "text": [
      "<a href=\"http://www.elmostrador.cl/noticias/pais/2016/09/29/la-punta-del-iceberg-diputados-piden-indagar-las-millonarias-compras-de-fonasa-a-clinicas-privadas/\" title=\"Ir a enlace\">Â¿La punta del iceberg?: diputados piden indagar las millonarias compras de Fonasa a clÃ­nicas privadas</a>\n"
     ]
    }
   ],
   "source": [
    "articulo=articulos[9]\n",
    "print articulo"
   ]
  },
  {
   "cell_type": "code",
   "execution_count": 5,
   "metadata": {
    "collapsed": false
   },
   "outputs": [
    {
     "data": {
      "text/plain": [
       "[<h2>\\xc2\\xbfLa punta del iceberg?: diputados piden indagar las millonarias compras de Fonasa a cl\\xc3\\xadnicas privadas</h2>]"
      ]
     },
     "execution_count": 5,
     "metadata": {},
     "output_type": "execute_result"
    }
   ],
   "source": [
    "browser.follow_link(articulo)\n",
    "browser.select('.datos-noticias h2')"
   ]
  },
  {
   "cell_type": "code",
   "execution_count": 6,
   "metadata": {
    "collapsed": false
   },
   "outputs": [
    {
     "name": "stdout",
     "output_type": "stream",
     "text": [
      "Â¿La punta del iceberg?: diputados piden indagar las millonarias compras de Fonasa a clÃ­nicas privadas \n",
      "\t\t\t\t\t\t\t\t\t\t\t\t\t\n",
      "\t\t\t\t\t\t\t\t\t\t\t\t\t\t\t\t\t\t                                    A raÃ­z de las sospechas que generÃ³ la compra de 500 camas por parte de Fonasa a la ClÃ­nica Ensenada,Â los diputados Miguel Ã�ngel Alvarado (PPD) y Loreto Carvajal (PPD) presentaron la solicitud para crear una ComisiÃ³n Investigadora que indague especÃ­ficamente las millonarias compras de insumos y prestaciones mÃ©dicas que realiza Fonasa a las clÃ­nicas privadas.\n",
      "â€œEstamos muy preocupados porque han aumentado considerablemente las compras que se realizan hacia el sector privado, especialmente por la falta de camas, personal mÃ©dico o equipos necesarios de las unidades UTI y UCI. Esto hay que investigarlo, porque creemos que los montos que se pagan son excesivos, llegando muchas veces al triple de lo que cuesta la atenciÃ³n de ese paciente en un recinto pÃºblicoâ€�, afirmÃ³ la diputada Carvajal.\n",
      "Esto, porque segÃºn informaciÃ³n de los parlamentarios, el gasto promedio de un paciente que es derivado al sector privado bordea los $ 11 millones, mientras esa misma atenciÃ³n costarÃ­a cerca de $ 4 millones en el sector pÃºblico.\n",
      "La representante de la Octava RegiÃ³n agregÃ³ que â€œlo que buscamos indagar especialmente en esta ComisiÃ³n Investigadora es la inexistencia de una licitaciÃ³n abierta, sino mÃ¡s bien un trato directo. AdemÃ¡s, queremos investigar por quÃ© no hay una acreditaciÃ³n por la Superintendencia de Salud de la ClÃ­nica Ensenada, que hoy es una de las mayores prestadoras de camas del sistema pÃºblico del Ãºltimo perÃ­odoâ€�.\n",
      "â€œEs realmente impresentable que ocurra esto, que exista un lucro manifiesto al parecer de algunas clÃ­nicas y de algunos mÃ©dicos que no cuentan con la estructura bÃ¡sica ni con las condiciones tÃ©cnicas necesarias para la atenciÃ³n de un paciente de alta o mediana complejidadâ€�, asegurÃ³ Loreto Carvajal.\n",
      "Finalmente, la parlamentaria indicÃ³ que â€œes necesario que se investigue lo que realmente estÃ¡ pasando con las compras pÃºblicas, con servicios terciarios, en donde el Estado sigue con una deuda hospitalaria, con una lista de espera, y donde no se da una soluciÃ³n real a tanta necesidad que hay en la salud pÃºblicaâ€�.\n",
      "\t\t\t\t\t                                \n",
      "\t\t\t\t\t                                \n",
      "\n",
      "\n",
      "\n",
      "\t\t\t\t\t                                \t\t\t\t\t                                \n",
      "\t\t\t\t\t\t\t\t\t\t\t\t\t\n",
      "\t\t\t\t\t\t\t\t\t\t\t\t\n"
     ]
    }
   ],
   "source": [
    "texto = browser.select('.cuerpo-noticia')[0].text\n",
    "titulo = browser.select('.datos-noticias h2')[0].text\n",
    "print titulo, texto"
   ]
  },
  {
   "cell_type": "code",
   "execution_count": 7,
   "metadata": {
    "collapsed": false
   },
   "outputs": [
    {
     "name": "stdout",
     "output_type": "stream",
     "text": [
      "{u'text': u'porque', u'confidence': 0.2155826837, u'position': [885, 891]}\n",
      "{u'text': u'Miguel \\xc3\\ufffdngel Alvarado', u'confidence': 0.16056407990000002, u'position': [188, 210]}\n",
      "{u'text': u'han', u'confidence': 0.08915344630000001, u'position': [472, 475]}\n",
      "{u'text': u'asegur\\xc3\\xb3', u'confidence': 0.0803232118, u'position': [1817, 1825]}\n",
      "{u'text': u'camas', u'confidence': 0.06949646770000001, u'position': [587, 592]}\n",
      "{u'text': u'del', u'confidence': 0.06936457010000001, u'position': [1508, 1511]}\n",
      "{u'text': u'Fonasa', u'confidence': 0.06494893880000001, u'position': [142, 148]}\n",
      "{u'text': u'excesivos', u'confidence': 0.0498603955, u'position': [733, 742]}\n",
      "{u'text': u'Fonasa', u'confidence': 0.043578710400000005, u'position': [405, 411]}\n",
      "{u'text': u'Miguel', u'confidence': 0.041433271, u'position': [188, 194]}\n",
      "{u'text': u'Finalmente', u'confidence': 0.040078882100000005, u'position': [1843, 1853]}\n",
      "{u'text': u'porque', u'confidence': 0.035311024600000004, u'position': [686, 692]}\n",
      "{u'text': u'espera', u'confidence': 0.0348448679, u'position': [2072, 2078]}\n",
      "{u'text': u'Carvajal', u'confidence': 0.0320492499, u'position': [869, 877]}\n",
      "{u'text': u'algunos', u'confidence': 0.0319642276, u'position': [1648, 1655]}\n"
     ]
    },
    {
     "name": "stderr",
     "output_type": "stream",
     "text": [
      "/Users/rodrigo/Envs/datavis/lib/python2.7/site-packages/indicoio/utils/api.py:49: UserWarning: people API version 1 is going to be deprecated by September 17, 2016. Please upgrade to version 2\n",
      "  warnings.warn(warning)\n"
     ]
    }
   ],
   "source": [
    "import indicoio\n",
    "indicoio.config.api_key = '37958de57fa5f9d8d4bbec0c0902fd1e'\n",
    "people = indicoio.people(texto)\n",
    "for p in people[:15]:\n",
    "    print p"
   ]
  },
  {
   "cell_type": "code",
   "execution_count": 8,
   "metadata": {
    "collapsed": false
   },
   "outputs": [
    {
     "name": "stdout",
     "output_type": "stream",
     "text": [
      "False\n"
     ]
    }
   ],
   "source": [
    "from string import uppercase\n",
    "\n",
    "def is_person(txt):\n",
    "    partes = txt.split(' ')\n",
    "    if len(partes)<2:\n",
    "        return False\n",
    "    for parte in partes:\n",
    "        try:\n",
    "            if parte[0] not in uppercase:\n",
    "                return False\n",
    "        except:\n",
    "            return False\n",
    "    return True\n",
    "\n",
    "print is_person('hoy ayer')"
   ]
  },
  {
   "cell_type": "code",
   "execution_count": null,
   "metadata": {
    "collapsed": false
   },
   "outputs": [
    {
     "name": "stdout",
     "output_type": "stream",
     "text": [
      "Loreto Carvajal\n"
     ]
    }
   ],
   "source": [
    "people = indicoio.people(texto)\n",
    "for p in people:\n",
    "    if is_person(p['text']):\n",
    "        print p['text']\n",
    "    "
   ]
  },
  {
   "cell_type": "markdown",
   "metadata": {},
   "source": [
    "![grafo](graph.png)"
   ]
  },
  {
   "cell_type": "code",
   "execution_count": null,
   "metadata": {
    "collapsed": false,
    "scrolled": false
   },
   "outputs": [
    {
     "name": "stdout",
     "output_type": "stream",
     "text": [
      "empezamos\n",
      "Pablo Wagner - Carlos Gajardo\n",
      "Carlos Gajardo - Pablo Wagner\n",
      "Mariano Rajoy - Pedro SÃ¡nchez\n",
      "Mariano Rajoy - VerÃ³nica PÃ©rez\n",
      "Mariano Rajoy - Susana DÃ­az\n",
      "Pedro SÃ¡nchez - Mariano Rajoy\n",
      "Pedro SÃ¡nchez - VerÃ³nica PÃ©rez\n",
      "Pedro SÃ¡nchez - Susana DÃ­az\n",
      "VerÃ³nica PÃ©rez - Mariano Rajoy\n",
      "VerÃ³nica PÃ©rez - Pedro SÃ¡nchez\n",
      "VerÃ³nica PÃ©rez - Susana DÃ­az\n",
      "Susana DÃ­az - Mariano Rajoy\n",
      "Susana DÃ­az - Pedro SÃ¡nchez\n",
      "Susana DÃ­az - VerÃ³nica PÃ©rez\n",
      "Marco EnrÃ­quez Ominami - Pier Miqueles\n",
      "Pier Miqueles - Marco EnrÃ­quez Ominami\n",
      "Alberto Nisman - Mauricio Macri\n",
      "Mauricio Macri - Alberto Nisman\n",
      "Paula Miranda - Claudio Rolle\n",
      "Paula Miranda - Christopher DomÃ­nguez\n",
      "Paula Miranda - Javier Cercas\n",
      "Paula Miranda - William Shakespeare\n",
      "Paula Miranda - Marisol GarcÃ­a\n",
      "Paula Miranda - Jorge Luis Borges\n",
      "Paula Miranda - Beatriz Sarlo\n",
      "Claudio Rolle - Paula Miranda\n",
      "Claudio Rolle - Christopher DomÃ­nguez\n",
      "Claudio Rolle - Javier Cercas\n",
      "Claudio Rolle - William Shakespeare\n",
      "Claudio Rolle - Marisol GarcÃ­a\n",
      "Claudio Rolle - Jorge Luis Borges\n",
      "Claudio Rolle - Beatriz Sarlo\n",
      "Christopher DomÃ­nguez - Paula Miranda\n",
      "Christopher DomÃ­nguez - Claudio Rolle\n",
      "Christopher DomÃ­nguez - Javier Cercas\n",
      "Christopher DomÃ­nguez - William Shakespeare\n",
      "Christopher DomÃ­nguez - Marisol GarcÃ­a\n",
      "Christopher DomÃ­nguez - Jorge Luis Borges\n",
      "Christopher DomÃ­nguez - Beatriz Sarlo\n",
      "Javier Cercas - Paula Miranda\n",
      "Javier Cercas - Claudio Rolle\n",
      "Javier Cercas - Christopher DomÃ­nguez\n",
      "Javier Cercas - William Shakespeare\n",
      "Javier Cercas - Marisol GarcÃ­a\n",
      "Javier Cercas - Jorge Luis Borges\n",
      "Javier Cercas - Beatriz Sarlo\n",
      "William Shakespeare - Paula Miranda\n",
      "William Shakespeare - Claudio Rolle\n",
      "William Shakespeare - Christopher DomÃ­nguez\n",
      "William Shakespeare - Javier Cercas\n",
      "William Shakespeare - Marisol GarcÃ­a\n",
      "William Shakespeare - Jorge Luis Borges\n",
      "William Shakespeare - Beatriz Sarlo\n",
      "Marisol GarcÃ­a - Paula Miranda\n",
      "Marisol GarcÃ­a - Claudio Rolle\n",
      "Marisol GarcÃ­a - Christopher DomÃ­nguez\n",
      "Marisol GarcÃ­a - Javier Cercas\n",
      "Marisol GarcÃ­a - William Shakespeare\n",
      "Marisol GarcÃ­a - Jorge Luis Borges\n",
      "Marisol GarcÃ­a - Beatriz Sarlo\n",
      "Jorge Luis Borges - Paula Miranda\n",
      "Jorge Luis Borges - Claudio Rolle\n",
      "Jorge Luis Borges - Christopher DomÃ­nguez\n",
      "Jorge Luis Borges - Javier Cercas\n",
      "Jorge Luis Borges - William Shakespeare\n",
      "Jorge Luis Borges - Marisol GarcÃ­a\n",
      "Jorge Luis Borges - Beatriz Sarlo\n",
      "Beatriz Sarlo - Paula Miranda\n",
      "Beatriz Sarlo - Claudio Rolle\n",
      "Beatriz Sarlo - Christopher DomÃ­nguez\n",
      "Beatriz Sarlo - Javier Cercas\n",
      "Beatriz Sarlo - William Shakespeare\n",
      "Beatriz Sarlo - Marisol GarcÃ­a\n",
      "Beatriz Sarlo - Jorge Luis Borges\n",
      "Alan Patrick - Diego Haro\n",
      "Alan Patrick - Leonardo Valencia\n",
      "Alan Patrick - Roberto Cereceda\n",
      "Diego Haro - Alan Patrick\n",
      "Diego Haro - Leonardo Valencia\n",
      "Diego Haro - Roberto Cereceda\n",
      "Leonardo Valencia - Alan Patrick\n",
      "Leonardo Valencia - Diego Haro\n",
      "Leonardo Valencia - Roberto Cereceda\n",
      "Roberto Cereceda - Alan Patrick\n",
      "Roberto Cereceda - Diego Haro\n",
      "Roberto Cereceda - Leonardo Valencia\n",
      "Sin Messi - Theo Walcott\n",
      "Sin Messi - Yannick Carrasco\n",
      "Sin Messi - Unai Emery\n",
      "Sin Messi - Edinson Cavani\n",
      "Sin Messi - Ricardo Qauresma\n",
      "Sin Messi - Carlos Ancelotti\n",
      "Sin Messi - Blaise Matuidi\n",
      "Theo Walcott - Sin Messi\n",
      "Theo Walcott - Yannick Carrasco\n",
      "Theo Walcott - Unai Emery\n",
      "Theo Walcott - Edinson Cavani\n",
      "Theo Walcott - Ricardo Qauresma\n",
      "Theo Walcott - Carlos Ancelotti\n",
      "Theo Walcott - Blaise Matuidi\n",
      "Yannick Carrasco - Sin Messi\n",
      "Yannick Carrasco - Theo Walcott\n",
      "Yannick Carrasco - Unai Emery\n",
      "Yannick Carrasco - Edinson Cavani\n",
      "Yannick Carrasco - Ricardo Qauresma\n",
      "Yannick Carrasco - Carlos Ancelotti\n",
      "Yannick Carrasco - Blaise Matuidi\n",
      "Unai Emery - Sin Messi\n",
      "Unai Emery - Theo Walcott\n",
      "Unai Emery - Yannick Carrasco\n",
      "Unai Emery - Edinson Cavani\n",
      "Unai Emery - Ricardo Qauresma\n",
      "Unai Emery - Carlos Ancelotti\n",
      "Unai Emery - Blaise Matuidi\n",
      "Edinson Cavani - Sin Messi\n",
      "Edinson Cavani - Theo Walcott\n",
      "Edinson Cavani - Yannick Carrasco\n",
      "Edinson Cavani - Unai Emery\n",
      "Edinson Cavani - Ricardo Qauresma\n",
      "Edinson Cavani - Carlos Ancelotti\n",
      "Edinson Cavani - Blaise Matuidi\n",
      "Ricardo Qauresma - Sin Messi\n",
      "Ricardo Qauresma - Theo Walcott\n",
      "Ricardo Qauresma - Yannick Carrasco\n",
      "Ricardo Qauresma - Unai Emery\n",
      "Ricardo Qauresma - Edinson Cavani\n",
      "Ricardo Qauresma - Carlos Ancelotti\n",
      "Ricardo Qauresma - Blaise Matuidi\n",
      "Carlos Ancelotti - Sin Messi\n",
      "Carlos Ancelotti - Theo Walcott\n",
      "Carlos Ancelotti - Yannick Carrasco\n",
      "Carlos Ancelotti - Unai Emery\n",
      "Carlos Ancelotti - Edinson Cavani\n",
      "Carlos Ancelotti - Ricardo Qauresma\n",
      "Carlos Ancelotti - Blaise Matuidi\n",
      "Blaise Matuidi - Sin Messi\n",
      "Blaise Matuidi - Theo Walcott\n",
      "Blaise Matuidi - Yannick Carrasco\n",
      "Blaise Matuidi - Unai Emery\n",
      "Blaise Matuidi - Edinson Cavani\n",
      "Blaise Matuidi - Ricardo Qauresma\n",
      "Blaise Matuidi - Carlos Ancelotti\n",
      "Angela Merkel - Kim Kardashian\n",
      "Angela Merkel - Barack Obama\n",
      "Angela Merkel - Steve Jobs\n",
      "Angela Merkel - Kevin Conolly\n",
      "Kim Kardashian - Angela Merkel\n",
      "Kim Kardashian - Barack Obama\n",
      "Kim Kardashian - Steve Jobs\n",
      "Kim Kardashian - Kevin Conolly\n",
      "Barack Obama - Angela Merkel\n",
      "Barack Obama - Kim Kardashian\n",
      "Barack Obama - Steve Jobs\n",
      "Barack Obama - Kevin Conolly\n",
      "Steve Jobs - Angela Merkel\n",
      "Steve Jobs - Kim Kardashian\n",
      "Steve Jobs - Barack Obama\n",
      "Steve Jobs - Kevin Conolly\n",
      "Kevin Conolly - Angela Merkel\n",
      "Kevin Conolly - Kim Kardashian\n",
      "Kevin Conolly - Barack Obama\n",
      "Kevin Conolly - Steve Jobs\n",
      "Yoshinaga Tastuki - Ismael Ramos\n",
      "Yoshinaga Tastuki - Makoto Shinkai\n",
      "Yoshinaga Tastuki - Hayao Miyazaki\n",
      "Ismael Ramos - Yoshinaga Tastuki\n",
      "Ismael Ramos - Makoto Shinkai\n",
      "Ismael Ramos - Hayao Miyazaki\n",
      "Makoto Shinkai - Yoshinaga Tastuki\n",
      "Makoto Shinkai - Ismael Ramos\n",
      "Makoto Shinkai - Hayao Miyazaki\n",
      "Hayao Miyazaki - Yoshinaga Tastuki\n",
      "Hayao Miyazaki - Ismael Ramos\n",
      "Hayao Miyazaki - Makoto Shinkai\n",
      "GÃ³mez Canales - HÃ©ctor Mella\n",
      "GÃ³mez Canales - Jorge Abbott\n",
      "HÃ©ctor Mella - GÃ³mez Canales\n",
      "HÃ©ctor Mella - Jorge Abbott\n",
      "Jorge Abbott - GÃ³mez Canales\n",
      "Jorge Abbott - HÃ©ctor Mella\n",
      "Diego CalderÃ³n - Felipe Ahumada CalderÃ³n\n",
      "Diego CalderÃ³n - Felipe Ahumada\n",
      "Felipe Ahumada CalderÃ³n - Diego CalderÃ³n\n",
      "Felipe Ahumada CalderÃ³n - Felipe Ahumada\n",
      "Felipe Ahumada - Diego CalderÃ³n\n",
      "Felipe Ahumada - Felipe Ahumada CalderÃ³n\n",
      "Christian Fuenzalida - Enrique GarcÃ­a\n",
      "Enrique GarcÃ­a - Christian Fuenzalida\n",
      "Sara LarraÃ­n - Rodrigo ValdÃ©s\n",
      "Sara LarraÃ­n - Pablo Badenier\n",
      "Sara LarraÃ­n - Michelle Bachelet\n",
      "Sara LarraÃ­n - Lorena FrÃ­es\n",
      "Sara LarraÃ­n - Daniel Melo\n",
      "Rodrigo ValdÃ©s - Sara LarraÃ­n\n",
      "Rodrigo ValdÃ©s - Pablo Badenier\n",
      "Rodrigo ValdÃ©s - Michelle Bachelet\n",
      "Rodrigo ValdÃ©s - Lorena FrÃ­es\n",
      "Rodrigo ValdÃ©s - Daniel Melo\n",
      "Pablo Badenier - Sara LarraÃ­n\n",
      "Pablo Badenier - Rodrigo ValdÃ©s\n",
      "Pablo Badenier - Michelle Bachelet\n",
      "Pablo Badenier - Lorena FrÃ­es\n",
      "Pablo Badenier - Daniel Melo\n",
      "Michelle Bachelet - Sara LarraÃ­n\n",
      "Michelle Bachelet - Rodrigo ValdÃ©s\n",
      "Michelle Bachelet - Pablo Badenier\n",
      "Michelle Bachelet - Lorena FrÃ­es\n",
      "Michelle Bachelet - Daniel Melo\n",
      "Lorena FrÃ­es - Sara LarraÃ­n\n",
      "Lorena FrÃ­es - Rodrigo ValdÃ©s\n",
      "Lorena FrÃ­es - Pablo Badenier\n",
      "Lorena FrÃ­es - Michelle Bachelet\n",
      "Lorena FrÃ­es - Daniel Melo\n",
      "Daniel Melo - Sara LarraÃ­n\n",
      "Daniel Melo - Rodrigo ValdÃ©s\n",
      "Daniel Melo - Pablo Badenier\n",
      "Daniel Melo - Michelle Bachelet\n",
      "Daniel Melo - Lorena FrÃ­es\n"
     ]
    }
   ],
   "source": [
    "import networkx as nx\n",
    "G=nx.Graph()\n",
    "\n",
    "print 'empezamos'\n",
    "for articulo in articulos:\n",
    "    if '2016' not in articulo.attrs['href']:\n",
    "        continue\n",
    "    browser.follow_link(articulo)\n",
    "    texto = browser.select('.cuerpo-noticia')\n",
    "    if texto:\n",
    "        texto = texto[0].text\n",
    "    else:\n",
    "        continue        \n",
    "    try:\n",
    "        people = indicoio.people(texto, threshold=0.22)\n",
    "    except:\n",
    "        continue\n",
    "    palabras = []\n",
    "    for person in people:\n",
    "        nombre = person['text']\n",
    "        if is_person(nombre):\n",
    "            palabras.append(nombre)            \n",
    "    for palabra1 in set(palabras):\n",
    "        G.add_node(palabra1)\n",
    "        for palabra2 in set(palabras):\n",
    "            if palabra1 != palabra2:\n",
    "                G.add_edge(palabra1, palabra2)\n",
    "                print palabra1, '-', palabra2\n",
    "print \"terminamos\""
   ]
  },
  {
   "cell_type": "code",
   "execution_count": null,
   "metadata": {
    "collapsed": false
   },
   "outputs": [],
   "source": [
    "for i in G.nodes()[:20]:\n",
    "    print i"
   ]
  },
  {
   "cell_type": "code",
   "execution_count": null,
   "metadata": {
    "collapsed": false
   },
   "outputs": [],
   "source": [
    "for i in G.edges()[:20]:\n",
    "    print i"
   ]
  },
  {
   "cell_type": "code",
   "execution_count": null,
   "metadata": {
    "collapsed": false
   },
   "outputs": [],
   "source": [
    "import json\n",
    "from networkx.readwrite import json_graph\n",
    " \n",
    "for n in G:\n",
    "    G.node[n]['name'] = n\n",
    " \n",
    "d = json_graph.node_link_data(G)\n",
    "json.dump(d, open('force/force.json','w'), sort_keys=True, indent=4, separators=(',', ': '))"
   ]
  },
  {
   "cell_type": "markdown",
   "metadata": {},
   "source": [
    "[json 1](force/force.json)\n",
    "\n",
    "[grafo 1](force/force.html)"
   ]
  },
  {
   "cell_type": "code",
   "execution_count": null,
   "metadata": {
    "collapsed": false
   },
   "outputs": [],
   "source": [
    "to_remove = []\n",
    "G2 = G.copy()\n",
    "for i in nx.connected_component_subgraphs(G2):\n",
    "    c = nx.average_clustering(i)\n",
    "    if c==1 or c==0:\n",
    "        to_remove.append(i)\n",
    "        \n",
    "for i in to_remove:        \n",
    "    G2.remove_nodes_from(i)\n",
    "\n",
    "for n in G2:\n",
    "    G2.node[n]['name'] = n\n",
    " \n",
    "d = json_graph.node_link_data(G2)\n",
    "json.dump(d, open('force2/force.json','w'), sort_keys=True, indent=4, separators=(',', ': '))"
   ]
  },
  {
   "cell_type": "markdown",
   "metadata": {
    "collapsed": true
   },
   "source": [
    "[json 2](force2/force.json)\n",
    "\n",
    "[grafo 2](force2/force.html)"
   ]
  },
  {
   "cell_type": "code",
   "execution_count": null,
   "metadata": {
    "collapsed": true
   },
   "outputs": [],
   "source": []
  }
 ],
 "metadata": {
  "kernelspec": {
   "display_name": "Python 2",
   "language": "python",
   "name": "python2"
  },
  "language_info": {
   "codemirror_mode": {
    "name": "ipython",
    "version": 2
   },
   "file_extension": ".py",
   "mimetype": "text/x-python",
   "name": "python",
   "nbconvert_exporter": "python",
   "pygments_lexer": "ipython2",
   "version": "2.7.10"
  }
 },
 "nbformat": 4,
 "nbformat_minor": 0
}
