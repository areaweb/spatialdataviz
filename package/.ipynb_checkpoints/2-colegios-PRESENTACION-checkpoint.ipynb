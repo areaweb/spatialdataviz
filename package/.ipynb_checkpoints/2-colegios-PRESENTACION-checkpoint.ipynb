{
 "cells": [
  {
   "cell_type": "markdown",
   "metadata": {},
   "source": [
    "[Puntajes PSU](http://www.emol.com/noticias/nacional/2014/12/28/696553/ranking-los-100-colegios-con-mejor-puntaje-promedio-en-la-psu.html)"
   ]
  },
  {
   "cell_type": "code",
   "execution_count": 1,
   "metadata": {
    "collapsed": false
   },
   "outputs": [
    {
     "name": "stdout",
     "output_type": "stream",
     "text": [
      "<tr>\n",
      "    <td align=\"center\">1</td>\n",
      "    <td>Colegio    Cordillera de Las Condes</td>\n",
      "    <td>Las    Condes</td>\n",
      "    <td>Particular    pagado</td>\n",
      "    <td align=\"center\">60</td>\n",
      "    <td align=\"center\">695,50</td>\n",
      "  </tr>\n"
     ]
    }
   ],
   "source": [
    "from robobrowser import RoboBrowser\n",
    "import geocoder\n",
    "import folium\n",
    "\n",
    "browser = RoboBrowser(history=True, parser='html5lib')\n",
    "url = 'http://www.emol.com/noticias/nacional/2014/12/28/696553/ranking-los-100-colegios-con-mejor-puntaje-promedio-en-la-psu.html'\n",
    "browser.open(url)\n",
    "rows = browser.select('#ranking-colegios-psu tbody tr')\n",
    "print rows[0]"
   ]
  },
  {
   "cell_type": "code",
   "execution_count": 2,
   "metadata": {
    "collapsed": false
   },
   "outputs": [
    {
     "name": "stdout",
     "output_type": "stream",
     "text": [
      "<td align=\"center\">1</td>\n",
      "<td>Colegio    Cordillera de Las Condes</td>\n",
      "<td>Las    Condes</td>\n",
      "<td>Particular    pagado</td>\n",
      "<td align=\"center\">60</td>\n",
      "<td align=\"center\">695,50</td>\n"
     ]
    }
   ],
   "source": [
    "for row in rows[0].findAll('td'):\n",
    "    print row"
   ]
  },
  {
   "cell_type": "code",
   "execution_count": 3,
   "metadata": {
    "collapsed": false
   },
   "outputs": [
    {
     "name": "stdout",
     "output_type": "stream",
     "text": [
      "Colegio Cordillera de Las Condes / Las    Condes / 695.5\n",
      "Colegio Tabancura / Vitacura / 687.92\n",
      "Instituto Alonso de Ercilla / Santiago / 684.7\n",
      "The Kent School / Providencia / 683.97\n",
      "Cambridge College / Providencia / 677.91\n",
      "Andree English School / La Reina / 675.54\n",
      "The Southern Cross School / Las Condes / 675.41\n",
      "Colegio San Jorge / Laja / 674.03\n",
      "Fundación Educacional Santiago College / Lo Barnechea / 671.52\n",
      "Colegio Los Andes / Vitacura / 669.0\n",
      "Colegio Particular Montessori / Talca / 667.89\n",
      "Colegio Pinares / Chiguayante / 666.92\n",
      "Colegio San Ignacio El Bosque / Providencia / 666.48\n",
      "Instituto Nacional General José M. Carrera / Santiago / 666.33\n",
      "Instituto Alemán Carlos Anwandter de Valdivia / Valdivia / 665.85\n",
      "Fundación Educ. Colegio Champagnat / Villa Alemana / 665.84\n",
      "The Grange School / La Reina / 665.74\n",
      "Colegio Itahue / Chiguayante / 665.64\n",
      "Colegio Trebulco / Talagante / 664.47\n",
      "Colegio Francisco Encina / Ñuñoa / 664.44\n",
      "Colegio Particular NÂ° 26 Serena / La Serena / 663.75\n",
      "Colegio Everest / Lo Barnechea / 663.62\n",
      "Colegio Del Verbo Divino / Las Condes / 663.59\n",
      "Instituto Ingles de Rancagua / Rancagua / 662.92\n",
      "Liceo Carmela Carvajal de Prat (ex. A-44) / Providencia / 662.38\n",
      "Colegio Cumbres / Las Condes / 662.26\n",
      "Saint Gabriel'sÂ  School / Providencia / 661.99\n",
      "Colegio Alemán de Santiago / Las Condes / 661.75\n",
      "Colegio Alemán / Villarrica / 660.88\n",
      "The Mayflower School / Las Condes / 660.56\n",
      "Lycee de L'alliance Francaise A. deÂ  St.-Exupery / Vitacura / 660.44\n",
      "Colegio Internacional Alba / Maipú / 660.37\n",
      "Colegio Los Alerces / Lo Barnechea / 659.1\n",
      "Colegio Constitución / Constitución / 658.97\n",
      "Colegio Británico St. Margaret's / Con Con / 658.71\n",
      "Saint George'sÂ  College / Vitacura / 658.11\n",
      "Colegio Montemar / Viña del Mar / 657.42\n",
      "Colegio Alemán St. Thomas Morus / Providencia / 657.36\n",
      "Colegio La Girouette / Las Condes / 657.14\n",
      "Colegio Akros / Ñuñoa / 656.84\n",
      "The English Institute / Providencia / 656.75\n",
      "Liceo Augusto D'Halmar / Ñuñoa / 656.73\n",
      "Instituto Alemán de Puerto Montt / Puerto Montt / 655.78\n",
      "Colegio Hebreo Dr. Jaim Weitzman / Viña del Mar / 655.43\n",
      "Colegio Particular San Lorenzo / Copiapó / 655.19\n",
      "Redland School / Las Condes / 655.1\n",
      "Colegio Sagrada Familia / Viña del Mar / 654.61\n",
      "The Newland School / Lo Barnechea / 654.29\n",
      "Colegio Dunalastair / Las Condes / 653.91\n",
      "Fundación Educ. Colegio de los SSCC-Manquehue / Vitacura / 653.9\n",
      "Colegio Craighouse / Lo Barnechea / 653.74\n",
      "Colegio del Sagrado Corazón de Apoquindo / Las Condes / 653.39\n",
      "Colegio Alemán de Puerto Varas / Puerto Varas / 652.88\n",
      "Trewhela's English School / Providencia / 652.64\n",
      "Colegio Pedro de Valdivia Las Condes / Las Condes / 652.42\n",
      "Colegio Tabor y Nazareth / Lo Barnechea / 652.31\n",
      "Colegio Internacional Sek-chile / Las Condes / 652.15\n",
      "Saint Mary Joseph School / Macul / 651.97\n",
      "Colegio Maimonides School / Lo Barnechea / 651.79\n",
      "Colegio Padre Hurtado y Juanita de Los Andes / Las Condes / 651.69\n",
      "Colegio Huelén / Vitacura / 651.5\n",
      "Colegio San Benito / Vitacura / 651.31\n",
      "Colegio Calasanz / Ñuñoa / 651.07\n",
      "Colegio Dunalastair Valle Norte / Colina / 650.93\n",
      "Greenhouse School / Temuco / 650.52\n",
      "Colegio Internacional Antofagasta / Antofagasta / 650.5\n",
      "Colegio Pedro de Valdivia-Agustinas / Santiago / 650.08\n",
      "Colegio Alemán de Valparaíso / Viña del Mar / 649.96\n",
      "Colegio San José de Chicureo / Colina / 649.81\n",
      "Colegio Pedro de Valdivia - Providencia / Providencia / 649.67\n",
      "Liceo Bicentenario San Pedro de Puente Alto / Puente Alto / 649.17\n",
      "Colegio San Francisco Javier / Puerto Montt / 648.58\n",
      "Colegio Suizo de Santiago / Ñuñoa / 647.97\n",
      "Colegio San Isidro / Buin / 647.93\n",
      "Colegio Particular San José / Angol / 647.71\n",
      "Colegio Josefino Santísima Trinidad / Providencia / 647.34\n",
      "Colegio Campanario / Buin / 647.32\n",
      "Colegio Pumahue / Peñalolén / 647.09\n",
      "Colegio Santa Úrsula / Vitacura / 645.67\n",
      "Colegio Albamar / Viña del Mar / 644.56\n",
      "Colegio Universitario Antonio Rendic / Antofagasta / 644.28\n",
      "Instituto Hebreo Dr. Chaim Weizmann / Lo Barnechea / 644.24\n",
      "Colegio San Anselmo / Colina / 644.0\n",
      "Instituto O'Higgins / Rancagua / 643.91\n",
      "Colegio Nido de Águilas / Lo Barnechea / 643.16\n",
      "Saint Gaspar College / Ñuñoa / 642.54\n",
      "The Thomas Jefferson School / Talcahuano / 642.47\n",
      "Villa María Academy / Las Condes / 642.25\n",
      "Lincoln International Academy / Lo Barnechea / 642.11\n",
      "Colegio Wenlock School / Las Condes / 641.91\n",
      "Almondale / San Pedro de    la Paz / 641.3\n",
      "Colegio San Luis Antofagasta / Antofagasta / 641.26\n",
      "The Mackay School / Viña del Mar / 640.97\n",
      "Colegio San Ignacio / Santiago / 640.65\n",
      "Fundación Educacional Colegio de los SSCC / Talcahuano / 640.26\n",
      "Colegio Inglés Saint John / Rancagua / 640.15\n",
      "Colegio Santa Cruz de Chicureo / Colina / 640.12\n",
      "Colegio Alemán Temuco / Temuco / 639.27\n",
      "Liceo Jean Mermoz Alianza Francesa / Curicó / 639.21\n",
      "Fundación Educ. Colegio de los Sagrados Corazones / Santiago / 638.85\n"
     ]
    }
   ],
   "source": [
    "colegios = []\n",
    "for row in rows:\n",
    "    cols = row.findAll('td')\n",
    "    nombre = cols[1].text.strip()\n",
    "    comuna = cols[2].text.strip()\n",
    "    puntaje = float(cols[5].text.strip().replace(',','.'))\n",
    "    while '  ' in nombre:\n",
    "        nombre = nombre.replace('  ',' ')\n",
    "    colegios.append((nombre, comuna, puntaje))\n",
    "    print nombre, \"/\", comuna, \"/\", puntaje"
   ]
  },
  {
   "cell_type": "code",
   "execution_count": null,
   "metadata": {
    "collapsed": false
   },
   "outputs": [
    {
     "name": "stdout",
     "output_type": "stream",
     "text": [
      "[-33.4087844, -70.567069]\n",
      "[-33.3802725, -70.5371692]\n",
      "[-33.52329, -70.5860636]\n",
      "[-33.4424781, -70.6067317]\n",
      "[-33.4314474, -70.6093325]\n",
      "[-33.4411269, -70.5340591]\n",
      "[-33.4087844, -70.567069]\n",
      "[]\n",
      "[-33.352669, -70.518517]\n",
      "[-33.3905211, -70.57241239999999]\n",
      "[-35.4232444, -71.6484804]\n",
      "[-36.93159610000001, -73.02267669999999]\n",
      "[-33.428503, -70.5959871]\n",
      "[-33.4428544, -70.75122429999999]\n",
      "[-39.8173788, -73.24253329999999]\n",
      "[-33.0516935, -71.3906234]\n",
      "[-33.4411269, -70.5340591]\n",
      "[-36.9532166, -73.01737800000001]\n",
      "[-33.6793151, -70.9491267]\n",
      "[-33.4566678, -70.5978415]\n",
      "[-29.9026691, -71.2519374]\n",
      "[-33.352669, -70.518517]\n",
      "[-33.4087844, -70.567069]\n",
      "[-34.17013240000001, -70.7406259]\n",
      "[-33.4314474, -70.6093325]\n",
      "[-33.4087844, -70.567069]\n",
      "[-33.4314474, -70.6093325]\n",
      "[-33.4087844, -70.567069]\n",
      "[-39.2820124, -72.2307798]\n",
      "[-33.4087844, -70.567069]\n",
      "[-33.3905211, -70.57241239999999]\n",
      "[-33.5209155, -70.7631335]\n",
      "[-33.3635041, -70.5188585]\n",
      "[-35.3294573, -72.4129615]\n",
      "[]\n",
      "[-33.3905211, -70.57241239999999]\n",
      "[-33.0432505, -71.5572038]\n",
      "[-33.4314474, -70.6093325]\n",
      "[-33.4087844, -70.567069]\n",
      "[-33.4566678, -70.5978415]\n",
      "[-33.4314474, -70.6093325]\n",
      "[-33.4566678, -70.5978415]\n",
      "[-41.468917, -72.94113639999999]\n",
      "[-33.0153481, -71.55002759999999]\n",
      "[-27.3665763, -70.3321587]\n",
      "[-33.4087844, -70.567069]\n",
      "[-33.0153481, -71.55002759999999]\n",
      "[-33.352669, -70.518517]\n",
      "[-33.4087844, -70.567069]\n",
      "[-33.3905211, -70.57241239999999]\n",
      "[-33.352669, -70.518517]\n",
      "[-33.4, -70.533333]\n",
      "[-41.3167, -72.9833]\n",
      "[-33.4314474, -70.6093325]\n",
      "[-33.4087844, -70.567069]\n",
      "[-33.3238035, -70.5411814]\n",
      "[-33.4087844, -70.567069]\n",
      "[-33.4851471, -70.5992005]\n",
      "[-33.352669, -70.518517]\n",
      "[-33.4087844, -70.567069]\n",
      "[-33.3905211, -70.57241239999999]\n",
      "[-33.3905211, -70.57241239999999]\n",
      "[-33.4566678, -70.5978415]\n",
      "[-33.192573, -70.65763260000001]\n",
      "[-38.7359018, -72.5903739]\n",
      "[-23.6509279, -70.39750219999999]\n",
      "[-33.4418322, -70.6620143]\n",
      "[-33.0153481, -71.55002759999999]\n",
      "[-33.2756218, -70.6480656]\n",
      "[-33.4314474, -70.6093325]\n",
      "[-33.6186082, -70.5906057]\n",
      "[-41.468917, -72.94113639999999]\n",
      "[-33.4566678, -70.5978415]\n",
      "[-33.7309374, -70.7423218]\n",
      "[-37.8060734, -72.70380469999999]\n",
      "[-33.4314474, -70.6093325]\n",
      "[-33.7309374, -70.7423218]\n",
      "[-33.4719116, -70.5627854]\n",
      "[-33.3905211, -70.57241239999999]\n",
      "[-32.9958916, -71.5134581]\n",
      "[-23.6509279, -70.39750219999999]\n",
      "[-33.352669, -70.518517]\n",
      "[-33.2044597, -70.6758505]\n",
      "[-34.17013240000001, -70.7406259]\n",
      "[-33.3506528, -70.5032312]\n",
      "[-33.4566678, -70.5978415]\n",
      "[-36.7842182, -73.0982618]\n",
      "[-33.4087844, -70.567069]\n",
      "[-33.352669, -70.518517]\n",
      "[-33.4087844, -70.567069]\n",
      "[-36.8341672, -73.10278029999999]\n",
      "[-23.6509279, -70.39750219999999]\n",
      "[-33.0153481, -71.55002759999999]\n",
      "[-33.4470243, -70.655081]\n",
      "[-36.7247834, -73.1169808]\n",
      "[-34.17013240000001, -70.7406259]\n",
      "[-33.2756218, -70.6480656]\n",
      "[-38.7359018, -72.5903739]\n",
      "[-34.9779853, -71.2528803]\n",
      "[-33.4446588, -70.5923455]\n"
     ]
    }
   ],
   "source": [
    "posiciones = []\n",
    "for nombre, comuna, puntaje in colegios:\n",
    "    g=geocoder.google(nombre +\", \"+ comuna + \", chile\")\n",
    "    print g.latlng\n",
    "    if g.latlng:\n",
    "        posiciones.append((g.latlng, puntaje, nombre))"
   ]
  },
  {
   "cell_type": "code",
   "execution_count": null,
   "metadata": {
    "collapsed": true
   },
   "outputs": [],
   "source": []
  },
  {
   "cell_type": "code",
   "execution_count": null,
   "metadata": {
    "collapsed": false,
    "scrolled": false
   },
   "outputs": [],
   "source": [
    "map = folium.Map(location=[-33.39, -70.57], zoom_start=10)\n",
    "i=0\n",
    "posiciones.reverse()\n",
    "for latlng, puntaje, nombre in posiciones:\n",
    "    lat,lon = latlng\n",
    "    radio = 100\n",
    "    map.add_children(folium.CircleMarker([lat,lon],color='#000000',\n",
    "                    fill_color=\"#f00\", radius=1000, popup=u\"%s %s\" % (nombre, puntaje)))\n",
    "    i+=1\n",
    "map.save('colegios.html')\n",
    "map"
   ]
  },
  {
   "cell_type": "markdown",
   "metadata": {},
   "source": [
    "[mapa](colegios.html)"
   ]
  },
  {
   "cell_type": "code",
   "execution_count": null,
   "metadata": {
    "collapsed": true
   },
   "outputs": [],
   "source": []
  }
 ],
 "metadata": {
  "kernelspec": {
   "display_name": "Python 2",
   "language": "python",
   "name": "python2"
  },
  "language_info": {
   "codemirror_mode": {
    "name": "ipython",
    "version": 2
   },
   "file_extension": ".py",
   "mimetype": "text/x-python",
   "name": "python",
   "nbconvert_exporter": "python",
   "pygments_lexer": "ipython2",
   "version": "2.7.10"
  }
 },
 "nbformat": 4,
 "nbformat_minor": 0
}
