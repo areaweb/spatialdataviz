{
 "cells": [
  {
   "cell_type": "markdown",
   "metadata": {},
   "source": [
    "pip install pandas geocoder folium"
   ]
  },
  {
   "cell_type": "markdown",
   "metadata": {},
   "source": [
    "[Addresses.csv](data/Addresses.csv)\n"
   ]
  },
  {
   "cell_type": "code",
   "execution_count": 1,
   "metadata": {
    "collapsed": false
   },
   "outputs": [
    {
     "data": {
      "text/html": [
       "<div>\n",
       "<table border=\"1\" class=\"dataframe\">\n",
       "  <thead>\n",
       "    <tr style=\"text-align: right;\">\n",
       "      <th></th>\n",
       "      <th>address</th>\n",
       "      <th>icij_id</th>\n",
       "      <th>valid_until</th>\n",
       "      <th>country_codes</th>\n",
       "      <th>countries</th>\n",
       "      <th>node_id</th>\n",
       "      <th>sourceID</th>\n",
       "    </tr>\n",
       "  </thead>\n",
       "  <tbody>\n",
       "    <tr>\n",
       "      <th>0</th>\n",
       "      <td>-\\t27 ROSEWOOD DRIVE #16-19 SINGAPORE 737920</td>\n",
       "      <td>6991059DFFB057DF310B9BF31CC4A0E6</td>\n",
       "      <td>The Panama Papers  data is current through 2015</td>\n",
       "      <td>SGP</td>\n",
       "      <td>Singapore</td>\n",
       "      <td>14000001</td>\n",
       "      <td>Panama Papers</td>\n",
       "    </tr>\n",
       "    <tr>\n",
       "      <th>1</th>\n",
       "      <td>\"Almaly Village\" v.5, Almaty Kazakhstan</td>\n",
       "      <td>C65A269424AA1A8BBAC416FA30150938</td>\n",
       "      <td>The Panama Papers  data is current through 2015</td>\n",
       "      <td>KAZ</td>\n",
       "      <td>Kazakhstan</td>\n",
       "      <td>14000002</td>\n",
       "      <td>Panama Papers</td>\n",
       "    </tr>\n",
       "    <tr>\n",
       "      <th>2</th>\n",
       "      <td>\"Cantonia\" South Road St Georges Hill Weybridg...</td>\n",
       "      <td>240EE44DFB70AF775E6CD02AF8CB889B</td>\n",
       "      <td>The Panama Papers  data is current through 2015</td>\n",
       "      <td>GBR</td>\n",
       "      <td>United Kingdom</td>\n",
       "      <td>14000003</td>\n",
       "      <td>Panama Papers</td>\n",
       "    </tr>\n",
       "    <tr>\n",
       "      <th>3</th>\n",
       "      <td>\"CAY-OS\" NEW ROAD; ST.SAMPSON; GUERNSEY; CHANN...</td>\n",
       "      <td>340C6D3D2FC60AE58C53BB3618129C43</td>\n",
       "      <td>The Panama Papers  data is current through 2015</td>\n",
       "      <td>GGY</td>\n",
       "      <td>Guernsey</td>\n",
       "      <td>14000004</td>\n",
       "      <td>Panama Papers</td>\n",
       "    </tr>\n",
       "    <tr>\n",
       "      <th>4</th>\n",
       "      <td>\"Chirag\" Plot No 652; Mwamba Road; Kizingo; Mo...</td>\n",
       "      <td>6DBCD74F5AAB63EABC166885CE8CD7CD</td>\n",
       "      <td>The Panama Papers  data is current through 2015</td>\n",
       "      <td>KEN</td>\n",
       "      <td>Kenya</td>\n",
       "      <td>14000005</td>\n",
       "      <td>Panama Papers</td>\n",
       "    </tr>\n",
       "  </tbody>\n",
       "</table>\n",
       "</div>"
      ],
      "text/plain": [
       "                                             address  \\\n",
       "0       -\\t27 ROSEWOOD DRIVE #16-19 SINGAPORE 737920   \n",
       "1            \"Almaly Village\" v.5, Almaty Kazakhstan   \n",
       "2  \"Cantonia\" South Road St Georges Hill Weybridg...   \n",
       "3  \"CAY-OS\" NEW ROAD; ST.SAMPSON; GUERNSEY; CHANN...   \n",
       "4  \"Chirag\" Plot No 652; Mwamba Road; Kizingo; Mo...   \n",
       "\n",
       "                            icij_id  \\\n",
       "0  6991059DFFB057DF310B9BF31CC4A0E6   \n",
       "1  C65A269424AA1A8BBAC416FA30150938   \n",
       "2  240EE44DFB70AF775E6CD02AF8CB889B   \n",
       "3  340C6D3D2FC60AE58C53BB3618129C43   \n",
       "4  6DBCD74F5AAB63EABC166885CE8CD7CD   \n",
       "\n",
       "                                       valid_until country_codes  \\\n",
       "0  The Panama Papers  data is current through 2015           SGP   \n",
       "1  The Panama Papers  data is current through 2015           KAZ   \n",
       "2  The Panama Papers  data is current through 2015           GBR   \n",
       "3  The Panama Papers  data is current through 2015           GGY   \n",
       "4  The Panama Papers  data is current through 2015           KEN   \n",
       "\n",
       "        countries   node_id       sourceID  \n",
       "0       Singapore  14000001  Panama Papers  \n",
       "1      Kazakhstan  14000002  Panama Papers  \n",
       "2  United Kingdom  14000003  Panama Papers  \n",
       "3        Guernsey  14000004  Panama Papers  \n",
       "4           Kenya  14000005  Panama Papers  "
      ]
     },
     "execution_count": 1,
     "metadata": {},
     "output_type": "execute_result"
    }
   ],
   "source": [
    "import pandas\n",
    "adds = pandas.read_csv(\"data/Addresses.csv\", dtype=str)\n",
    "adds.head()"
   ]
  },
  {
   "cell_type": "code",
   "execution_count": 2,
   "metadata": {
    "collapsed": false
   },
   "outputs": [
    {
     "data": {
      "text/html": [
       "<div>\n",
       "<table border=\"1\" class=\"dataframe\">\n",
       "  <thead>\n",
       "    <tr style=\"text-align: right;\">\n",
       "      <th></th>\n",
       "      <th>address</th>\n",
       "      <th>icij_id</th>\n",
       "      <th>valid_until</th>\n",
       "      <th>country_codes</th>\n",
       "      <th>countries</th>\n",
       "      <th>node_id</th>\n",
       "      <th>sourceID</th>\n",
       "    </tr>\n",
       "  </thead>\n",
       "  <tbody>\n",
       "    <tr>\n",
       "      <th>24883</th>\n",
       "      <td>Aguas Claras 220; Dept 61; Lo Barnechea; Santi...</td>\n",
       "      <td>46749D72F7E660E52A483B3CA3EB7B70</td>\n",
       "      <td>The Panama Papers  data is current through 2015</td>\n",
       "      <td>CHL</td>\n",
       "      <td>Chile</td>\n",
       "      <td>14025407</td>\n",
       "      <td>Panama Papers</td>\n",
       "    </tr>\n",
       "    <tr>\n",
       "      <th>24887</th>\n",
       "      <td>Agustin del Castillo 2400; Depto. 501; Comuna ...</td>\n",
       "      <td>C5E4806B33902C4F1F65D1856C3BB21A</td>\n",
       "      <td>The Panama Papers  data is current through 2015</td>\n",
       "      <td>CHL</td>\n",
       "      <td>Chile</td>\n",
       "      <td>14025411</td>\n",
       "      <td>Panama Papers</td>\n",
       "    </tr>\n",
       "    <tr>\n",
       "      <th>25887</th>\n",
       "      <td>Alcalde Edo Castillo Velasco 2054; Ñuñoa; Sant...</td>\n",
       "      <td>777AAC999799D024AECAAE60BFD5C51B</td>\n",
       "      <td>The Panama Papers  data is current through 2015</td>\n",
       "      <td>CHL</td>\n",
       "      <td>Chile</td>\n",
       "      <td>14026411</td>\n",
       "      <td>Panama Papers</td>\n",
       "    </tr>\n",
       "    <tr>\n",
       "      <th>26105</th>\n",
       "      <td>Alonso de Sotomayor 4200; Dp. 503; Vitacura; S...</td>\n",
       "      <td>52C2383B9B60D005B6B7E9214FF28B49</td>\n",
       "      <td>The Panama Papers  data is current through 2015</td>\n",
       "      <td>CHL</td>\n",
       "      <td>Chile</td>\n",
       "      <td>14026629</td>\n",
       "      <td>Panama Papers</td>\n",
       "    </tr>\n",
       "    <tr>\n",
       "      <th>26234</th>\n",
       "      <td>Amapolas 1625; Depto.605; Providencia; Santiag...</td>\n",
       "      <td>ED343556BD9F48DDAADC62CE76783001</td>\n",
       "      <td>The Panama Papers  data is current through 2015</td>\n",
       "      <td>CHL</td>\n",
       "      <td>Chile</td>\n",
       "      <td>14026758</td>\n",
       "      <td>Panama Papers</td>\n",
       "    </tr>\n",
       "  </tbody>\n",
       "</table>\n",
       "</div>"
      ],
      "text/plain": [
       "                                                 address  \\\n",
       "24883  Aguas Claras 220; Dept 61; Lo Barnechea; Santi...   \n",
       "24887  Agustin del Castillo 2400; Depto. 501; Comuna ...   \n",
       "25887  Alcalde Edo Castillo Velasco 2054; Ñuñoa; Sant...   \n",
       "26105  Alonso de Sotomayor 4200; Dp. 503; Vitacura; S...   \n",
       "26234  Amapolas 1625; Depto.605; Providencia; Santiag...   \n",
       "\n",
       "                                icij_id  \\\n",
       "24883  46749D72F7E660E52A483B3CA3EB7B70   \n",
       "24887  C5E4806B33902C4F1F65D1856C3BB21A   \n",
       "25887  777AAC999799D024AECAAE60BFD5C51B   \n",
       "26105  52C2383B9B60D005B6B7E9214FF28B49   \n",
       "26234  ED343556BD9F48DDAADC62CE76783001   \n",
       "\n",
       "                                           valid_until country_codes  \\\n",
       "24883  The Panama Papers  data is current through 2015           CHL   \n",
       "24887  The Panama Papers  data is current through 2015           CHL   \n",
       "25887  The Panama Papers  data is current through 2015           CHL   \n",
       "26105  The Panama Papers  data is current through 2015           CHL   \n",
       "26234  The Panama Papers  data is current through 2015           CHL   \n",
       "\n",
       "      countries   node_id       sourceID  \n",
       "24883     Chile  14025407  Panama Papers  \n",
       "24887     Chile  14025411  Panama Papers  \n",
       "25887     Chile  14026411  Panama Papers  \n",
       "26105     Chile  14026629  Panama Papers  \n",
       "26234     Chile  14026758  Panama Papers  "
      ]
     },
     "execution_count": 2,
     "metadata": {},
     "output_type": "execute_result"
    }
   ],
   "source": [
    "adds=adds[adds['countries']=='Chile']\n",
    "adds=adds[adds['address'].str.contains(\"Santiago\")]\n",
    "adds.head()"
   ]
  },
  {
   "cell_type": "code",
   "execution_count": 3,
   "metadata": {
    "collapsed": false
   },
   "outputs": [
    {
     "name": "stdout",
     "output_type": "stream",
     "text": [
      "[-33.4210835, -70.5918529]\n"
     ]
    }
   ],
   "source": [
    "import geocoder\n",
    "g = geocoder.google(u\"Pdte Errazuriz 3485, Las Condes, Chile\" )\n",
    "print g.latlng"
   ]
  },
  {
   "cell_type": "code",
   "execution_count": 4,
   "metadata": {
    "collapsed": false
   },
   "outputs": [
    {
     "name": "stdout",
     "output_type": "stream",
     "text": [
      "-33.3582893 -70.5469872\n",
      "-33.3905211 -70.5724124\n",
      "fail Agustin del Castillo 2400; Depto. 501; Comuna de Vitacura; Santiago; Chile.\n",
      "-33.5773014 -70.653724\n",
      "-33.4303296 -70.5907291\n",
      "fail Amapolas 1625; Depto.605; Providencia; Santiago; Chile.\n",
      "fail Amapolas 1625; Depto.605; Providencia; Santiago; Chile.\n",
      "-33.3742128 -70.6367425\n",
      "-33.4441274 -70.62679\n",
      "-33.4378305 -70.6504492\n",
      "-33.4378305 -70.6504492\n",
      "fail Avenida del valle 961; Oficina 3705; Ciudad Empresarial Huechuraba; 8580710 Santiago; Chile\n",
      "-33.4421135 -70.7640644\n",
      "-33.4510482 -70.6024573\n",
      "-33.3975364 -70.5835587\n",
      "-33.3616728 -70.5052032\n",
      "-33.3703906 -70.5117619\n",
      "-33.3759135 -70.579807\n",
      "-33.4087844 -70.567069\n",
      "-33.4053859 -70.5763118\n",
      "-33.4087844 -70.567069\n",
      "fail C/El Convento 720; Comuna De Las Condes; Santiago Chile\n",
      "fail Calle Asturias 280; oficina 701; Las Condes; Santiago de Chile; Rep. de Chile\n",
      "-33.4437335 -70.6279455\n",
      "-33.4151297 -70.5922177\n",
      "fail Calle El Golf 40 piso 12, Las Condes Santiago de Chile\n",
      "fail Calle El Golf 40 piso 12, Las Condes Santiago de Chile\n",
      "-33.4586717 -70.5611267\n",
      "fail Camberra 620; La Reina; Santiago; Chile.\n",
      "-33.3243917 -70.5438346\n",
      "-33.3958845 -70.5411324\n",
      "-33.396093 -70.5411396\n",
      "-33.411979 -70.5349449\n",
      "fail Con domicilio en Rio Guadiana 9226; Las Condes; Santiago; Chile\n",
      "fail Con domicilio en Rio Guadiana 9226; Las Condes; Santiago; Chile\n",
      "-33.3548464 -70.5165236\n",
      "fail Encomenderos 253; Oficina 12; Comunas de las Condes; Santiago de Chile; 7550166\n",
      "-33.3969263 -70.5995975\n",
      "-33.3905211 -70.5724124\n",
      "-33.4302275 -70.6177735\n",
      "-33.2832474 -70.6345255\n",
      "-33.4314938 -70.6230083\n",
      "fail Huelen 56; Dpto.B; Proviencia; Santiago; Chile.\n",
      "-33.4399766 -70.6531155\n",
      "-33.4396964 -70.6516078\n",
      "-33.4330125 -70.6234459\n",
      "-33.4160087 -70.5668379\n",
      "fail La Capitania 939 depto. 165; Las Condes; Santiago; Chile.\n",
      "-33.4311581 -70.6025654\n",
      "-33.4078266 -70.5758832\n",
      "-33.3608369 -70.5273465\n",
      "-33.3892541 -70.5884347\n",
      "-33.4143118 -70.5935384\n",
      "fail Magdalena 140; Piso 21; Las Condes; Santiago; Chile\n",
      "fail Magdalena 140; Piso 21; Las Condes; Santiago; Chile\n",
      "fail Magdalena 140; Piso 21; Las Condes; Santiago; Chile\n",
      "-33.4438263 -70.6173071\n",
      "-33.4293898 -70.6277326\n",
      "-33.399852 -70.598181\n",
      "-33.3397426 -70.7114504\n",
      "fail Panamericana Norte 1890; Lampa Santiago; Chile\n",
      "-33.3615798 -70.482196\n",
      "fail Pastor Fernandez 16200 Lo Barnechea; Santiago; Chile\n",
      "-33.4400089 -70.5483545\n",
      "fail Principe de Gales 8007 A La Reina; Santiago; Chile.\n",
      "fail Principe de Gales 8007 A La Reina; Santiago; Chile.\n",
      "-33.4087844 -70.567069\n",
      "-33.3291732 -70.7020092\n",
      "fail San Ignacio 101; Quilicura; Santiago; Chile.\n",
      "-33.4151832 -70.6006806\n",
      "fail San Sebastien; 27-30 Appt; 31 Las Condes; Santiago; Chile\n",
      "-33.3769042 -70.5832475\n",
      "-33.4235788 -70.5776717\n",
      "-33.3874219 -70.55135\n",
      "-33.3943929 -70.5929228\n",
      "-33.4143118 -70.5935384\n",
      "-33.4314474 -70.6093325\n",
      "-33.411979 -70.5349449\n",
      "-33.518938 -70.7668647\n",
      "-33.4378305 -70.6504492\n",
      "-33.4004059 -70.5290537\n",
      "fail Camino Mirasol 1569; Santiago Las Condes; Chile\n",
      "-33.4238329 -70.6224425\n",
      "-33.4168157 -70.5985298\n",
      "-33.3740683 -70.5470884\n",
      "-33.4405776 -70.6453107\n",
      "-33.3594861 -70.4825932\n",
      "-33.3758394 -70.5773706\n",
      "-33.4186107 -70.5919693\n",
      "-33.6096983 -70.5187863\n",
      "-33.4202268 -70.6041302\n",
      "-33.4550901 -70.6101592\n",
      "-33.4315749 -70.6370635\n",
      "-33.3838744 -70.5337925\n",
      "-33.4812278 -70.6341231\n",
      "-33.3895687 -70.5408764\n",
      "-33.4268479 -70.612612\n",
      "-33.3895687 -70.5408764\n",
      "-33.4131274 -70.5913517\n",
      "-33.4154993 -70.5953593\n"
     ]
    }
   ],
   "source": [
    "import folium\n",
    "import unicodedata\n",
    "coords = []\n",
    "x=0\n",
    "for name, row in adds.iterrows():\n",
    "    x+=1\n",
    "    if x>200:\n",
    "        break\n",
    "    try:\n",
    "        add= u\"%s\" % row['address']\n",
    "        add = unicodedata.normalize('NFD', add).encode('ascii', 'ignore')\n",
    "        g = geocoder.google(u\"%s\" % add)\n",
    "        lat, lon = g.latlng\n",
    "        coords.append(tuple(g.latlng))\n",
    "        print lat, lon\n",
    "    except:\n",
    "        print 'fail', add\n",
    "        continue"
   ]
  },
  {
   "cell_type": "markdown",
   "metadata": {},
   "source": [
    "[Stamen Toner](http://maps.stamen.com/toner/#15/-33.4187/-70.5908)"
   ]
  },
  {
   "cell_type": "code",
   "execution_count": 5,
   "metadata": {
    "collapsed": false,
    "scrolled": true
   },
   "outputs": [
    {
     "data": {
      "text/html": [
       "<div style=\"width:100%;\"><div style=\"position:relative;width:100%;height:0;padding-bottom:60%;\"><iframe src=\"data:text/html;base64,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\" style=\"position:absolute;width:100%;height:100%;left:0;top:0;\"></iframe></div></div>"
      ],
      "text/plain": [
       "<folium.folium.Map at 0x10f129490>"
      ]
     },
     "execution_count": 5,
     "metadata": {},
     "output_type": "execute_result"
    }
   ],
   "source": [
    "map = folium.Map(location=[-33.39, -70.57], zoom_start=10, tiles='Stamen Toner')\n",
    "for coord in coords:\n",
    "    lat,lon = coord\n",
    "    map.add_children(folium.CircleMarker([lat,lon],color='rgba(255,0,0,0.75)',\n",
    "                    fill_color='rgba(255,0,0,0.75)', radius=200))\n",
    "# Create and show the map.\n",
    "map.save('panama.html')\n",
    "map"
   ]
  },
  {
   "cell_type": "markdown",
   "metadata": {
    "collapsed": true
   },
   "source": [
    "[panama.html](panama.html)"
   ]
  }
 ],
 "metadata": {
  "kernelspec": {
   "display_name": "Python 2",
   "language": "python",
   "name": "python2"
  },
  "language_info": {
   "codemirror_mode": {
    "name": "ipython",
    "version": 2
   },
   "file_extension": ".py",
   "mimetype": "text/x-python",
   "name": "python",
   "nbconvert_exporter": "python",
   "pygments_lexer": "ipython2",
   "version": "2.7.10"
  }
 },
 "nbformat": 4,
 "nbformat_minor": 0
}
