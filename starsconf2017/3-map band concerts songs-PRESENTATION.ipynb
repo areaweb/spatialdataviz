{
 "cells": [
  {
   "cell_type": "markdown",
   "metadata": {},
   "source": [
    "## https://www.setlist.fm/search?query=scorpions"
   ]
  },
  {
   "cell_type": "code",
   "execution_count": null,
   "metadata": {
    "collapsed": true
   },
   "outputs": [],
   "source": [
    "from robobrowser import RoboBrowser\n",
    "import geocoder\n",
    "import folium\n",
    "import pandas as pd\n",
    "import dateparser\n",
    "from joblib import Memory\n",
    "import difflib\n",
    "import pycountry\n",
    "from iso3166 import countries\n",
    "memory = Memory(cachedir='tmp', verbose=0)"
   ]
  },
  {
   "cell_type": "code",
   "execution_count": null,
   "metadata": {
    "scrolled": true
   },
   "outputs": [],
   "source": [
    "url = 'https://www.setlist.fm/search?query=scorpions'\n",
    "browser = RoboBrowser(history=True, parser='html5lib')\n",
    "browser.open(url)\n",
    "concert = browser.select('.setlistPreview')[0]\n",
    "concert"
   ]
  },
  {
   "cell_type": "code",
   "execution_count": null,
   "metadata": {},
   "outputs": [],
   "source": [
    "day = concert.select('.day')[0].text\n",
    "month = concert.select('.month')[0].text\n",
    "year = concert.select('.year')[0].text\n",
    "desc = concert.select('h2 a')[0].text\n",
    "print(day,month,year,desc)"
   ]
  },
  {
   "cell_type": "code",
   "execution_count": null,
   "metadata": {},
   "outputs": [],
   "source": [
    "idx = desc.find(' at ')+4\n",
    "loc = desc[idx:]\n",
    "loc_pieces = loc.split(',')\n",
    "if len(loc_pieces)>=3:\n",
    "    loc = ','.join(loc_pieces[-3:])\n",
    "print(loc)"
   ]
  },
  {
   "cell_type": "code",
   "execution_count": null,
   "metadata": {},
   "outputs": [],
   "source": [
    "g=geocoder.google(loc)\n",
    "print(g.geojson)\n"
   ]
  },
  {
   "cell_type": "code",
   "execution_count": null,
   "metadata": {},
   "outputs": [],
   "source": [
    "code=g.geojson['features'][0]['properties']['country']\n",
    "print(code)"
   ]
  },
  {
   "cell_type": "code",
   "execution_count": null,
   "metadata": {},
   "outputs": [],
   "source": [
    "from iso3166 import countries\n",
    "code=countries.get(code).alpha3\n",
    "print(code)"
   ]
  },
  {
   "cell_type": "code",
   "execution_count": null,
   "metadata": {
    "scrolled": false
   },
   "outputs": [],
   "source": [
    "@memory.cache\n",
    "def get_latlng(query):\n",
    "    try:\n",
    "        g=geocoder.google(query)\n",
    "        if g:\n",
    "            country = g.geojson['features'][0]['properties']['country']\n",
    "            code=countries.get(country).alpha3\n",
    "            print(query, g.latlng, code)\n",
    "            return g.latlng+[code]\n",
    "        else:\n",
    "            return None, None, None\n",
    "    except:\n",
    "        return None, None, None\n",
    "    \n",
    "\n",
    "@memory.cache\n",
    "def get_data_paged(query, page):\n",
    "    url = 'https://www.setlist.fm/search?page={}&query={}'.format(page, query)\n",
    "    browser.open(url.format(page))\n",
    "    data = []\n",
    "    for concert in browser.select('.setlistPreview'):\n",
    "        month = concert.select('.month')[0].text\n",
    "        day = concert.select('.day')[0].text\n",
    "        year = concert.select('.year')[0].text\n",
    "        datetext = \"{}, {} {}\".format(year, month, day)\n",
    "        date = dateparser.parse(datetext)\n",
    "        desc = concert.select('h2 a')[0].text\n",
    "        idx = desc.find(' at ')+4\n",
    "        loc = desc[idx:]\n",
    "        loc_pieces = loc.split(',')\n",
    "        #print(loc_pieces[-1],country)\n",
    "        if loc == None:\n",
    "            continue\n",
    "        if len(loc_pieces)>=3:\n",
    "            loc = ','.join(loc_pieces[-3:])\n",
    "        lat, lng, code = get_latlng(loc)\n",
    "        if lat and lng:\n",
    "            data.append([loc, lat, lng, code, date, desc])\n",
    "    return data\n",
    "    \n",
    "columns = ['loc', 'lat', 'lon', 'code', 'date', 'desc']\n",
    "concerts = pd.DataFrame(columns = columns)\n",
    "for page in range(1,15):\n",
    "    data = get_data_paged('Scorpions', page)\n",
    "    df = pd.DataFrame(data, columns = columns)\n",
    "    concerts = concerts.append(df)\n",
    "\n",
    "concerts.head(20)"
   ]
  },
  {
   "cell_type": "code",
   "execution_count": null,
   "metadata": {},
   "outputs": [],
   "source": [
    "import plotly.plotly as py\n",
    "\n",
    "great_lines = [ \n",
    "        dict(\n",
    "            type = 'scattergeo',\n",
    "            lon = concerts['lon'],\n",
    "            lat = concerts['lat'],\n",
    "            mode = 'lines',\n",
    "            line = dict(\n",
    "                    width = 1,\n",
    "                    color = 'rgba(255,0,0,0.5)',\n",
    "                    ),\n",
    "        )\n",
    "        ]\n",
    "venue_markers = [ dict(\n",
    "        type = 'scattergeo',\n",
    "        lon = concerts['lon'],\n",
    "        lat = concerts['lat'],\n",
    "        hoverinfo = 'loc',\n",
    "        text = concerts['loc'],\n",
    "        mode = 'markers',\n",
    "        marker = dict( \n",
    "            size=10, \n",
    "            color='rgba(255,0,0,0.5)',   \n",
    "        ))]\n",
    "    \n",
    "layout = dict(\n",
    "        title = 'recitales',\n",
    "        width = 1000,\n",
    "        height = 800,\n",
    "            showlegend = False, \n",
    "\n",
    "            showland = True,\n",
    "            showcountries = True,\n",
    "            showocean = True,\n",
    "            countrywidth = 0.5,\n",
    "            landcolor = '#fff',\n",
    "            oceancolor = '#eee',\n",
    "    \n",
    "        geo = dict(\n",
    "            projection = dict( \n",
    "                type = 'Mercator',          \n",
    "            ),\n",
    "            \n",
    "        )\n",
    "    )\n",
    "    \n",
    "fig = dict( data=great_lines+venue_markers, layout=layout )\n",
    "py.iplot( fig, validate=False, filename='d3-globe' )"
   ]
  },
  {
   "cell_type": "code",
   "execution_count": null,
   "metadata": {},
   "outputs": [],
   "source": [
    "df = concerts.groupby('code').count()\n",
    "df.head(20)"
   ]
  },
  {
   "cell_type": "code",
   "execution_count": null,
   "metadata": {
    "scrolled": true
   },
   "outputs": [],
   "source": [
    "df=df.reset_index()\n",
    "df.head(20)"
   ]
  },
  {
   "cell_type": "code",
   "execution_count": null,
   "metadata": {},
   "outputs": [],
   "source": [
    "data = [ dict(\n",
    "        type = 'choropleth',\n",
    "        locations = df['code'],\n",
    "        z = df['loc'],\n",
    "        autocolorscale = True,\n",
    "        marker = dict(\n",
    "            line = dict (\n",
    "                color = 'rgb(180,180,180)',\n",
    "                width = 0.5\n",
    "            ) ),\n",
    "        colorbar = dict(\n",
    "            autotick = False,\n",
    "            tickprefix = '',\n",
    "            title = 'concerts'),\n",
    "      ) ]\n",
    "\n",
    "markers = [ dict(\n",
    "        type = 'scattergeo',\n",
    "        lon = concerts['lon'],\n",
    "        lat = concerts['lat'],\n",
    "        hovertext  = concerts['loc'],\n",
    "        text = concerts['loc'] ,\n",
    "        textposition = 'top center',\n",
    "        mode = 'markers',\n",
    "        string = concerts['loc'],\n",
    "        marker = dict( \n",
    "            symbol = ['4'],\n",
    "            size=10, \n",
    "            color='black',  \n",
    "            linecolor = 'white'\n",
    "            \n",
    "        ))]\n",
    "\n",
    "layout = dict(\n",
    "    width = 800,\n",
    "    height = 800,\n",
    "    showlegend = False, \n",
    "    title = 'concerts scorpions',\n",
    "    geo = dict(\n",
    "        showframe = True,\n",
    "        showcoastlines = True,\n",
    "        projection = dict( \n",
    "                type = 'orthographic',\n",
    "                rotation = dict(\n",
    "                    lon = -100,\n",
    "                    lat = 40,\n",
    "                    roll = 0\n",
    "                )            \n",
    "            ),\n",
    "    )\n",
    ")\n",
    "\n",
    "fig = dict( data=data+markers+great_lines, layout=layout )\n",
    "py.iplot( fig, validate=False, filename='d3-world-map' )"
   ]
  }
 ],
 "metadata": {
  "kernelspec": {
   "display_name": "dataviz2",
   "language": "python",
   "name": "dataviz2"
  },
  "language_info": {
   "codemirror_mode": {
    "name": "ipython",
    "version": 3
   },
   "file_extension": ".py",
   "mimetype": "text/x-python",
   "name": "python",
   "nbconvert_exporter": "python",
   "pygments_lexer": "ipython3",
   "version": "3.6.2"
  }
 },
 "nbformat": 4,
 "nbformat_minor": 1
}
