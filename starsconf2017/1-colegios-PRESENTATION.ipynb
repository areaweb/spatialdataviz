{
 "cells": [
  {
   "cell_type": "markdown",
   "metadata": {},
   "source": [
    "# [Puntajes PSU](http://www.t13.cl/noticia/nacional/te-puede-servir/ranking-colegios-mejor-promedio-psu-2016)"
   ]
  },
  {
   "cell_type": "code",
   "execution_count": null,
   "metadata": {
    "collapsed": true
   },
   "outputs": [],
   "source": [
    "from robobrowser import RoboBrowser\n",
    "import geocoder\n",
    "import folium\n",
    "import pandas\n",
    "import os\n",
    "from utils import persist_to_file\n",
    "cwd = os.getcwd()\n",
    "\n",
    "browser = RoboBrowser(history=True, parser='html5lib')\n",
    "url = 'http://www.t13.cl/noticia/nacional/te-puede-servir/ranking-colegios-mejor-promedio-psu-2016'\n",
    "browser.open(url)"
   ]
  },
  {
   "cell_type": "code",
   "execution_count": null,
   "metadata": {
    "collapsed": false
   },
   "outputs": [],
   "source": [
    "table=browser.select('.article-content table')[0]\n",
    "t=table.__str__()\n",
    "t[:1000]"
   ]
  },
  {
   "cell_type": "code",
   "execution_count": null,
   "metadata": {
    "collapsed": false
   },
   "outputs": [],
   "source": [
    "t=t.replace(',','.')\n",
    "df=pandas.read_html(t, header=0)[0]\n",
    "df.head(10)"
   ]
  },
  {
   "cell_type": "code",
   "execution_count": null,
   "metadata": {
    "collapsed": false
   },
   "outputs": [],
   "source": [
    "g=geocoder.google('colegio the grange school, la reina, chile')\n",
    "print(g)\n",
    "print(g.latlng)"
   ]
  },
  {
   "cell_type": "code",
   "execution_count": null,
   "metadata": {
    "collapsed": false
   },
   "outputs": [],
   "source": [
    "g.latlng"
   ]
  },
  {
   "cell_type": "markdown",
   "metadata": {},
   "source": [
    "[-36.8883627, -73.0351594](\n",
    "https://www.google.cl/maps/@-33.4382165,-70.5686165,3a,75y,3.98h,101.74t/data=!3m7!1e1!3m5!1sxP13kKF1tvm6pau-DNnsPA!2e0!6s%2F%2Fgeo1.ggpht.com%2Fcbk%3Fpanoid%3DxP13kKF1tvm6pau-DNnsPA%26output%3Dthumbnail%26cb_client%3Dmaps_sv.tactile.gps%26thumb%3D2%26w%3D203%26h%3D100%26yaw%3D33.012394%26pitch%3D0%26thumbfov%3D100!7i13312!8i6656)"
   ]
  },
  {
   "cell_type": "code",
   "execution_count": null,
   "metadata": {
    "collapsed": false,
    "scrolled": false
   },
   "outputs": [],
   "source": [
    "import time\n",
    "\n",
    "@persist_to_file()\n",
    "def get_latlng(query):\n",
    "    providers = geocoder.osm, geocoder.google\n",
    "    for provider in providers:\n",
    "        #print(provider)\n",
    "        try:  \n",
    "            g=provider(query)\n",
    "        except ValueError:\n",
    "            continue\n",
    "        if g:\n",
    "            return g.latlng\n",
    "    return None, None\n",
    "\n",
    "for index,row in df.iterrows():\n",
    "    stopwords = 'colegio', 'liceo', 'school', 'instituto', 'college'\n",
    "    query = row.Colegio +\", \"+ row.Comuna + \", chile\"\n",
    "    query = query.lower()\n",
    "    for i in stopwords:\n",
    "        if i in query:\n",
    "            break\n",
    "    else:\n",
    "         query = 'colegio ' + query\n",
    "    print(query),\n",
    "    g=get_latlng(query)\n",
    "    time.sleep(0.1)\n",
    "    if not g:\n",
    "        print('ERROR', query)\n",
    "        continue\n",
    "    if g:\n",
    "        lat, lng = g\n",
    "        df.set_value(index,'lat', lat)\n",
    "        df.set_value(index,'lng', lng)\n",
    "        print(g)\n",
    "    else:\n",
    "        print(g, 'ERROR', query)"
   ]
  },
  {
   "cell_type": "code",
   "execution_count": null,
   "metadata": {
    "collapsed": false
   },
   "outputs": [],
   "source": [
    "df[df.isnull().any(axis=1)]"
   ]
  },
  {
   "cell_type": "code",
   "execution_count": null,
   "metadata": {
    "collapsed": false
   },
   "outputs": [],
   "source": [
    "df=df.dropna()\n",
    "df.head(25)"
   ]
  },
  {
   "cell_type": "code",
   "execution_count": null,
   "metadata": {
    "collapsed": false
   },
   "outputs": [],
   "source": [
    "map = folium.Map(location=[-33.39, -70.57], zoom_start=8, tiles='Stamen Terrain')\n",
    "i=0\n",
    "for index, row in df.iterrows():\n",
    "    map.add_child(\n",
    "        folium.CircleMarker([row.lat,row.lng],\n",
    "                            color='#000000',\n",
    "                            fill_color='#ff0000',\n",
    "                            fill=True,\n",
    "                            fill_opacity=0.7,\n",
    "                            radius=5, \n",
    "                            popup=u\"%s %s %s\" % (row['Colegio'], row['Promedio PSU'], row['Comuna'])))\n",
    "map.save('colegios.html')\n",
    "map"
   ]
  },
  {
   "cell_type": "code",
   "execution_count": null,
   "metadata": {
    "collapsed": false
   },
   "outputs": [],
   "source": [
    "df.head()"
   ]
  },
  {
   "cell_type": "code",
   "execution_count": null,
   "metadata": {
    "collapsed": false
   },
   "outputs": [],
   "source": [
    "map = folium.Map(location=[-33.39, -70.57], zoom_start=8, tiles='Stamen Toner')\n",
    "i=0\n",
    "for index, row in df.iterrows():\n",
    "    map.add_child(\n",
    "        folium.CircleMarker([row.lat,row.lng],\n",
    "                            color='#ff0000',\n",
    "                            fill_color='#ff0000',\n",
    "                            fill=True,\n",
    "                            fill_opacity=0.7,\n",
    "                            radius=5*row['Alumnos que rindieron la prueba']/100.0, \n",
    "                            popup=u\"%s %s %s %s alumnos\" % (row['Colegio'], row['Promedio PSU'], row['Comuna'], row['Alumnos que rindieron la prueba'])))\n",
    "map.save('colegios.html')\n",
    "map"
   ]
  },
  {
   "cell_type": "code",
   "execution_count": null,
   "metadata": {
    "collapsed": false
   },
   "outputs": [],
   "source": [
    "df.tail(20)"
   ]
  },
  {
   "cell_type": "code",
   "execution_count": null,
   "metadata": {
    "collapsed": false
   },
   "outputs": [],
   "source": [
    "df3 = df[df['Tipo de establecimiento'] != 'Particular']\n",
    "df3"
   ]
  },
  {
   "cell_type": "code",
   "execution_count": null,
   "metadata": {
    "collapsed": false
   },
   "outputs": [],
   "source": [
    "map = folium.Map(location=[-33.39, -70.57], zoom_start=8, tiles='OpenStreetMap')\n",
    "colors = {\n",
    "    'Particular': ('green', ''),\n",
    "    'Subvencionado': ('red', 'star'),\n",
    "    'Municipal': ('red', 'star-empty'),\n",
    "}\n",
    "for index, row in df.iterrows():\n",
    "    color, icon = colors[row['Tipo de establecimiento']]\n",
    "    folium.Marker(\n",
    "        location=[row.lat,row.lng],\n",
    "        popup=u\"%s - %s - %s - %s\" % (row['Tipo de establecimiento'], row.Colegio, row['Promedio PSU'], row['Comuna']),\n",
    "        icon=folium.Icon(color=color, icon=icon)\n",
    "    ).add_to(map)\n",
    "map.save('colegios.html')\n",
    "map"
   ]
  },
  {
   "cell_type": "markdown",
   "metadata": {},
   "source": [
    "[mapa](colegios.html)"
   ]
  }
 ],
 "metadata": {
  "kernelspec": {
   "display_name": "dataviz2",
   "language": "python",
   "name": "dataviz2"
  },
  "language_info": {
   "codemirror_mode": {
    "name": "ipython",
    "version": 3
   },
   "file_extension": ".py",
   "mimetype": "text/x-python",
   "name": "python",
   "nbconvert_exporter": "python",
   "pygments_lexer": "ipython3",
   "version": "3.6.2"
  }
 },
 "nbformat": 4,
 "nbformat_minor": 0
}
