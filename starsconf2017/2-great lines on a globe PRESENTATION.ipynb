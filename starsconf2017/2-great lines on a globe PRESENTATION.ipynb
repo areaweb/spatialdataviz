{
 "cells": [
  {
   "cell_type": "markdown",
   "metadata": {},
   "source": [
    "## https://flightaware.com/live/fleet/LAN\n"
   ]
  },
  {
   "cell_type": "code",
   "execution_count": null,
   "metadata": {
    "collapsed": true
   },
   "outputs": [],
   "source": [
    "from robobrowser import RoboBrowser\n",
    "import plotly.plotly as py\n",
    "import pandas as pd\n",
    "import networkx as nx\n",
    "from cachier import cachier\n",
    "import geocoder\n",
    "browser = RoboBrowser(history=True, parser='html5lib')"
   ]
  },
  {
   "cell_type": "code",
   "execution_count": null,
   "metadata": {},
   "outputs": [],
   "source": [
    "url = 'https://flightaware.com/live/fleet/LAN'\n",
    "browser.open(url)\n",
    "table=browser.select('.prettyTable')[0]\n",
    "table_code=table.__str__()\n",
    "table_code[:1000]"
   ]
  },
  {
   "cell_type": "code",
   "execution_count": null,
   "metadata": {},
   "outputs": [],
   "source": [
    "tdf=pd.read_html(table_code, header=0)[0]\n",
    "tdf"
   ]
  },
  {
   "cell_type": "code",
   "execution_count": null,
   "metadata": {},
   "outputs": [],
   "source": [
    "import re\n",
    "pattern = r'<tr><th class=\"mainHeader\" colspan=\"8\">.*?</th></tr>'\n",
    "table_code = re.sub(pattern, \"\", table_code)\n",
    "table_code"
   ]
  },
  {
   "cell_type": "code",
   "execution_count": null,
   "metadata": {},
   "outputs": [],
   "source": [
    "tdf=pd.read_html(table_code, header=0)[0]\n",
    "tdf"
   ]
  },
  {
   "cell_type": "markdown",
   "metadata": {},
   "source": [
    "## http://flightaware.com/live/fleet/AAL?;offset=20"
   ]
  },
  {
   "cell_type": "code",
   "execution_count": null,
   "metadata": {
    "scrolled": false
   },
   "outputs": [],
   "source": [
    "browser = RoboBrowser(history=True, parser='html5lib')\n",
    "base_url = 'https://flightaware.com/live/fleet/'\n",
    "query = 'JAL' ## \n",
    "airlines = \"LAN\", \"JAL\", \"DLH\", \"AAL\", \"CCA\", 'AFR', 'IGO', 'MSR'\n",
    "df = pd.DataFrame()\n",
    "\n",
    "for query in airlines:\n",
    "    print('-----------')\n",
    "    print(query)\n",
    "    for i in range(2):\n",
    "        url = base_url + query + \"?;offset=\" + str(i*20)\n",
    "        browser.open(url)\n",
    "        table=browser.select('.prettyTable')[0]\n",
    "        t=table.__str__()\n",
    "        if 'Sorry' in t:\n",
    "                break\n",
    "        pattern = r'<tr><th class=\"mainHeader\" colspan=\"8\">.*?</th></tr>'\n",
    "        t = re.sub(pattern, \"\", t)\n",
    "        tdf=pd.read_html(t, header=0)[0]\n",
    "        df = df.append(tdf)\n",
    "        print(tdf.head(3))"
   ]
  },
  {
   "cell_type": "code",
   "execution_count": null,
   "metadata": {},
   "outputs": [],
   "source": [
    "df.head(10)"
   ]
  },
  {
   "cell_type": "code",
   "execution_count": null,
   "metadata": {
    "collapsed": true
   },
   "outputs": [],
   "source": [
    "from joblib import Memory\n",
    "memory = Memory(cachedir='tmp', verbose=0)\n",
    "\n",
    "@memory.cache\n",
    "def get_latlng(query):\n",
    "    g=geocoder.google(query)\n",
    "    if g:\n",
    "        return g.latlng\n",
    "    else:\n",
    "        return None, None"
   ]
  },
  {
   "cell_type": "code",
   "execution_count": null,
   "metadata": {
    "scrolled": false
   },
   "outputs": [],
   "source": [
    "\n",
    "great_lines = []\n",
    "airports = []\n",
    "airport_data = []\n",
    "seen=[]\n",
    "great_lines_2=[]\n",
    "airports = pd.DataFrame(columns=['label','lat','lon','size'])\n",
    "\n",
    "    \n",
    "i=0\n",
    "for index,row in df.iterrows():\n",
    "    origin = row.Origin\n",
    "    destination = row.Destination\n",
    "    olat, olon = get_latlng(origin)\n",
    "    dlat, dlon = get_latlng(destination)\n",
    "    if olat and dlat:\n",
    "        if origin not in seen:\n",
    "            seen.append(origin)\n",
    "            print(origin, olat, olon)\n",
    "        if destination not in seen:\n",
    "            seen.append(destination)\n",
    "            print(destination, dlat, dlon)\n",
    "        great_lines.append(dict(\n",
    "            type = 'scattergeo',\n",
    "            lat = [ olat, dlat ],\n",
    "            lon = [ olon, dlon ],\n",
    "            hoverinfo = 'Ident',\n",
    "                text = 'Ident',\n",
    "            mode = 'lines',\n",
    "            line = dict(\n",
    "                width = 1,\n",
    "                color = 'rgba(255,0,0,0.2)',\n",
    "                ),\n",
    "                )\n",
    "        )\n",
    "        airports.loc[i]=[origin, olat, olon, 0.0]\n",
    "        airports.loc[i+1]= [destination, dlat, dlon, 0.0]\n",
    "        i+=2\n",
    "     "
   ]
  },
  {
   "cell_type": "code",
   "execution_count": null,
   "metadata": {},
   "outputs": [],
   "source": [
    "great_lines"
   ]
  },
  {
   "cell_type": "code",
   "execution_count": null,
   "metadata": {},
   "outputs": [],
   "source": [
    "airports.head(20)"
   ]
  },
  {
   "cell_type": "code",
   "execution_count": null,
   "metadata": {},
   "outputs": [],
   "source": [
    "df.head()"
   ]
  },
  {
   "cell_type": "markdown",
   "metadata": {},
   "source": [
    "## Grafo\n",
    "![Graph](graph.png)"
   ]
  },
  {
   "cell_type": "code",
   "execution_count": null,
   "metadata": {
    "collapsed": true
   },
   "outputs": [],
   "source": [
    "import networkx as nx\n",
    "G = nx.from_pandas_dataframe(df, 'Origin', 'Destination')"
   ]
  },
  {
   "cell_type": "code",
   "execution_count": null,
   "metadata": {},
   "outputs": [],
   "source": [
    "for node in G.nodes():\n",
    "    print(node)"
   ]
  },
  {
   "cell_type": "code",
   "execution_count": null,
   "metadata": {},
   "outputs": [],
   "source": [
    "for edge in G.edges():\n",
    "    print(edge)"
   ]
  },
  {
   "cell_type": "markdown",
   "metadata": {},
   "source": [
    "## Betweenness Centrality\n",
    "![Betweenness](betweenness.png)"
   ]
  },
  {
   "cell_type": "code",
   "execution_count": null,
   "metadata": {
    "scrolled": false
   },
   "outputs": [],
   "source": [
    "centrality=nx.betweenness_centrality(G)\n",
    "centrality"
   ]
  },
  {
   "cell_type": "code",
   "execution_count": null,
   "metadata": {},
   "outputs": [],
   "source": [
    "for key, item in centrality.items():\n",
    "    airports.loc[airports.label==key, 'size'] = (item*100)+10\n",
    "airports.head(20)"
   ]
  },
  {
   "cell_type": "markdown",
   "metadata": {},
   "source": [
    "## https://plot.ly/"
   ]
  },
  {
   "cell_type": "code",
   "execution_count": null,
   "metadata": {
    "scrolled": false
   },
   "outputs": [],
   "source": [
    "import plotly.plotly as py\n",
    "\n",
    "airport_markers = [ dict(\n",
    "        type = 'scattergeo',\n",
    "        lon = airports['lon'],\n",
    "        lat = airports['lat'],\n",
    "        hoverinfo = 'label',\n",
    "        text = airports['label'],\n",
    "        mode = 'markers',\n",
    "        marker = dict( \n",
    "            size=airports['size'], \n",
    "            color='red',   \n",
    "        ))]\n",
    "    \n",
    "layout = dict(\n",
    "        title = 'Current flight network',\n",
    "        showlegend = False,  \n",
    "        width = 800,\n",
    "        height = 800,\n",
    "        geo = dict(\n",
    "            showland = True,\n",
    "            showcountries = True,\n",
    "            showocean = True,\n",
    "            countrywidth = 0.5,\n",
    "            landcolor = '#fff',\n",
    "            oceancolor = '#eee',\n",
    "            projection = dict( \n",
    "                type = 'orthographic',\n",
    "                rotation = dict(\n",
    "                    lon = -100,\n",
    "                    lat = 40,\n",
    "                    roll = 0\n",
    "                )            \n",
    "            ),\n",
    "            \n",
    "        )\n",
    "    )\n",
    "    \n",
    "fig = dict( data=great_lines+airport_markers, layout=layout )\n",
    "py.iplot( fig, validate=False, filename='d3-globe' )"
   ]
  },
  {
   "cell_type": "code",
   "execution_count": null,
   "metadata": {
    "collapsed": true
   },
   "outputs": [],
   "source": []
  }
 ],
 "metadata": {
  "kernelspec": {
   "display_name": "dataviz2",
   "language": "python",
   "name": "dataviz2"
  },
  "language_info": {
   "codemirror_mode": {
    "name": "ipython",
    "version": 3
   },
   "file_extension": ".py",
   "mimetype": "text/x-python",
   "name": "python",
   "nbconvert_exporter": "python",
   "pygments_lexer": "ipython3",
   "version": "3.6.2"
  }
 },
 "nbformat": 4,
 "nbformat_minor": 1
}
