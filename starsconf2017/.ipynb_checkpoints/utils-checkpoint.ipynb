{
 "cells": [
  {
   "cell_type": "code",
   "execution_count": null,
   "metadata": {
    "collapsed": true
   },
   "outputs": [],
   "source": [
    "def persist_to_file(file_name):\n",
    "    def decorator(original_func):\n",
    "\n",
    "        try:\n",
    "            cache = json.load(open(file_name, 'r'))\n",
    "        except (IOError, ValueError):\n",
    "            cache = {}\n",
    "\n",
    "        def new_func(param):\n",
    "            if param not in cache:\n",
    "                cache[param] = original_func(param)\n",
    "                json.dump(cache, open(file_name, 'w'))\n",
    "            return cache[param]\n",
    "\n",
    "        return new_func\n",
    "\n",
    "    return decorator"
   ]
  }
 ],
 "metadata": {
  "kernelspec": {
   "display_name": "dataviz2",
   "language": "python",
   "name": "dataviz2"
  },
  "language_info": {
   "codemirror_mode": {
    "name": "ipython",
    "version": 3
   },
   "file_extension": ".py",
   "mimetype": "text/x-python",
   "name": "python",
   "nbconvert_exporter": "python",
   "pygments_lexer": "ipython3",
   "version": "3.6.2"
  }
 },
 "nbformat": 4,
 "nbformat_minor": 2
}
