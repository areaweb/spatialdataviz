{
 "cells": [
  {
   "cell_type": "code",
   "execution_count": 2,
   "metadata": {
    "collapsed": true
   },
   "outputs": [],
   "source": [
    "import pandas\n",
    "adds = pandas.read_csv(\"data/Addresses.csv\", dtype=str)"
   ]
  },
  {
   "cell_type": "code",
   "execution_count": 3,
   "metadata": {},
   "outputs": [
    {
     "data": {
      "text/html": [
       "<div>\n",
       "<table border=\"1\" class=\"dataframe\">\n",
       "  <thead>\n",
       "    <tr style=\"text-align: right;\">\n",
       "      <th></th>\n",
       "      <th>address</th>\n",
       "      <th>icij_id</th>\n",
       "      <th>valid_until</th>\n",
       "      <th>country_codes</th>\n",
       "      <th>countries</th>\n",
       "      <th>node_id</th>\n",
       "      <th>sourceID</th>\n",
       "    </tr>\n",
       "  </thead>\n",
       "  <tbody>\n",
       "    <tr>\n",
       "      <th>0</th>\n",
       "      <td>-\\t27 ROSEWOOD DRIVE #16-19 SINGAPORE 737920</td>\n",
       "      <td>6991059DFFB057DF310B9BF31CC4A0E6</td>\n",
       "      <td>The Panama Papers  data is current through 2015</td>\n",
       "      <td>SGP</td>\n",
       "      <td>Singapore</td>\n",
       "      <td>14000001</td>\n",
       "      <td>Panama Papers</td>\n",
       "    </tr>\n",
       "    <tr>\n",
       "      <th>1</th>\n",
       "      <td>\"Almaly Village\" v.5, Almaty Kazakhstan</td>\n",
       "      <td>C65A269424AA1A8BBAC416FA30150938</td>\n",
       "      <td>The Panama Papers  data is current through 2015</td>\n",
       "      <td>KAZ</td>\n",
       "      <td>Kazakhstan</td>\n",
       "      <td>14000002</td>\n",
       "      <td>Panama Papers</td>\n",
       "    </tr>\n",
       "    <tr>\n",
       "      <th>2</th>\n",
       "      <td>\"Cantonia\" South Road St Georges Hill Weybridg...</td>\n",
       "      <td>240EE44DFB70AF775E6CD02AF8CB889B</td>\n",
       "      <td>The Panama Papers  data is current through 2015</td>\n",
       "      <td>GBR</td>\n",
       "      <td>United Kingdom</td>\n",
       "      <td>14000003</td>\n",
       "      <td>Panama Papers</td>\n",
       "    </tr>\n",
       "    <tr>\n",
       "      <th>3</th>\n",
       "      <td>\"CAY-OS\" NEW ROAD; ST.SAMPSON; GUERNSEY; CHANN...</td>\n",
       "      <td>340C6D3D2FC60AE58C53BB3618129C43</td>\n",
       "      <td>The Panama Papers  data is current through 2015</td>\n",
       "      <td>GGY</td>\n",
       "      <td>Guernsey</td>\n",
       "      <td>14000004</td>\n",
       "      <td>Panama Papers</td>\n",
       "    </tr>\n",
       "    <tr>\n",
       "      <th>4</th>\n",
       "      <td>\"Chirag\" Plot No 652; Mwamba Road; Kizingo; Mo...</td>\n",
       "      <td>6DBCD74F5AAB63EABC166885CE8CD7CD</td>\n",
       "      <td>The Panama Papers  data is current through 2015</td>\n",
       "      <td>KEN</td>\n",
       "      <td>Kenya</td>\n",
       "      <td>14000005</td>\n",
       "      <td>Panama Papers</td>\n",
       "    </tr>\n",
       "  </tbody>\n",
       "</table>\n",
       "</div>"
      ],
      "text/plain": [
       "                                             address  \\\n",
       "0       -\\t27 ROSEWOOD DRIVE #16-19 SINGAPORE 737920   \n",
       "1            \"Almaly Village\" v.5, Almaty Kazakhstan   \n",
       "2  \"Cantonia\" South Road St Georges Hill Weybridg...   \n",
       "3  \"CAY-OS\" NEW ROAD; ST.SAMPSON; GUERNSEY; CHANN...   \n",
       "4  \"Chirag\" Plot No 652; Mwamba Road; Kizingo; Mo...   \n",
       "\n",
       "                            icij_id  \\\n",
       "0  6991059DFFB057DF310B9BF31CC4A0E6   \n",
       "1  C65A269424AA1A8BBAC416FA30150938   \n",
       "2  240EE44DFB70AF775E6CD02AF8CB889B   \n",
       "3  340C6D3D2FC60AE58C53BB3618129C43   \n",
       "4  6DBCD74F5AAB63EABC166885CE8CD7CD   \n",
       "\n",
       "                                       valid_until country_codes  \\\n",
       "0  The Panama Papers  data is current through 2015           SGP   \n",
       "1  The Panama Papers  data is current through 2015           KAZ   \n",
       "2  The Panama Papers  data is current through 2015           GBR   \n",
       "3  The Panama Papers  data is current through 2015           GGY   \n",
       "4  The Panama Papers  data is current through 2015           KEN   \n",
       "\n",
       "        countries   node_id       sourceID  \n",
       "0       Singapore  14000001  Panama Papers  \n",
       "1      Kazakhstan  14000002  Panama Papers  \n",
       "2  United Kingdom  14000003  Panama Papers  \n",
       "3        Guernsey  14000004  Panama Papers  \n",
       "4           Kenya  14000005  Panama Papers  "
      ]
     },
     "execution_count": 3,
     "metadata": {},
     "output_type": "execute_result"
    }
   ],
   "source": [
    "adds.head()"
   ]
  },
  {
   "cell_type": "code",
   "execution_count": 4,
   "metadata": {},
   "outputs": [
    {
     "data": {
      "text/html": [
       "<div>\n",
       "<table border=\"1\" class=\"dataframe\">\n",
       "  <thead>\n",
       "    <tr style=\"text-align: right;\">\n",
       "      <th></th>\n",
       "      <th>address</th>\n",
       "      <th>icij_id</th>\n",
       "      <th>valid_until</th>\n",
       "      <th>country_codes</th>\n",
       "      <th>countries</th>\n",
       "      <th>node_id</th>\n",
       "      <th>sourceID</th>\n",
       "    </tr>\n",
       "  </thead>\n",
       "  <tbody>\n",
       "    <tr>\n",
       "      <th>24883</th>\n",
       "      <td>Aguas Claras 220; Dept 61; Lo Barnechea; Santi...</td>\n",
       "      <td>46749D72F7E660E52A483B3CA3EB7B70</td>\n",
       "      <td>The Panama Papers  data is current through 2015</td>\n",
       "      <td>CHL</td>\n",
       "      <td>Chile</td>\n",
       "      <td>14025407</td>\n",
       "      <td>Panama Papers</td>\n",
       "    </tr>\n",
       "    <tr>\n",
       "      <th>24887</th>\n",
       "      <td>Agustin del Castillo 2400; Depto. 501; Comuna ...</td>\n",
       "      <td>C5E4806B33902C4F1F65D1856C3BB21A</td>\n",
       "      <td>The Panama Papers  data is current through 2015</td>\n",
       "      <td>CHL</td>\n",
       "      <td>Chile</td>\n",
       "      <td>14025411</td>\n",
       "      <td>Panama Papers</td>\n",
       "    </tr>\n",
       "    <tr>\n",
       "      <th>25887</th>\n",
       "      <td>Alcalde Edo Castillo Velasco 2054; Ñuñoa; Sant...</td>\n",
       "      <td>777AAC999799D024AECAAE60BFD5C51B</td>\n",
       "      <td>The Panama Papers  data is current through 2015</td>\n",
       "      <td>CHL</td>\n",
       "      <td>Chile</td>\n",
       "      <td>14026411</td>\n",
       "      <td>Panama Papers</td>\n",
       "    </tr>\n",
       "    <tr>\n",
       "      <th>26105</th>\n",
       "      <td>Alonso de Sotomayor 4200; Dp. 503; Vitacura; S...</td>\n",
       "      <td>52C2383B9B60D005B6B7E9214FF28B49</td>\n",
       "      <td>The Panama Papers  data is current through 2015</td>\n",
       "      <td>CHL</td>\n",
       "      <td>Chile</td>\n",
       "      <td>14026629</td>\n",
       "      <td>Panama Papers</td>\n",
       "    </tr>\n",
       "    <tr>\n",
       "      <th>26234</th>\n",
       "      <td>Amapolas 1625; Depto.605; Providencia; Santiag...</td>\n",
       "      <td>ED343556BD9F48DDAADC62CE76783001</td>\n",
       "      <td>The Panama Papers  data is current through 2015</td>\n",
       "      <td>CHL</td>\n",
       "      <td>Chile</td>\n",
       "      <td>14026758</td>\n",
       "      <td>Panama Papers</td>\n",
       "    </tr>\n",
       "  </tbody>\n",
       "</table>\n",
       "</div>"
      ],
      "text/plain": [
       "                                                 address  \\\n",
       "24883  Aguas Claras 220; Dept 61; Lo Barnechea; Santi...   \n",
       "24887  Agustin del Castillo 2400; Depto. 501; Comuna ...   \n",
       "25887  Alcalde Edo Castillo Velasco 2054; Ñuñoa; Sant...   \n",
       "26105  Alonso de Sotomayor 4200; Dp. 503; Vitacura; S...   \n",
       "26234  Amapolas 1625; Depto.605; Providencia; Santiag...   \n",
       "\n",
       "                                icij_id  \\\n",
       "24883  46749D72F7E660E52A483B3CA3EB7B70   \n",
       "24887  C5E4806B33902C4F1F65D1856C3BB21A   \n",
       "25887  777AAC999799D024AECAAE60BFD5C51B   \n",
       "26105  52C2383B9B60D005B6B7E9214FF28B49   \n",
       "26234  ED343556BD9F48DDAADC62CE76783001   \n",
       "\n",
       "                                           valid_until country_codes  \\\n",
       "24883  The Panama Papers  data is current through 2015           CHL   \n",
       "24887  The Panama Papers  data is current through 2015           CHL   \n",
       "25887  The Panama Papers  data is current through 2015           CHL   \n",
       "26105  The Panama Papers  data is current through 2015           CHL   \n",
       "26234  The Panama Papers  data is current through 2015           CHL   \n",
       "\n",
       "      countries   node_id       sourceID  \n",
       "24883     Chile  14025407  Panama Papers  \n",
       "24887     Chile  14025411  Panama Papers  \n",
       "25887     Chile  14026411  Panama Papers  \n",
       "26105     Chile  14026629  Panama Papers  \n",
       "26234     Chile  14026758  Panama Papers  "
      ]
     },
     "execution_count": 4,
     "metadata": {},
     "output_type": "execute_result"
    }
   ],
   "source": [
    "adds=adds[adds['countries']=='Chile']\n",
    "adds=adds[adds['address'].str.contains(\"Santiago\")]\n",
    "adds.head()"
   ]
  },
  {
   "cell_type": "code",
   "execution_count": 5,
   "metadata": {},
   "outputs": [],
   "source": [
    "import folium\n",
    "import geocoder\n",
    "import unicodedata"
   ]
  },
  {
   "cell_type": "code",
   "execution_count": 6,
   "metadata": {},
   "outputs": [
    {
     "name": "stdout",
     "output_type": "stream",
     "text": [
      "-33.3582893 -70.5469872\n",
      "-33.3905211 -70.5724124\n",
      "fail Agustin del Castillo 2400; Depto. 501; Comuna de Vitacura; Santiago; Chile.\n",
      "-33.378039 -70.6346786\n",
      "-33.4303296 -70.5907291\n",
      "fail Amapolas 1625; Depto.605; Providencia; Santiago; Chile.\n",
      "fail Amapolas 1625; Depto.605; Providencia; Santiago; Chile.\n",
      "-33.3742128 -70.6367425\n",
      "-33.4098736 -70.7240893\n",
      "-33.4488897 -70.6692655\n",
      "-33.4488897 -70.6692655\n",
      "fail Avenida del valle 961; Oficina 3705; Ciudad Empresarial Huechuraba; 8580710 Santiago; Chile\n",
      "-33.4421135 -70.7640644\n",
      "-33.4510482 -70.6024573\n",
      "-33.3975364 -70.5835587\n",
      "-33.3400588 -70.5513969\n",
      "-33.3703906 -70.5117619\n",
      "-33.3758858 -70.5793991\n",
      "-33.4484692 -70.6150504\n",
      "-33.4054373 -70.5762715\n",
      "-33.4087844 -70.567069\n",
      "fail C/El Convento 720; Comuna De Las Condes; Santiago Chile\n",
      "fail Calle Asturias 280; oficina 701; Las Condes; Santiago de Chile; Rep. de Chile\n",
      "-33.4437335 -70.6279455\n",
      "-33.4151297 -70.5922177\n",
      "fail Calle El Golf 40 piso 12, Las Condes Santiago de Chile\n",
      "fail Calle El Golf 40 piso 12, Las Condes Santiago de Chile\n",
      "-33.4586717 -70.5611267\n",
      "fail Camberra 620; La Reina; Santiago; Chile.\n",
      "-33.3243917 -70.5438346\n",
      "-33.3958845 -70.5411324\n",
      "-33.396093 -70.5411396\n",
      "-33.411979 -70.5349449\n",
      "fail Con domicilio en Rio Guadiana 9226; Las Condes; Santiago; Chile\n",
      "fail Con domicilio en Rio Guadiana 9226; Las Condes; Santiago; Chile\n",
      "-33.3548464 -70.5165236\n",
      "fail Encomenderos 253; Oficina 12; Comunas de las Condes; Santiago de Chile; 7550166\n",
      "-33.3969263 -70.5995975\n",
      "-33.3905211 -70.5724124\n",
      "-33.4302275 -70.6177735\n",
      "-33.2832474 -70.6345255\n",
      "-33.4314935 -70.6230085\n",
      "fail Huelen 56; Dpto.B; Proviencia; Santiago; Chile.\n",
      "-33.4399766 -70.6531155\n",
      "-33.4396961 -70.6516047\n",
      "-33.4330125 -70.6234459\n",
      "-33.4160087 -70.5668379\n",
      "fail La Capitania 939 depto. 165; Las Condes; Santiago; Chile.\n",
      "-33.4311581 -70.6025654\n",
      "-33.4078266 -70.5758832\n",
      "-33.3608369 -70.5273465\n",
      "-33.3892541 -70.5884347\n",
      "-33.4143118 -70.5935384\n",
      "fail Magdalena 140; Piso 21; Las Condes; Santiago; Chile\n",
      "fail Magdalena 140; Piso 21; Las Condes; Santiago; Chile\n",
      "fail Magdalena 140; Piso 21; Las Condes; Santiago; Chile\n",
      "-33.4438264 -70.6173071\n",
      "-33.4293898 -70.6277326\n",
      "-33.399852 -70.598181\n",
      "-33.2824072 -70.7384418\n",
      "fail Panamericana Norte 1890; Lampa Santiago; Chile\n",
      "-33.3615798 -70.482196\n",
      "fail Pastor Fernandez 16200 Lo Barnechea; Santiago; Chile\n",
      "-33.4400089 -70.5483545\n",
      "fail Principe de Gales 8007 A La Reina; Santiago; Chile.\n",
      "fail Principe de Gales 8007 A La Reina; Santiago; Chile.\n",
      "-33.4087844 -70.567069\n",
      "-33.3291732 -70.7020092\n",
      "fail San Ignacio 101; Quilicura; Santiago; Chile.\n",
      "-33.4151832 -70.6006806\n",
      "fail San Sebastien; 27-30 Appt; 31 Las Condes; Santiago; Chile\n",
      "-33.3769042 -70.5832475\n",
      "-33.4235788 -70.5776717\n",
      "-33.3874219 -70.55135\n",
      "-33.3943929 -70.5929228\n",
      "-33.4143118 -70.5935384\n",
      "-33.4314474 -70.6093325\n",
      "-33.411979 -70.5349449\n",
      "-33.518938 -70.7668647\n",
      "-33.4087844 -70.567069\n",
      "-33.4004057 -70.5290537\n",
      "fail Camino Mirasol 1569; Santiago Las Condes; Chile\n",
      "-33.4238329 -70.6224425\n",
      "-33.4168157 -70.5985298\n",
      "-33.3740683 -70.5470884\n",
      "-33.4405776 -70.6453107\n",
      "-33.3594861 -70.4825932\n",
      "-33.3758394 -70.5773706\n",
      "-33.4186107 -70.5919693\n",
      "-33.545305 -70.6746371\n",
      "-33.4202268 -70.6041302\n",
      "-33.4556915 -70.6044907\n",
      "-33.4315749 -70.6370635\n",
      "-33.3845912 -70.534584\n",
      "-33.4812278 -70.6341231\n",
      "-33.3895687 -70.5408764\n",
      "-33.4270004 -70.6125385\n",
      "-33.3895687 -70.5408764\n",
      "-33.4131274 -70.5913517\n",
      "-33.4154993 -70.5953593\n"
     ]
    }
   ],
   "source": [
    "coords = []\n",
    "x=0\n",
    "for name, row in adds.iterrows():\n",
    "    x+=1\n",
    "    if x>200:\n",
    "        break\n",
    "    try:\n",
    "        add= u\"%s\" % row['address']\n",
    "        add = unicodedata.normalize('NFD', add).encode('ascii', 'ignore')\n",
    "        g = geocoder.google(u\"%s\" % add)\n",
    "        lat, lon = g.latlng\n",
    "        coords.append(tuple(g.latlng))\n",
    "        print lat, lon\n",
    "    except:\n",
    "        print 'fail', add\n",
    "        continue"
   ]
  },
  {
   "cell_type": "code",
   "execution_count": 7,
   "metadata": {
    "scrolled": true
   },
   "outputs": [
    {
     "name": "stdout",
     "output_type": "stream",
     "text": [
      "-33.4076970671 -70.5961507408\n"
     ]
    }
   ],
   "source": [
    "avg_lat = sum([i for i,j in coords])/len(coords)\n",
    "avg_lon = sum([j for i,j in coords])/len(coords)\n",
    "print avg_lat, avg_lon"
   ]
  },
  {
   "cell_type": "code",
   "execution_count": 8,
   "metadata": {
    "scrolled": true
   },
   "outputs": [
    {
     "name": "stdout",
     "output_type": "stream",
     "text": [
      "Counter({(-33.4087844, -70.567069): 3, (-33.3905211, -70.57241239999999): 2, (-33.3895687, -70.5408764): 2, (-33.4488897, -70.6692655): 2, (-33.411979, -70.5349449): 2, (-33.4143118, -70.5935384): 2, (-33.4098736, -70.7240893): 1, (-33.396093, -70.54113960000001): 1, (-33.3958845, -70.5411324): 1, (-33.3874219, -70.55135): 1, (-33.3243917, -70.5438346): 1, (-33.2824072, -70.73844179999999): 1, (-33.4484692, -70.6150504): 1, (-33.3594861, -70.4825932): 1, (-33.3582893, -70.5469872): 1, (-33.4812278, -70.6341231): 1, (-33.4303296, -70.59072909999999): 1, (-33.4510482, -70.6024573): 1, (-33.378039, -70.6346786): 1, (-33.4202268, -70.6041302): 1, (-33.3400588, -70.5513969): 1, (-33.3769042, -70.5832475): 1, (-33.2832474, -70.6345255): 1, (-33.399852, -70.598181): 1, (-33.4556915, -70.6044907): 1, (-33.41312740000001, -70.59135169999999): 1, (-33.4160087, -70.5668379): 1, (-33.3845912, -70.534584): 1, (-33.4421135, -70.7640644): 1, (-33.4004057, -70.52905369999999): 1, (-33.4330125, -70.6234459): 1, (-33.3742128, -70.6367425): 1, (-33.3943929, -70.5929228): 1, (-33.4270004, -70.6125385): 1, (-33.3758858, -70.5793991): 1, (-33.4302275, -70.6177735): 1, (-33.518938, -70.7668647): 1, (-33.3548464, -70.5165236): 1, (-33.4311581, -70.6025654): 1, (-33.4438264, -70.61730709999999): 1, (-33.3740683, -70.54708839999999): 1, (-33.3703906, -70.5117619): 1, (-33.4078266, -70.57588319999999): 1, (-33.545305, -70.6746371): 1, (-33.3615798, -70.482196): 1, (-33.4151297, -70.59221769999999): 1, (-33.3291732, -70.70200919999999): 1, (-33.4054373, -70.57627149999999): 1, (-33.3758394, -70.5773706): 1, (-33.3969263, -70.5995975): 1, (-33.4315749, -70.6370635): 1, (-33.4151832, -70.60068059999999): 1, (-33.3975364, -70.5835587): 1, (-33.4235788, -70.5776717): 1, (-33.3892541, -70.5884347): 1, (-33.4314935, -70.6230085): 1, (-33.4314474, -70.6093325): 1, (-33.4293898, -70.6277326): 1, (-33.4400089, -70.5483545): 1, (-33.4437335, -70.6279455): 1, (-33.4168157, -70.5985298): 1, (-33.4405776, -70.6453107): 1, (-33.4399766, -70.6531155): 1, (-33.4186107, -70.5919693): 1, (-33.4586717, -70.56112670000002): 1, (-33.3608369, -70.5273465): 1, (-33.4154993, -70.5953593): 1, (-33.4396961, -70.6516047): 1, (-33.4238329, -70.62244249999999): 1})\n"
     ]
    }
   ],
   "source": [
    "from collections import Counter\n",
    "c = Counter(coords)\n",
    "print c"
   ]
  },
  {
   "cell_type": "code",
   "execution_count": 9,
   "metadata": {},
   "outputs": [
    {
     "data": {
      "text/html": [
       "<div style=\"width:100%;\"><div style=\"position:relative;width:100%;height:0;padding-bottom:60%;\"><iframe src=\"data:text/html;base64,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\" style=\"position:absolute;width:100%;height:100%;left:0;top:0;\"></iframe></div></div>"
      ],
      "text/plain": [
       "<folium.folium.Map at 0x105cef4d0>"
      ]
     },
     "execution_count": 9,
     "metadata": {},
     "output_type": "execute_result"
    }
   ],
   "source": [
    "map = folium.Map(location=[avg_lat, avg_lon], zoom_start=10, tiles='Stamen Toner')\n",
    "for coord, n in c.items():\n",
    "    lat,lon = coord\n",
    "    map.add_children(folium.CircleMarker([lat,lon],color='#ff000',\n",
    "                    fill_color='#ff0000', radius=n*100))\n",
    "# Create and show the map.\n",
    "map.save('airports.html')\n",
    "map"
   ]
  },
  {
   "cell_type": "code",
   "execution_count": null,
   "metadata": {
    "collapsed": true
   },
   "outputs": [],
   "source": []
  },
  {
   "cell_type": "code",
   "execution_count": null,
   "metadata": {
    "collapsed": true
   },
   "outputs": [],
   "source": []
  }
 ],
 "metadata": {
  "kernelspec": {
   "display_name": "Python 2",
   "language": "python",
   "name": "python2"
  },
  "language_info": {
   "codemirror_mode": {
    "name": "ipython",
    "version": 2
   },
   "file_extension": ".py",
   "mimetype": "text/x-python",
   "name": "python",
   "nbconvert_exporter": "python",
   "pygments_lexer": "ipython2",
   "version": "2.7.13"
  }
 },
 "nbformat": 4,
 "nbformat_minor": 1
}
