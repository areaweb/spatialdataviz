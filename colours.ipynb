{
 "cells": [
  {
   "cell_type": "code",
   "execution_count": 13,
   "metadata": {
    "collapsed": false
   },
   "outputs": [
    {
     "name": "stdout",
     "output_type": "stream",
     "text": [
      "[<Color green>, <Color #038100>, <Color #058300>, <Color #088400>, <Color #0b8500>, <Color #0e8600>, <Color #108800>, <Color #138900>, <Color #168a00>, <Color #198c00>, <Color #1c8d00>, <Color #208e00>, <Color #238f00>, <Color #269100>, <Color #299200>, <Color #2d9300>, <Color #309500>, <Color #339600>, <Color #379700>, <Color #3a9800>, <Color #3e9a00>, <Color #429b00>, <Color #459c00>, <Color #499e00>, <Color #4d9f00>, <Color #51a000>, <Color #55a100>, <Color #59a300>, <Color #5da400>, <Color #61a500>, <Color #65a600>, <Color #69a800>, <Color #6da900>, <Color #72aa00>, <Color #76ac00>, <Color #7aad00>, <Color #7fae00>, <Color #83af00>, <Color #88b100>, <Color #8cb200>, <Color #91b300>, <Color #96b500>, <Color #9ab600>, <Color #9fb700>, <Color #a4b800>, <Color #a9ba00>, <Color #aebb00>, <Color #b3bc00>, <Color #b8be00>, <Color #bdbf00>, <Color #c0be00>, <Color #c1bc00>, <Color #c3b900>, <Color #c4b600>, <Color #c5b300>, <Color #c7b000>, <Color #c8ae00>, <Color #c9ab00>, <Color #caa800>, <Color #cca500>, <Color #cda100>, <Color #ce9e00>, <Color #d09b00>, <Color #d19800>, <Color #d29500>, <Color #d39100>, <Color #d58e00>, <Color #d68a00>, <Color #d78700>, <Color #d98300>, <Color #da8000>, <Color #db7c00>, <Color #dc7800>, <Color #de7400>, <Color #df7100>, <Color #e06d00>, <Color #e16900>, <Color #e36500>, <Color #e46100>, <Color #e55d00>, <Color #e75900>, <Color #e85400>, <Color #e95000>, <Color #ea4c00>, <Color #ec4700>, <Color #ed4300>, <Color #ee3f00>, <Color #f03a00>, <Color #f13600>, <Color #f23100>, <Color #f32c00>, <Color #f52800>, <Color #f62300>, <Color #f71e00>, <Color #f91900>, <Color #fa1400>, <Color #fb0f00>, <Color #fc0a00>, <Color #fe0500>, <Color red>]\n"
     ]
    }
   ],
   "source": [
    "from colour import Color\n",
    "green = Color(\"green\")\n",
    "red = Color(\"red\")\n",
    "colors=list(green.range_to(red, 100))\n",
    "print colors"
   ]
  },
  {
   "cell_type": "code",
   "execution_count": 10,
   "metadata": {
    "collapsed": true
   },
   "outputs": [],
   "source": [
    "c=colors[0]"
   ]
  },
  {
   "cell_type": "code",
   "execution_count": 11,
   "metadata": {
    "collapsed": false
   },
   "outputs": [
    {
     "data": {
      "text/plain": [
       "'#008000'"
      ]
     },
     "execution_count": 11,
     "metadata": {},
     "output_type": "execute_result"
    }
   ],
   "source": [
    "c.get_hex()"
   ]
  },
  {
   "cell_type": "code",
   "execution_count": null,
   "metadata": {
    "collapsed": true
   },
   "outputs": [],
   "source": []
  },
  {
   "cell_type": "code",
   "execution_count": 5,
   "metadata": {
    "collapsed": false
   },
   "outputs": [
    {
     "ename": "TypeError",
     "evalue": "'generator' object has no attribute '__getitem__'",
     "output_type": "error",
     "traceback": [
      "\u001b[0;31m---------------------------------------------------------------------------\u001b[0m",
      "\u001b[0;31mTypeError\u001b[0m                                 Traceback (most recent call last)",
      "\u001b[0;32m<ipython-input-5-a8089e191472>\u001b[0m in \u001b[0;36m<module>\u001b[0;34m()\u001b[0m\n\u001b[0;32m----> 1\u001b[0;31m \u001b[0mc\u001b[0m\u001b[0;34m=\u001b[0m\u001b[0mcolors\u001b[0m\u001b[0;34m[\u001b[0m\u001b[0;36m0\u001b[0m\u001b[0;34m]\u001b[0m\u001b[0;34m\u001b[0m\u001b[0m\n\u001b[0m",
      "\u001b[0;31mTypeError\u001b[0m: 'generator' object has no attribute '__getitem__'"
     ]
    }
   ],
   "source": []
  },
  {
   "cell_type": "code",
   "execution_count": null,
   "metadata": {
    "collapsed": true
   },
   "outputs": [],
   "source": []
  },
  {
   "cell_type": "code",
   "execution_count": null,
   "metadata": {
    "collapsed": true
   },
   "outputs": [],
   "source": []
  },
  {
   "cell_type": "code",
   "execution_count": null,
   "metadata": {
    "collapsed": true
   },
   "outputs": [],
   "source": []
  },
  {
   "cell_type": "code",
   "execution_count": null,
   "metadata": {
    "collapsed": true
   },
   "outputs": [],
   "source": []
  }
 ],
 "metadata": {
  "kernelspec": {
   "display_name": "Python 2",
   "language": "python",
   "name": "python2"
  },
  "language_info": {
   "codemirror_mode": {
    "name": "ipython",
    "version": 2
   },
   "file_extension": ".py",
   "mimetype": "text/x-python",
   "name": "python",
   "nbconvert_exporter": "python",
   "pygments_lexer": "ipython2",
   "version": "2.7.11"
  }
 },
 "nbformat": 4,
 "nbformat_minor": 0
}
