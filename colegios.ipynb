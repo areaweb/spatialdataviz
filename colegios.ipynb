{
 "cells": [
  {
   "cell_type": "code",
   "execution_count": null,
   "metadata": {
    "collapsed": false
   },
   "outputs": [],
   "source": [
    "from robobrowser import RoboBrowser\n",
    "import geocoder\n",
    "import folium\n",
    "\n",
    "browser = RoboBrowser(history=True, parser='html5lib')\n",
    "url = 'http://www.emol.com/noticias/nacional/2014/12/28/696553/ranking-los-100-colegios-con-mejor-puntaje-promedio-en-la-psu.html'\n",
    "browser.open(url)\n"
   ]
  },
  {
   "cell_type": "code",
   "execution_count": null,
   "metadata": {
    "collapsed": false
   },
   "outputs": [],
   "source": [
    "rows = browser.select('#ranking-colegios-psu tbody tr')\n",
    "colegios = []\n",
    "for row in rows:\n",
    "    cols = row.findAll('td')\n",
    "    nombre = cols[1].text.strip()\n",
    "    comuna = cols[2].text.strip()\n",
    "    puntaje = float(cols[5].text.strip().replace(',','.'))\n",
    "    while '  ' in nombre:\n",
    "        nombre = nombre.replace('  ',' ')\n",
    "    colegios.append((nombre, comuna, puntaje))\n",
    "    \n"
   ]
  },
  {
   "cell_type": "code",
   "execution_count": null,
   "metadata": {
    "collapsed": false
   },
   "outputs": [],
   "source": [
    "posiciones = []\n",
    "for nombre, comuna, puntaje in colegios:\n",
    "    g=geocoder.google(nombre +\", \"+ comuna + \", chile\")\n",
    "    print g.latlng\n",
    "    if g.latlng:\n",
    "        posiciones.append((g.latlng, puntaje, nombre))"
   ]
  },
  {
   "cell_type": "code",
   "execution_count": null,
   "metadata": {
    "collapsed": false
   },
   "outputs": [],
   "source": [
    "avg_lat = sum([i[0] for i,j,k in posiciones])/len(posiciones)\n",
    "avg_lon = sum([i[1] for i,j,k in posiciones])/len(posiciones)\n",
    "min_puntaje = min([j for i,j,k in posiciones])\n",
    "max_puntaje = max([j for i,j,k in posiciones])\n",
    "print avg_lat, avg_lon"
   ]
  },
  {
   "cell_type": "code",
   "execution_count": null,
   "metadata": {
    "collapsed": true
   },
   "outputs": [],
   "source": [
    "from colour import Color\n",
    "green = Color(\"green\")\n",
    "red = Color(\"red\")\n",
    "colors=list(green.range_to(red, 100))"
   ]
  },
  {
   "cell_type": "code",
   "execution_count": null,
   "metadata": {
    "collapsed": false,
    "scrolled": true
   },
   "outputs": [],
   "source": [
    "map = folium.Map(location=[-33.39, -70.57], zoom_start=10)\n",
    "i=0\n",
    "posiciones.reverse()\n",
    "for latlng, puntaje, nombre in posiciones:\n",
    "    lat,lon = latlng\n",
    "    radio = 10+(puntaje-min_puntaje)*(max_puntaje-min_puntaje)*20\n",
    "    map.add_children(folium.CircleMarker([lat,lon],color='#000000',\n",
    "                    fill_color=colors[i], radius=1000, popup=u\"%s %s\" % (nombre, puntaje)))\n",
    "    i+=1\n",
    "map.save('colegios.html')\n",
    "map"
   ]
  },
  {
   "cell_type": "code",
   "execution_count": null,
   "metadata": {
    "collapsed": true
   },
   "outputs": [],
   "source": []
  }
 ],
 "metadata": {
  "kernelspec": {
   "display_name": "Python 2",
   "language": "python",
   "name": "python2"
  },
  "language_info": {
   "codemirror_mode": {
    "name": "ipython",
    "version": 3
   },
   "file_extension": ".py",
   "mimetype": "text/x-python",
   "name": "python",
   "nbconvert_exporter": "python",
   "pygments_lexer": "ipython3",
   "version": "3.5.1"
  }
 },
 "nbformat": 4,
 "nbformat_minor": 0
}
