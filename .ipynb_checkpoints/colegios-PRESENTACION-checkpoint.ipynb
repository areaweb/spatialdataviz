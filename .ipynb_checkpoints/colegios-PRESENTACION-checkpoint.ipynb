{
 "cells": [
  {
   "cell_type": "markdown",
   "metadata": {},
   "source": [
    "http://www.emol.com/noticias/nacional/2014/12/28/696553/ranking-los-100-colegios-con-mejor-puntaje-promedio-en-la-psu.html"
   ]
  },
  {
   "cell_type": "code",
   "execution_count": null,
   "metadata": {
    "collapsed": false
   },
   "outputs": [],
   "source": [
    "from robobrowser import RoboBrowser\n",
    "import geocoder\n",
    "import folium\n",
    "\n",
    "browser = RoboBrowser(history=True, parser='html5lib')\n",
    "url = 'http://www.emol.com/noticias/nacional/2014/12/28/696553/ranking-los-100-colegios-con-mejor-puntaje-promedio-en-la-psu.html'\n",
    "browser.open(url)\n",
    "rows = browser.select('#ranking-colegios-psu tbody tr')\n",
    "print rows[0]"
   ]
  },
  {
   "cell_type": "code",
   "execution_count": null,
   "metadata": {
    "collapsed": false
   },
   "outputs": [],
   "source": [
    "print rows[0].findAll('td')"
   ]
  },
  {
   "cell_type": "code",
   "execution_count": null,
   "metadata": {
    "collapsed": false
   },
   "outputs": [],
   "source": [
    "colegios = []\n",
    "for row in rows:\n",
    "    cols = row.findAll('td')\n",
    "    nombre = cols[1].text.strip()\n",
    "    comuna = cols[2].text.strip()\n",
    "    puntaje = float(cols[5].text.strip().replace(',','.'))\n",
    "    while '  ' in nombre:\n",
    "        nombre = nombre.replace('  ',' ')\n",
    "    colegios.append((nombre, comuna, puntaje))\n",
    "    print nombre, \"/\", comuna, \"/\", puntaje"
   ]
  },
  {
   "cell_type": "code",
   "execution_count": null,
   "metadata": {
    "collapsed": false
   },
   "outputs": [],
   "source": [
    "posiciones = []\n",
    "for nombre, comuna, puntaje in colegios:\n",
    "    g=geocoder.google(nombre +\", \"+ comuna + \", chile\")\n",
    "    print g.latlng\n",
    "    if g.latlng:\n",
    "        posiciones.append((g.latlng, puntaje, nombre))"
   ]
  },
  {
   "cell_type": "code",
   "execution_count": null,
   "metadata": {
    "collapsed": false,
    "scrolled": false
   },
   "outputs": [],
   "source": [
    "map = folium.Map(location=[-33.39, -70.57], zoom_start=10)\n",
    "i=0\n",
    "posiciones.reverse()\n",
    "for latlng, puntaje, nombre in posiciones:\n",
    "    lat,lon = latlng\n",
    "    radio = 100\n",
    "    map.add_children(folium.CircleMarker([lat,lon],color='#000000',\n",
    "                    fill_color=\"#f00\", radius=1000, popup=u\"%s %s\" % (nombre, puntaje)))\n",
    "    i+=1\n",
    "map.save('colegios.html')\n",
    "map"
   ]
  },
  {
   "cell_type": "code",
   "execution_count": null,
   "metadata": {
    "collapsed": true
   },
   "outputs": [],
   "source": []
  }
 ],
 "metadata": {
  "kernelspec": {
   "display_name": "Python 2",
   "language": "python",
   "name": "python2"
  },
  "language_info": {
   "codemirror_mode": {
    "name": "ipython",
    "version": 2
   },
   "file_extension": ".py",
   "mimetype": "text/x-python",
   "name": "python",
   "nbconvert_exporter": "python",
   "pygments_lexer": "ipython2",
   "version": "2.7.11"
  }
 },
 "nbformat": 4,
 "nbformat_minor": 0
}
