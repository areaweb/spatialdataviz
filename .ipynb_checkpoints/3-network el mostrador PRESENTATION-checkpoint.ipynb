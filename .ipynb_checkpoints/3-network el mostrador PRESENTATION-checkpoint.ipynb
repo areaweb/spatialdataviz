{
 "cells": [
  {
   "cell_type": "markdown",
   "metadata": {},
   "source": [
    "[http://www.elmostrador.cl/]"
   ]
  },
  {
   "cell_type": "code",
   "execution_count": 1,
   "metadata": {
    "collapsed": false
   },
   "outputs": [],
   "source": [
    "from robobrowser import RoboBrowser\n",
    "url = 'http://www.elmostrador.cl/'\n",
    "\n",
    "browser = RoboBrowser(history=True, parser='html5lib')\n",
    "browser.open(url)\n",
    "articulos = browser.select('h3 a') + browser.select('h2 a')"
   ]
  },
  {
   "cell_type": "code",
   "execution_count": 2,
   "metadata": {
    "collapsed": false
   },
   "outputs": [
    {
     "name": "stdout",
     "output_type": "stream",
     "text": [
      "0 Valdés insiste en que lo peor ya pasó para la economía\n",
      "1 Jaime Estévez, el director de Banco de Chile que validó las turbias cuentas de Jadue en la ANFP\n",
      "2 La Semana Política – Cuenta Pública: el otro combate del 21 de mayo\n",
      "3 Comentario: Adiós a los niños\n",
      "4 Comenzó la ofensiva: ¿qué está anticipando el movimiento de los secundarios?\n",
      "5 Días después del anuncio: ¿qué tipo de canal cultural queremos?\n",
      "6 Sobre los tiempos del neoconservadurismo y los caudillos: el factor Boric\n",
      "7 Fundación Mi Casa rechaza acusaciones de Saffirio pero no responde a cuestionamientos de fondo\n",
      "8 Presentan proyecto de nueva “Ley del Fútbol” a Arturo Salah y directorio de ANFP\n",
      "9 Felipe Bianchi: “Vergonzoso es que Jaime Estévez aún siga ligado al fútbol y a la UC”\n",
      "10 Dólar cayó este jueves hasta los $687,80 en el mercado local tras recuperación del cobre\n",
      "11 [Fotos] Amplio despliegue de Carabineros por marcha no autorizada de estudiantes en Plaza Italia\n",
      "12 [VIDEO] WOM la hace de nuevo: ahora le tocó el turno a Longueira\n",
      "13 Bachelet: “Hemos evitado grandes explosiones sociales”\n",
      "14 Equipo de expertos navegará para estudiar la marea roja\n",
      "15 PRO critica decisión de Nueva Mayoría sobre primarias en Santiago: “Están dando la espalda a la ciudadanía”\n",
      "16 Entre la guerra y la paz: Conflicto de editoriales independientes con transnacionales hace peligrar la Filsa 2016\n",
      "17 “Puerto Papel” gana premio en el festival de TV infantil más importante del mundo\n",
      "18 Migraciones y desigualdades: Retos de la Bienal de Venecia que dirige el chileno Alejandro Aravena\n",
      "19 Presentan proyecto de nueva “Ley del Fútbol” a Arturo Salah y directorio de ANFP\n"
     ]
    }
   ],
   "source": [
    "for ct, articulo in enumerate(articulos[:20]):\n",
    "    print ct, articulo.text"
   ]
  },
  {
   "cell_type": "code",
   "execution_count": 3,
   "metadata": {
    "collapsed": false
   },
   "outputs": [
    {
     "name": "stdout",
     "output_type": "stream",
     "text": [
      "<a href=\"http://www.elmostrador.cl/noticias/pais/2016/05/26/felipe-bianchi-vergonzoso-es-que-jaime-estevez-aun-siga-ligado-al-futbol-y-a-la-uc/\" title=\"Ir a enlace\">Felipe Bianchi: “Vergonzoso es que Jaime Estévez aún siga ligado al fútbol y a la UC”</a>\n"
     ]
    }
   ],
   "source": [
    "articulo=articulos[9]\n",
    "print articulo"
   ]
  },
  {
   "cell_type": "code",
   "execution_count": 4,
   "metadata": {
    "collapsed": false
   },
   "outputs": [
    {
     "data": {
      "text/plain": [
       "[<h2>Felipe Bianchi: \"Vergonzoso es que Jaime Est\\xe9vez a\\xfan siga ligado al f\\xfatbol y a la UC\"</h2>]"
      ]
     },
     "execution_count": 4,
     "metadata": {},
     "output_type": "execute_result"
    }
   ],
   "source": [
    "browser.follow_link(articulo)\n",
    "browser.select('.datos-noticias h2')"
   ]
  },
  {
   "cell_type": "code",
   "execution_count": 5,
   "metadata": {
    "collapsed": false
   },
   "outputs": [
    {
     "name": "stdout",
     "output_type": "stream",
     "text": [
      "Felipe Bianchi: \"Vergonzoso es que Jaime Estévez aún siga ligado al fútbol y a la UC\" \n",
      "\t\t\t\t\t\t\t\t\t\t\t\t\t\n",
      "\t\t\t\t\t\t\t\t\t\t\t\t\t\t\t\t\t\t                                    Felipe Bianchi está atento a la contingencia futbolera nacional pese a estar lejos de Chile. En especial, sigue paso a paso, lo ocurrido con la crisis ocurrida al interior de la Asociación Nacional de Fútbol Profesional de Chile.\n",
      "En entrevista con La Segunda, se refiere en específico a la auditoría forense realizada por una consultora internacional a la administración de Sergio Jadue al frente de la ANFP que reveló graves irregularidades que incluyen el uso de recursos del organismo para fines personales y millonarios préstamos a clubes otorgados sin supervisión.\n",
      "Al respecto, califica como \"insólito\" que exista una sensación de \"sorpresa\" ante el informe, ya que \"la auditoría no revela cosas nuevas, más bien le pone números a delitos ya conocidos y denunciados\".\n",
      "\"Los primeros comentarios de radio y TV y las primeras columnas revelando quiénes eran Jadue, Jaque, Etcheverry y los demás datan de principios del 2011. Con pruebas incluidas. Pero no quisieron escuchar. Les dio lo mismo porque les convenía el escenario. Al punto que luego lo reeligieron y hasta crearon una comisión falsa para lavarle la imagen. El estupor es tan ridículo y obsceno como el de los que se \"sorprendieron\" por los detenidos desaparecidos en la dictadura. Un insulto a la inteligencia humana. Supongo que nadie les cree\", arremete.\n",
      "Ante la consulta de si \"un desfalco de este nivel sólo puede explicarse por un problema estructural mayor\", Bianchi responde de inmediato que \"por supuesto\".\n",
      "\"Todo el Consejo de Clubes, todo el directorio de la ANFP antigua y parte del actual, casi todos los gerentes, casi todos los funcionarios de los últimos dos gobiernos, todas las instituciones que debían vigilar, las empresas que aceptaron contratos manipulados o sin licitación, muchísimos periodistas y muchos jugadores y miembros de la Familia del Fútbol miraron para el lado y son culpables por obra u omisión. Nadie puede decir que no estaba sobre aviso. Todo pasó porque dejaron que pasara\", agrega.\n",
      "En ese sentido, dice que \"la actual clase dirigencial es completamente responsable (...) ellos los pusieron ahí, participaron, los reeligieron y negaron los hechos una y otra vez. Hasta que, gracias al FBI, fue imposible seguir mintiendo\".\n",
      "\"Nadie da garantías. Ninguno. Lo razonable, inteligente y sano hoy es seguir dudando. Se avanzó algo con la publicación de la auditoría, pero la verdadera medición tiene que ver con el peso de los castigos…si lo hay. Hay que fijarse en cuánto presionan y trabajan recuperar la plata robada y para que varios dirigentes vayan a la cárcel, que es donde tienen que estar. De los clubes chicos... y de los grandes\", declara el periodista deportivo.\n",
      "Frente al hecho de que la comisión auditora encabezada por Jaime Estévez no encontrara nada, Bianchi sentencia: \"Es una vergüenza espantosa y acaso criminal. Es de los muchos que ahora tiene que demostrar que no estuvo involucrado. Resulta vergonzoso que aún siga ligado a Universidad Católica y al fútbol\".\n",
      "\t\t\t\t\t                                \n",
      "\t\t\t\t\t                                \n",
      "\n",
      "\n",
      "\n",
      "\t\t\t\t\t                                \t\t\t\t\t                                \n",
      "\t\t\t\t\t\t\t\t\t\t\t\t\t\n",
      "\t\t\t\t\t\t\t\t\t\t\t\t\n"
     ]
    }
   ],
   "source": [
    "texto = browser.select('.cuerpo-noticia')[0].text\n",
    "titulo = browser.select('.datos-noticias h2')[0].text\n",
    "print titulo, texto"
   ]
  },
  {
   "cell_type": "code",
   "execution_count": 6,
   "metadata": {
    "collapsed": false
   },
   "outputs": [
    {
     "name": "stdout",
     "output_type": "stream",
     "text": [
      "{u'text': u'Felipe Bianchi', u'confidence': 0.624841570854187, u'position': [69, 83]}\n",
      "{u'text': u'uso', u'confidence': 0.5867298245429993, u'position': [527, 530]}\n",
      "{u'text': u'este', u'confidence': 0.472186803817749, u'position': [1430, 1434]}\n",
      "{u'text': u'califica como', u'confidence': 0.16849589347839355, u'position': [652, 665]}\n",
      "{u'text': u'agrega', u'confidence': 0.16212168335914612, u'position': [2047, 2053]}\n",
      "{u'text': u'Jaime', u'confidence': 0.14602211117744446, u'position': [2799, 2804]}\n",
      "{u'text': u'Al respecto', u'confidence': 0.12876549363136292, u'position': [639, 650]}\n",
      "{u'text': u'Bianchi', u'confidence': 0.12874269485473633, u'position': [2833, 2840]}\n",
      "{u'text': u'Bianchi', u'confidence': 0.12497923523187637, u'position': [1499, 1506]}\n",
      "{u'text': u'Bianchi', u'confidence': 0.09637147933244705, u'position': [76, 83]}\n",
      "{u'text': u'eran', u'confidence': 0.09563697874546051, u'position': [924, 928]}\n",
      "{u'text': u'Sergio', u'confidence': 0.08730603754520416, u'position': [443, 449]}\n",
      "{u'text': u'del', u'confidence': 0.08484268188476562, u'position': [1623, 1626]}\n",
      "{u'text': u'arremete', u'confidence': 0.07874654978513718, u'position': [1381, 1389]}\n",
      "{u'text': u'siga', u'confidence': 0.07809863984584808, u'position': [2999, 3003]}\n"
     ]
    }
   ],
   "source": [
    "import indicoio\n",
    "indicoio.config.api_key = '37958de57fa5f9d8d4bbec0c0902fd1e'\n",
    "people = indicoio.people(texto)\n",
    "for p in people[:15]:\n",
    "    print p"
   ]
  },
  {
   "cell_type": "code",
   "execution_count": 7,
   "metadata": {
    "collapsed": false
   },
   "outputs": [
    {
     "name": "stdout",
     "output_type": "stream",
     "text": [
      "True\n"
     ]
    }
   ],
   "source": [
    "from string import uppercase\n",
    "\n",
    "def is_person(txt):\n",
    "    partes = txt.split(' ')\n",
    "    if len(partes)<2:\n",
    "        return False\n",
    "    for parte in partes:\n",
    "        try:\n",
    "            if parte[0] not in uppercase:\n",
    "                return False\n",
    "        except:\n",
    "            return False\n",
    "    return True\n",
    "\n",
    "print is_person('Juan Perez')"
   ]
  },
  {
   "cell_type": "code",
   "execution_count": 8,
   "metadata": {
    "collapsed": false
   },
   "outputs": [
    {
     "name": "stdout",
     "output_type": "stream",
     "text": [
      "Felipe Bianchi\n",
      "Sergio Jadue\n",
      "Jaime Estévez\n"
     ]
    }
   ],
   "source": [
    "people = indicoio.people(texto)\n",
    "for p in people:\n",
    "    if is_person(p['text']):\n",
    "        print p['text']\n",
    "    "
   ]
  },
  {
   "cell_type": "markdown",
   "metadata": {},
   "source": [
    "![grafo](graph.png)"
   ]
  },
  {
   "cell_type": "code",
   "execution_count": 9,
   "metadata": {
    "collapsed": false,
    "scrolled": false
   },
   "outputs": [
    {
     "name": "stdout",
     "output_type": "stream",
     "text": [
      "empezamos\n",
      "Michelle Bachelet\n",
      "Michelle Bachelet\n",
      "Michelle Bachelet\n",
      "Rodrigo Valdés\n",
      "Arturo Salah\n",
      "Michelle Bachelet\n",
      "Dilma Rousseff\n",
      "Felipe Sandoval\n",
      "Gabriel Boric\n",
      "Enrique Correa\n",
      "Fundación Mi Casa\n",
      "Soledad Alvear\n",
      "Loreto Ditzel\n",
      "Matías Walker\n",
      "Felipe Bianchi\n",
      "Eduardo Lara\n",
      "Michelle Bachelet\n",
      "Alejandro Buchmann\n",
      "Iván Mlynarz\n",
      "Rolando Jiménez\n",
      "Marcelo Montesinos\n",
      "Ernesto Ottone\n",
      "Carlos Bombal\n",
      "Claudia Apablaza\n",
      "Gabriela Mistral\n",
      "Zaha Hadid\n",
      "Alejandro Aravena\n",
      "Alejandro Aravena\n",
      "Matías Walker\n",
      "Ramiro Mendoza\n",
      "Gerard Baker\n",
      "David Callaway\n",
      "Jeff Jarvis\n",
      "Andrés Rojas Rincón\n",
      "Lindsay Nelson\n",
      "Emilio García-Ruiz\n",
      "Louis Dreyfus\n",
      "Guy Crevier\n",
      "María Teresa Ronderos\n",
      "Liz Heron\n",
      "Mia Mabanta\n",
      "Francisco Mujica\n",
      "Ximena Chong\n",
      "Eduardo Engel\n",
      "Francisco Mujica\n",
      "Yanis Varoufakis\n",
      "Alain Berset\n",
      "Donald Trump\n",
      "Marco Enríquez-Ominami\n",
      "Leonardo Farkas\n",
      "Isabel Allende\n",
      "Leonardo Farkas\n",
      "Ricardo Lagos\n",
      "Marta Lagos\n",
      "Peter Singer\n",
      "Peter Singer\n",
      "Franco Ferrada\n",
      "Donald Trump\n",
      "Adrian Pellerano\n",
      "Cris Felipe\n",
      "Tony Biaginni\n",
      "Inge Lama\n",
      "Carlos Ibáñez\n",
      "Patricio Contesse\n",
      "Carmen Luz Valdivielso\n",
      "Pablo Longueira\n",
      "Carmen Luz Valdivielso\n",
      "Mauricio Daza\n",
      "Jaime Orpis\n",
      "Salvador Allende\n",
      "Javier Rodríguez\n",
      "Exposición Revólver\n",
      "José Miguel Carrera\n",
      "Benito Rebolledo\n",
      "Arturo Gordon\n",
      "Pedro Lira\n",
      "Alberto Valenzuela Llanos\n",
      "terminamos\n"
     ]
    }
   ],
   "source": [
    "import networkx as nx\n",
    "G=nx.Graph()\n",
    "\n",
    "print 'empezamos'\n",
    "for articulo in articulos:\n",
    "    if '2016' not in articulo.attrs['href']:\n",
    "        continue\n",
    "    browser.follow_link(articulo)\n",
    "    texto = browser.select('.cuerpo-noticia')\n",
    "    if texto:\n",
    "        texto = texto[0].text\n",
    "    else:\n",
    "        continue        \n",
    "    try:\n",
    "        people = indicoio.people(texto, threshold=0.22)\n",
    "    except:\n",
    "        continue\n",
    "    palabras = []\n",
    "    for person in people:\n",
    "        nombre = person['text']\n",
    "        if is_person(nombre):\n",
    "            palabras.append(nombre)\n",
    "            print nombre\n",
    "    for palabra1 in set(palabras):\n",
    "        G.add_node(palabra1)\n",
    "        for palabra2 in set(palabras):\n",
    "            if palabra1 != palabra2:\n",
    "                G.add_edge(palabra1, palabra2)\n",
    "print \"terminamos\""
   ]
  },
  {
   "cell_type": "code",
   "execution_count": 10,
   "metadata": {
    "collapsed": false
   },
   "outputs": [
    {
     "name": "stdout",
     "output_type": "stream",
     "text": [
      "Eduardo Engel\n",
      "Felipe Bianchi\n",
      "Gabriela Mistral\n",
      "Marta Lagos\n",
      "Arturo Gordon\n",
      "Gabriel Boric\n",
      "Dilma Rousseff\n",
      "Ricardo Lagos\n",
      "Lindsay Nelson\n",
      "Cris Felipe\n",
      "Alejandro Buchmann\n",
      "Tony Biaginni\n",
      "Leonardo Farkas\n",
      "Emilio García-Ruiz\n",
      "Patricio Contesse\n",
      "Matías Walker\n",
      "Iván Mlynarz\n",
      "Guy Crevier\n",
      "Isabel Allende\n",
      "Eduardo Lara\n"
     ]
    }
   ],
   "source": [
    "for i in G.nodes()[:20]:\n",
    "    print i"
   ]
  },
  {
   "cell_type": "code",
   "execution_count": 11,
   "metadata": {
    "collapsed": false
   },
   "outputs": [
    {
     "name": "stdout",
     "output_type": "stream",
     "text": [
      "(u'Eduardo Engel', u'Francisco Mujica')\n",
      "(u'Eduardo Engel', u'Ximena Chong')\n",
      "(u'Marta Lagos', u'Donald Trump')\n",
      "(u'Marta Lagos', u'Isabel Allende')\n",
      "(u'Marta Lagos', u'Marco Enr\\xedquez-Ominami')\n",
      "(u'Marta Lagos', u'Ricardo Lagos')\n",
      "(u'Marta Lagos', u'Leonardo Farkas')\n",
      "(u'Arturo Gordon', u'Alberto Valenzuela Llanos')\n",
      "(u'Arturo Gordon', u'Pedro Lira')\n",
      "(u'Arturo Gordon', u'Benito Rebolledo')\n",
      "(u'Gabriel Boric', u'Dilma Rousseff')\n",
      "(u'Gabriel Boric', u'Felipe Sandoval')\n",
      "(u'Dilma Rousseff', u'Felipe Sandoval')\n",
      "(u'Ricardo Lagos', u'Donald Trump')\n",
      "(u'Ricardo Lagos', u'Isabel Allende')\n",
      "(u'Ricardo Lagos', u'Marco Enr\\xedquez-Ominami')\n",
      "(u'Ricardo Lagos', u'Leonardo Farkas')\n",
      "(u'Lindsay Nelson', u'Gerard Baker')\n",
      "(u'Lindsay Nelson', u'Guy Crevier')\n",
      "(u'Lindsay Nelson', u'Emilio Garc\\xeda-Ruiz')\n"
     ]
    }
   ],
   "source": [
    "for i in G.edges()[:20]:\n",
    "    print i"
   ]
  },
  {
   "cell_type": "code",
   "execution_count": 12,
   "metadata": {
    "collapsed": false
   },
   "outputs": [],
   "source": [
    "import json\n",
    "from networkx.readwrite import json_graph\n",
    " \n",
    "for n in G:\n",
    "    G.node[n]['name'] = n\n",
    " \n",
    "d = json_graph.node_link_data(G)\n",
    "json.dump(d, open('force/force.json','w'), sort_keys=True, indent=4, separators=(',', ': '))"
   ]
  },
  {
   "cell_type": "markdown",
   "metadata": {},
   "source": [
    "[json 1](force/force.json)\n",
    "\n",
    "[grafo 1](force/force.html)"
   ]
  },
  {
   "cell_type": "code",
   "execution_count": 13,
   "metadata": {
    "collapsed": false
   },
   "outputs": [],
   "source": [
    "to_remove = []\n",
    "G2 = G.copy()\n",
    "for i in nx.connected_component_subgraphs(G2):\n",
    "    c = nx.average_clustering(i)\n",
    "    if c==1 or c==0:\n",
    "        to_remove.append(i)\n",
    "        \n",
    "for i in to_remove:        \n",
    "    G2.remove_nodes_from(i)\n",
    "\n",
    "for n in G2:\n",
    "    G2.node[n]['name'] = n\n",
    " \n",
    "d = json_graph.node_link_data(G2)\n",
    "json.dump(d, open('force2/force.json','w'), sort_keys=True, indent=4, separators=(',', ': '))"
   ]
  },
  {
   "cell_type": "markdown",
   "metadata": {
    "collapsed": true
   },
   "source": [
    "[json 2](force2/force.json)\n",
    "\n",
    "[grafo 2](force2/force.html)"
   ]
  },
  {
   "cell_type": "code",
   "execution_count": null,
   "metadata": {
    "collapsed": true
   },
   "outputs": [],
   "source": []
  }
 ],
 "metadata": {
  "kernelspec": {
   "display_name": "Python 2",
   "language": "python",
   "name": "python2"
  },
  "language_info": {
   "codemirror_mode": {
    "name": "ipython",
    "version": 2
   },
   "file_extension": ".py",
   "mimetype": "text/x-python",
   "name": "python",
   "nbconvert_exporter": "python",
   "pygments_lexer": "ipython2",
   "version": "2.7.11"
  }
 },
 "nbformat": 4,
 "nbformat_minor": 0
}
