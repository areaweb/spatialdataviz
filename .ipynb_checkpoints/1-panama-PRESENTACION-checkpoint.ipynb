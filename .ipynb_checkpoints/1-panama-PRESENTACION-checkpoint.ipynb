{
 "cells": [
  {
   "cell_type": "markdown",
   "metadata": {},
   "source": [
    "[Addresses.csv](data/Addresses.csv)"
   ]
  },
  {
   "cell_type": "code",
   "execution_count": null,
   "metadata": {
    "collapsed": false
   },
   "outputs": [],
   "source": [
    "import pandas\n",
    "adds = pandas.read_csv(\"data/Addresses.csv\", dtype=str)\n",
    "adds.head()"
   ]
  },
  {
   "cell_type": "code",
   "execution_count": null,
   "metadata": {
    "collapsed": false
   },
   "outputs": [],
   "source": [
    "adds=adds[adds['countries']=='Chile']\n",
    "adds=adds[adds['address'].str.contains(\"Santiago\")]\n",
    "adds.head()"
   ]
  },
  {
   "cell_type": "code",
   "execution_count": null,
   "metadata": {
    "collapsed": false
   },
   "outputs": [],
   "source": [
    "import geocoder\n",
    "g = geocoder.google(u\"Pdte Errazuriz 3485, Las Condes, Chile\" )\n",
    "print g.latlng"
   ]
  },
  {
   "cell_type": "code",
   "execution_count": null,
   "metadata": {
    "collapsed": false
   },
   "outputs": [],
   "source": [
    "import folium\n",
    "import unicodedata\n",
    "coords = []\n",
    "x=0\n",
    "for name, row in adds.iterrows():\n",
    "    x+=1\n",
    "    if x>200:\n",
    "        break\n",
    "    try:\n",
    "        add= u\"%s\" % row['address']\n",
    "        add = unicodedata.normalize('NFD', add).encode('ascii', 'ignore')\n",
    "        g = geocoder.google(u\"%s\" % add)\n",
    "        lat, lon = g.latlng\n",
    "        coords.append(tuple(g.latlng))\n",
    "        print lat, lon\n",
    "    except:\n",
    "        print 'fail', add\n",
    "        continue"
   ]
  },
  {
   "cell_type": "markdown",
   "metadata": {},
   "source": [
    "[Stamen Toner](http://maps.stamen.com/toner/#15/-33.4187/-70.5908)"
   ]
  },
  {
   "cell_type": "code",
   "execution_count": null,
   "metadata": {
    "collapsed": false,
    "scrolled": false
   },
   "outputs": [],
   "source": [
    "map = folium.Map(location=[-33.39, -70.57], zoom_start=10, tiles='Stamen Toner')\n",
    "for coord in coords:\n",
    "    lat,lon = coord\n",
    "    map.add_children(folium.CircleMarker([lat,lon],color='rgba(255,0,0,0.75)',\n",
    "                    fill_color='rgba(255,0,0,0.75)', radius=200))\n",
    "# Create and show the map.\n",
    "map.save('panama.html')\n",
    "map"
   ]
  },
  {
   "cell_type": "markdown",
   "metadata": {
    "collapsed": true
   },
   "source": [
    "[panama.html](panama.html)"
   ]
  }
 ],
 "metadata": {
  "kernelspec": {
   "display_name": "Python 2",
   "language": "python",
   "name": "python2"
  },
  "language_info": {
   "codemirror_mode": {
    "name": "ipython",
    "version": 2
   },
   "file_extension": ".py",
   "mimetype": "text/x-python",
   "name": "python",
   "nbconvert_exporter": "python",
   "pygments_lexer": "ipython2",
   "version": "2.7.11"
  }
 },
 "nbformat": 4,
 "nbformat_minor": 0
}
