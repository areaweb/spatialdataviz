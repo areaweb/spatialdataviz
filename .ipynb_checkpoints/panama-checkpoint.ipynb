{
 "cells": [
  {
   "cell_type": "code",
   "execution_count": 26,
   "metadata": {
    "collapsed": true
   },
   "outputs": [],
   "source": [
    "import pandas\n",
    "adds = pandas.read_csv(\"data/Addresses.csv\", dtype=str)"
   ]
  },
  {
   "cell_type": "code",
   "execution_count": 27,
   "metadata": {
    "collapsed": false
   },
   "outputs": [
    {
     "data": {
      "text/html": [
       "<div>\n",
       "<table border=\"1\" class=\"dataframe\">\n",
       "  <thead>\n",
       "    <tr style=\"text-align: right;\">\n",
       "      <th></th>\n",
       "      <th>address</th>\n",
       "      <th>icij_id</th>\n",
       "      <th>valid_until</th>\n",
       "      <th>country_codes</th>\n",
       "      <th>countries</th>\n",
       "      <th>node_id</th>\n",
       "      <th>sourceID</th>\n",
       "    </tr>\n",
       "  </thead>\n",
       "  <tbody>\n",
       "    <tr>\n",
       "      <th>0</th>\n",
       "      <td>-\\t27 ROSEWOOD DRIVE #16-19 SINGAPORE 737920</td>\n",
       "      <td>6991059DFFB057DF310B9BF31CC4A0E6</td>\n",
       "      <td>The Panama Papers  data is current through 2015</td>\n",
       "      <td>SGP</td>\n",
       "      <td>Singapore</td>\n",
       "      <td>14000001</td>\n",
       "      <td>Panama Papers</td>\n",
       "    </tr>\n",
       "    <tr>\n",
       "      <th>1</th>\n",
       "      <td>\"Almaly Village\" v.5, Almaty Kazakhstan</td>\n",
       "      <td>C65A269424AA1A8BBAC416FA30150938</td>\n",
       "      <td>The Panama Papers  data is current through 2015</td>\n",
       "      <td>KAZ</td>\n",
       "      <td>Kazakhstan</td>\n",
       "      <td>14000002</td>\n",
       "      <td>Panama Papers</td>\n",
       "    </tr>\n",
       "    <tr>\n",
       "      <th>2</th>\n",
       "      <td>\"Cantonia\" South Road St Georges Hill Weybridg...</td>\n",
       "      <td>240EE44DFB70AF775E6CD02AF8CB889B</td>\n",
       "      <td>The Panama Papers  data is current through 2015</td>\n",
       "      <td>GBR</td>\n",
       "      <td>United Kingdom</td>\n",
       "      <td>14000003</td>\n",
       "      <td>Panama Papers</td>\n",
       "    </tr>\n",
       "    <tr>\n",
       "      <th>3</th>\n",
       "      <td>\"CAY-OS\" NEW ROAD; ST.SAMPSON; GUERNSEY; CHANN...</td>\n",
       "      <td>340C6D3D2FC60AE58C53BB3618129C43</td>\n",
       "      <td>The Panama Papers  data is current through 2015</td>\n",
       "      <td>GGY</td>\n",
       "      <td>Guernsey</td>\n",
       "      <td>14000004</td>\n",
       "      <td>Panama Papers</td>\n",
       "    </tr>\n",
       "    <tr>\n",
       "      <th>4</th>\n",
       "      <td>\"Chirag\" Plot No 652; Mwamba Road; Kizingo; Mo...</td>\n",
       "      <td>6DBCD74F5AAB63EABC166885CE8CD7CD</td>\n",
       "      <td>The Panama Papers  data is current through 2015</td>\n",
       "      <td>KEN</td>\n",
       "      <td>Kenya</td>\n",
       "      <td>14000005</td>\n",
       "      <td>Panama Papers</td>\n",
       "    </tr>\n",
       "  </tbody>\n",
       "</table>\n",
       "</div>"
      ],
      "text/plain": [
       "                                             address  \\\n",
       "0       -\\t27 ROSEWOOD DRIVE #16-19 SINGAPORE 737920   \n",
       "1            \"Almaly Village\" v.5, Almaty Kazakhstan   \n",
       "2  \"Cantonia\" South Road St Georges Hill Weybridg...   \n",
       "3  \"CAY-OS\" NEW ROAD; ST.SAMPSON; GUERNSEY; CHANN...   \n",
       "4  \"Chirag\" Plot No 652; Mwamba Road; Kizingo; Mo...   \n",
       "\n",
       "                            icij_id  \\\n",
       "0  6991059DFFB057DF310B9BF31CC4A0E6   \n",
       "1  C65A269424AA1A8BBAC416FA30150938   \n",
       "2  240EE44DFB70AF775E6CD02AF8CB889B   \n",
       "3  340C6D3D2FC60AE58C53BB3618129C43   \n",
       "4  6DBCD74F5AAB63EABC166885CE8CD7CD   \n",
       "\n",
       "                                       valid_until country_codes  \\\n",
       "0  The Panama Papers  data is current through 2015           SGP   \n",
       "1  The Panama Papers  data is current through 2015           KAZ   \n",
       "2  The Panama Papers  data is current through 2015           GBR   \n",
       "3  The Panama Papers  data is current through 2015           GGY   \n",
       "4  The Panama Papers  data is current through 2015           KEN   \n",
       "\n",
       "        countries   node_id       sourceID  \n",
       "0       Singapore  14000001  Panama Papers  \n",
       "1      Kazakhstan  14000002  Panama Papers  \n",
       "2  United Kingdom  14000003  Panama Papers  \n",
       "3        Guernsey  14000004  Panama Papers  \n",
       "4           Kenya  14000005  Panama Papers  "
      ]
     },
     "execution_count": 27,
     "metadata": {},
     "output_type": "execute_result"
    }
   ],
   "source": [
    "adds.head()"
   ]
  },
  {
   "cell_type": "code",
   "execution_count": 28,
   "metadata": {
    "collapsed": false
   },
   "outputs": [
    {
     "data": {
      "text/html": [
       "<div>\n",
       "<table border=\"1\" class=\"dataframe\">\n",
       "  <thead>\n",
       "    <tr style=\"text-align: right;\">\n",
       "      <th></th>\n",
       "      <th>address</th>\n",
       "      <th>icij_id</th>\n",
       "      <th>valid_until</th>\n",
       "      <th>country_codes</th>\n",
       "      <th>countries</th>\n",
       "      <th>node_id</th>\n",
       "      <th>sourceID</th>\n",
       "    </tr>\n",
       "  </thead>\n",
       "  <tbody>\n",
       "    <tr>\n",
       "      <th>23994</th>\n",
       "      <td>9; Allée de Sancy; F-78 Maule</td>\n",
       "      <td>7FC42A1EFF124851F4BC2741DFF3979A</td>\n",
       "      <td>The Panama Papers  data is current through 2015</td>\n",
       "      <td>CHL</td>\n",
       "      <td>Chile</td>\n",
       "      <td>14024518</td>\n",
       "      <td>Panama Papers</td>\n",
       "    </tr>\n",
       "    <tr>\n",
       "      <th>24119</th>\n",
       "      <td>9 de octubre #416 y Chile; Edificio Citibank; ...</td>\n",
       "      <td>E01051C402DC20F0BDBA83DC60E276CB</td>\n",
       "      <td>The Panama Papers  data is current through 2015</td>\n",
       "      <td>CHL</td>\n",
       "      <td>Chile</td>\n",
       "      <td>14024643</td>\n",
       "      <td>Panama Papers</td>\n",
       "    </tr>\n",
       "    <tr>\n",
       "      <th>24883</th>\n",
       "      <td>Aguas Claras 220; Dept 61; Lo Barnechea; Santi...</td>\n",
       "      <td>46749D72F7E660E52A483B3CA3EB7B70</td>\n",
       "      <td>The Panama Papers  data is current through 2015</td>\n",
       "      <td>CHL</td>\n",
       "      <td>Chile</td>\n",
       "      <td>14025407</td>\n",
       "      <td>Panama Papers</td>\n",
       "    </tr>\n",
       "    <tr>\n",
       "      <th>24887</th>\n",
       "      <td>Agustin del Castillo 2400; Depto. 501; Comuna ...</td>\n",
       "      <td>C5E4806B33902C4F1F65D1856C3BB21A</td>\n",
       "      <td>The Panama Papers  data is current through 2015</td>\n",
       "      <td>CHL</td>\n",
       "      <td>Chile</td>\n",
       "      <td>14025411</td>\n",
       "      <td>Panama Papers</td>\n",
       "    </tr>\n",
       "    <tr>\n",
       "      <th>25887</th>\n",
       "      <td>Alcalde Edo Castillo Velasco 2054; Ñuñoa; Sant...</td>\n",
       "      <td>777AAC999799D024AECAAE60BFD5C51B</td>\n",
       "      <td>The Panama Papers  data is current through 2015</td>\n",
       "      <td>CHL</td>\n",
       "      <td>Chile</td>\n",
       "      <td>14026411</td>\n",
       "      <td>Panama Papers</td>\n",
       "    </tr>\n",
       "  </tbody>\n",
       "</table>\n",
       "</div>"
      ],
      "text/plain": [
       "                                                 address  \\\n",
       "23994                      9; Allée de Sancy; F-78 Maule   \n",
       "24119  9 de octubre #416 y Chile; Edificio Citibank; ...   \n",
       "24883  Aguas Claras 220; Dept 61; Lo Barnechea; Santi...   \n",
       "24887  Agustin del Castillo 2400; Depto. 501; Comuna ...   \n",
       "25887  Alcalde Edo Castillo Velasco 2054; Ñuñoa; Sant...   \n",
       "\n",
       "                                icij_id  \\\n",
       "23994  7FC42A1EFF124851F4BC2741DFF3979A   \n",
       "24119  E01051C402DC20F0BDBA83DC60E276CB   \n",
       "24883  46749D72F7E660E52A483B3CA3EB7B70   \n",
       "24887  C5E4806B33902C4F1F65D1856C3BB21A   \n",
       "25887  777AAC999799D024AECAAE60BFD5C51B   \n",
       "\n",
       "                                           valid_until country_codes  \\\n",
       "23994  The Panama Papers  data is current through 2015           CHL   \n",
       "24119  The Panama Papers  data is current through 2015           CHL   \n",
       "24883  The Panama Papers  data is current through 2015           CHL   \n",
       "24887  The Panama Papers  data is current through 2015           CHL   \n",
       "25887  The Panama Papers  data is current through 2015           CHL   \n",
       "\n",
       "      countries   node_id       sourceID  \n",
       "23994     Chile  14024518  Panama Papers  \n",
       "24119     Chile  14024643  Panama Papers  \n",
       "24883     Chile  14025407  Panama Papers  \n",
       "24887     Chile  14025411  Panama Papers  \n",
       "25887     Chile  14026411  Panama Papers  "
      ]
     },
     "execution_count": 28,
     "metadata": {},
     "output_type": "execute_result"
    }
   ],
   "source": [
    "adds=adds[adds['countries']=='Chile']\n",
    "adds=adds[adds['address'].str.contains(\"Santiago\")]\n",
    "adds.head()"
   ]
  },
  {
   "cell_type": "code",
   "execution_count": 5,
   "metadata": {
    "collapsed": false
   },
   "outputs": [],
   "source": [
    "import folium\n",
    "import geocoder\n",
    "import unicodedata\n"
   ]
  },
  {
   "cell_type": "code",
   "execution_count": null,
   "metadata": {
    "collapsed": false
   },
   "outputs": [
    {
     "name": "stdout",
     "output_type": "stream",
     "text": [
      "fail Principe de Gales 8007 A La Reina; Santiago; Chile.\n",
      "fail Principe de Gales 8007 A La Reina; Santiago; Chile.\n",
      "-33.3582893 -70.5469872\n",
      "-33.3905211 -70.5724124\n",
      "fail Agustin del Castillo 2400; Depto. 501; Comuna de Vitacura; Santiago; Chile.\n",
      "fail Agustin del Castillo 2400; Depto. 501; Comuna de Vitacura; Santiago; Chile.\n",
      "-33.378039 -70.6346786\n",
      "-33.4303296 -70.5907291\n",
      "-33.0282898 -71.5841041\n",
      "-33.6178687 -70.6209345\n",
      "fail A ROOM, 6F.\n",
      "-36.8510239 -73.0992347\n",
      "fail Av. Andalue 1620/A41; Conceotion; Chili\n",
      "fail Av. Andalue 1620/A41; Conceotion; Chili\n",
      "-33.3742128 -70.6367425\n",
      "-36.8504921 -73.0984727\n",
      "-33.4098736 -70.7240893\n",
      "-33.4488897 -70.6692655\n",
      "-33.4488897 -70.6692655\n",
      "-33.4189184 -70.5992735\n",
      "fail Avenida El Bosque Sur 130; piso 12; Las Condes; Santoago de Chile\n",
      "-33.4314474 -70.6093325\n",
      "-33.4421135 -70.7640644\n",
      "-33.4510482 -70.6024573\n",
      "-33.4111326 -70.6023893\n",
      "-33.3975364 -70.5835587\n",
      "-33.3400588 -70.5513969\n",
      "-33.3703906 -70.5117619\n",
      "-33.3758858 -70.5793991\n",
      "-33.4211084 -70.6076846\n",
      "-33.4484692 -70.6150504\n",
      "-33.4054373 -70.5762715\n",
      "-33.4314474 -70.6093325\n",
      "fail Av. Suecia 1809; dpto. 72; Comuna de Providencia; Chile\n",
      "-33.4270004 -70.6125385\n",
      "-33.352669 -70.518517\n",
      "-33.4087844 -70.567069\n",
      "fail C/El Convento 720; Comuna De Las Condes; Santiago Chile\n",
      "fail Calle Asturias 280; oficina 701; Las Condes; Santiago de Chile; Rep. de Chile\n",
      "-33.4437335 -70.6279455\n",
      "-33.4151297 -70.5922177\n",
      "fail Calle El Golf 40 piso 12, Las Condes Santiago de Chile\n",
      "fail Calle El Golf 40 piso 12, Las Condes Santiago de Chile\n",
      "-33.4586717 -70.5611267\n",
      "fail Camberra 620; La Reina; Santiago; Chile.\n",
      "-33.3243917 -70.5438346\n",
      "-33.3958845 -70.5411324\n",
      "-33.396093 -70.5411396\n",
      "28.1291994 -15.4436814\n",
      "-33.411979 -70.5349449\n",
      "fail Con domicilio en Rio Guadiana 9226; Las Condes; Santiago; Chile\n",
      "fail Con domicilio en Rio Guadiana 9226; Las Condes; Santiago; Chile\n",
      "-33.3548464 -70.5165236\n",
      "-33.3513406 -70.5367714\n",
      "fail Encomenderos 253; Oficina 12; Comunas de las Condes; Santiago de Chile; 7550166\n",
      "-33.3969263 -70.5995975\n",
      "-33.3905211 -70.5724124\n",
      "-33.4302275 -70.6177735\n",
      "-33.4134094 -70.5876679\n",
      "-33.2832474 -70.6345255\n",
      "-33.4165212 -70.5926904\n",
      "-33.4231745 -70.599879\n",
      "-33.4314935 -70.6230085\n",
      "fail Huelen 56; Dpto.B; Proviencia; Santiago; Chile.\n",
      "-33.4399766 -70.6531155\n",
      "-33.4399766 -70.6531155\n",
      "-33.4396961 -70.6516047\n",
      "-33.4330125 -70.6234459\n",
      "fail Jose Manuel Infante 1.158; Providencia; Santiago; Chile\n",
      "-33.4160087 -70.5668379\n",
      "-33.3917755 -70.5214665\n",
      "fail LA FUENTE 1177, LAS CONDES SANTIAGO\n",
      "fail Las Cinerarias 800; Bosques de Montemar Con Con; Chile\n",
      "-33.4087844 -70.567069\n",
      "-33.3977576 -70.5781755\n",
      "-33.4756007 -70.5383203\n",
      "-33.366753 -70.5809625\n",
      "-33.4311581 -70.6025654\n",
      "-33.4078266 -70.5758832\n",
      "fail Los Militares 5150 depto 2003; Las Condes; Santiago; Chile\n",
      "fail Los Militares 5150 depto 2003; Las Condes; Santiago; Chile\n",
      "-33.3608369 -70.5273465\n",
      "-33.3892541 -70.5884347\n",
      "-33.4143118 -70.5935384\n",
      "fail Magdalena 140; Piso 21; Las Condes; Santiago; Chile\n",
      "fail Magdalena 140; Piso 21; Las Condes; Santiago; Chile\n",
      "fail Magdalena 140; Piso 21; Las Condes; Santiago; Chile\n",
      "-33.4438264 -70.6173071\n",
      "-33.4293898 -70.6277326\n",
      "fail NO.18 EAST STREET LUDAOKOU VILLAGE YANGTING TOWN HUANCUI DISTRICT WEIHAI CITY, SHANDONG PROVINCE\n",
      "-33.399852 -70.598181\n",
      "-33.4110832 -70.5789116\n",
      "-33.2824072 -70.7384418\n",
      "-33.6637468 -70.9273937\n",
      "fail Parcelacion Amancay; Camino al Peumo; Parcela 8; Talagante; Chile\n",
      "-33.3615798 -70.482196\n",
      "fail Pastor Fernandez 16200 Lo Barnechea; Santiago; Chile\n",
      "-33.4400089 -70.5483545\n",
      "fail Principe de Gales 8007 A La Reina; Santiago; Chile.\n",
      "fail Principe de Gales 8007 A La Reina; Santiago; Chile.\n",
      "-33.403887 -70.5733872\n",
      "-33.4087844 -70.567069\n",
      "-33.4659114 -70.6870501\n",
      "-29.9590009 -71.3389183\n",
      "-33.3350385 -70.7173226\n",
      "-33.3291732 -70.7020092\n",
      "fail San Ignacio 101; Quilicura; Santiago; Chile.\n",
      "-33.4151832 -70.6006806\n",
      "-33.2044597 -70.6758505\n",
      "fail SANTA MARTA DE LIRAY LOTE 4 PARC 19A S/N - COLINA, CHILE\n",
      "-33.3769042 -70.5832475\n",
      "-33.4235788 -70.5776717\n",
      "-33.3874219 -70.55135\n",
      "-33.3905211 -70.5724124\n",
      "fail Avenida Las Condes N 7700, Pl Las Condes\n",
      "-33.3943929 -70.5929228\n",
      "fail Agustin del Castillo 2400; Vitacura; Santiago; Chile\n",
      "-33.3243917 -70.5438346\n",
      "-33.4143118 -70.5935384\n",
      "-33.4314474 -70.6093325\n",
      "-33.411979 -70.5349449\n",
      "-33.518938 -70.7668647\n",
      "-36.8510239 -73.0992347\n",
      "-33.4087844 -70.567069\n",
      "-35.675147 -71.542969\n",
      "fail CHILE\n",
      "-29.9590009 -71.3389183\n",
      "-33.4004057 -70.5290537\n",
      "fail Camino Mirasol 1569; Santiago Las Condes; Chile\n",
      "fail Camino Mirasol 1569; Santiago Las Condes; Chile\n",
      "fail Camino Mirasol 1569; Santiago Las Condes; Chile\n",
      "-33.3969312 -70.568752\n",
      "-33.4488897 -70.6692655\n",
      "fail DELFIN WORLDWIDE GROUP S.A. RECART BILBAO VILLALOBOS  ABOGADOS LIMITADA SANTIAGO, CHILE\n",
      "fail DELFIN WORLDWIDE GROUP S.A. RECART BILBAO VILLALOBOS  ABOGADOS LIMITADA SANTIAGO, CHILE\n",
      "-33.4151297 -70.5922177\n",
      "-33.403887 -70.5733872\n",
      "-33.403887 -70.5733872\n",
      "fail ROSARIO NORTE 615 LAS CONDES SANTIAGO DE CHILE\n",
      "fail ROSARIO NORTE 615 LAS CONDES SANTIAGO DE CHILE\n",
      "-33.4238329 -70.6224425\n",
      "-33.4168157 -70.5985298\n",
      "-33.3740683 -70.5470884\n",
      "-33.4405776 -70.6453107\n",
      "-33.3594861 -70.4825932\n",
      "-33.3758394 -70.5773706\n",
      "-33.4186107 -70.5919693\n",
      "-33.545305 -70.6746371\n",
      "-33.4202268 -70.6041302\n",
      "-33.4556915 -70.6044907\n",
      "-33.4162772 -70.6037789\n",
      "-33.4315749 -70.6370635\n",
      "-33.3845912 -70.534584\n",
      "-33.4812278 -70.6341231\n",
      "-33.3895687 -70.5408764\n",
      "-33.4270004"
     ]
    }
   ],
   "source": [
    "coords = []\n",
    "x=0\n",
    "for name, row in adds.iterrows():\n",
    "    x+=1\n",
    "    if x>200:\n",
    "        break\n",
    "    try:\n",
    "        add= u\"%s\" % row['address']\n",
    "        add = unicodedata.normalize('NFD', add).encode('ascii', 'ignore')\n",
    "        g = geocoder.google(u\"%s\" % add)\n",
    "        lat, lon = g.latlng\n",
    "        coords.append(tuple(g.latlng))\n",
    "        print lat, lon\n",
    "    except:\n",
    "        print 'fail', add\n",
    "        continue\n",
    "    "
   ]
  },
  {
   "cell_type": "code",
   "execution_count": 30,
   "metadata": {
    "collapsed": false,
    "scrolled": true
   },
   "outputs": [
    {
     "name": "stdout",
     "output_type": "stream",
     "text": [
      "-32.614104087 -69.8864389203\n"
     ]
    }
   ],
   "source": [
    "avg_lat = sum([i for i,j in coords])/len(coords)\n",
    "avg_lon = sum([j for i,j in coords])/len(coords)\n",
    "print avg_lat, avg_lon"
   ]
  },
  {
   "cell_type": "code",
   "execution_count": 31,
   "metadata": {
    "collapsed": false,
    "scrolled": false
   },
   "outputs": [
    {
     "name": "stdout",
     "output_type": "stream",
     "text": [
      "Counter({(-33.3905211, -70.57241239999999): 2, (-33.4488897, -70.6692655): 2, (-33.4314474, -70.6093325): 2, (-33.4087844, -70.567069): 2, (-33.4399766, -70.6531155): 2, (-33.4098736, -70.7240893): 1, (-33.4270004, -70.6125385): 1, (-33.6178687, -70.62093449999999): 1, (-33.3958845, -70.5411324): 1, (-33.396093, -70.54113960000001): 1, (-33.3243917, -70.5438346): 1, (-33.352669, -70.518517): 1, (-33.4437335, -70.6279455): 1, (-33.3582893, -70.5469872): 1, (-33.4510482, -70.6024573): 1, (-33.4111326, -70.6023893): 1, (-33.4303296, -70.59072909999999): 1, (-36.8504921, -73.0984727): 1, (-33.399852, -70.598181): 1, (-33.378039, -70.6346786): 1, (-33.2824072, -70.73844179999999): 1, (-33.4756007, -70.5383203): 1, (-33.3400588, -70.5513969): 1, (-33.3917755, -70.5214665): 1, (-33.2832474, -70.6345255): 1, (-33.4438264, -70.61730709999999): 1, (-33.4134094, -70.5876679): 1, (-33.4160087, -70.5668379): 1, (-33.4421135, -70.7640644): 1, (-33.4330125, -70.6234459): 1, (-33.3742128, -70.6367425): 1, (-36.8510239, -73.0992347): 1, (-33.0282898, -71.58410409999999): 1, (-33.3758858, -70.5793991): 1, (-33.4302275, -70.6177735): 1, (-33.6637468, -70.9273937): 1, (-33.3548464, -70.5165236): 1, (-33.4311581, -70.6025654): 1, (-33.4143118, -70.5935384): 1, (-33.3703906, -70.5117619): 1, (-33.4078266, -70.57588319999999): 1, (-33.366753, -70.5809625): 1, (-33.3892541, -70.5884347): 1, (-33.4151297, -70.59221769999999): 1, (-33.4054373, -70.57627149999999): 1, (-33.3513406, -70.53677139999999): 1, (-33.411979, -70.5349449): 1, (-33.3969263, -70.5995975): 1, (-33.3975364, -70.5835587): 1, (-33.3977576, -70.5781755): 1, (-33.4396961, -70.6516047): 1, (-33.4314935, -70.6230085): 1, (-33.4293898, -70.6277326): 1, (-33.4400089, -70.5483545): 1, (-33.4484692, -70.6150504): 1, (-33.4586717, -70.56112670000002): 1, (-33.4110832, -70.5789116): 1, (-33.3608369, -70.5273465): 1, (-33.4165212, -70.5926904): 1, (28.1291994, -15.4436814): 1, (-33.4211084, -70.6076846): 1, (-33.3615798, -70.482196): 1, (-33.4231745, -70.599879): 1, (-33.4189184, -70.5992735): 1})\n"
     ]
    }
   ],
   "source": [
    "from collections import Counter\n",
    "c = Counter(coords)\n",
    "print c"
   ]
  },
  {
   "cell_type": "code",
   "execution_count": 32,
   "metadata": {
    "collapsed": false,
    "scrolled": true
   },
   "outputs": [
    {
     "data": {
      "text/html": [
       "<div style=\"width:100%;\"><div style=\"position:relative;width:100%;height:0;padding-bottom:60%;\"><iframe src=\"data:text/html;base64,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\" style=\"position:absolute;width:100%;height:100%;left:0;top:0;\"></iframe></div></div>"
      ],
      "text/plain": [
       "<folium.folium.Map at 0x117e6f590>"
      ]
     },
     "execution_count": 32,
     "metadata": {},
     "output_type": "execute_result"
    }
   ],
   "source": [
    "map = folium.Map(location=[avg_lat, avg_lon], zoom_start=10, tiles='Stamen Toner')\n",
    "for coord, n in c.items():\n",
    "    lat,lon = coord\n",
    "    map.add_children(folium.CircleMarker([lat,lon],color='#ff000',\n",
    "                    fill_color='#ff0000', radius=n*100))\n",
    "# Create and show the map.\n",
    "map.save('airports.html')\n",
    "map"
   ]
  },
  {
   "cell_type": "code",
   "execution_count": null,
   "metadata": {
    "collapsed": true
   },
   "outputs": [],
   "source": []
  }
 ],
 "metadata": {
  "kernelspec": {
   "display_name": "Python 2",
   "language": "python",
   "name": "python2"
  },
  "language_info": {
   "codemirror_mode": {
    "name": "ipython",
    "version": 2
   },
   "file_extension": ".py",
   "mimetype": "text/x-python",
   "name": "python",
   "nbconvert_exporter": "python",
   "pygments_lexer": "ipython2",
   "version": "2.7.11"
  }
 },
 "nbformat": 4,
 "nbformat_minor": 0
}
