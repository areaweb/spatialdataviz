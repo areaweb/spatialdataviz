{
 "cells": [
  {
   "cell_type": "code",
   "execution_count": 44,
   "metadata": {
    "collapsed": false
   },
   "outputs": [
    {
     "name": "stdout",
     "output_type": "stream",
     "text": [
      "[(u'mayor', 6), (u'importante', 5), (u'Maduro', 4), (u'primer', 4), (u'alto', 4), (u'mismo', 4), (u'segunda', 4), (u'primera', 4), (u'San', 3), (u'ex', 3), (u'presidenciales', 3), (u'nuevo', 3), (u'total', 3), (u'reales', 3), (u'republicano', 3), (u'mejor', 3), (u'p\\xfablicas', 3), (u'nacional', 2), (u'corporativo', 2), (u'importantes', 2), (u'multimillonario', 2), (u'demon\\xedaca', 2), (u'interino', 2), (u'comunales', 2), (u'pol\\xedticas', 2), (u'judiciales', 2), (u'gran', 2), (u'judicial', 2), (u'popular', 2), (u'militares', 2)]\n"
     ]
    }
   ],
   "source": [
    "from robobrowser import RoboBrowser\n",
    "from textblob import TextBlob\n",
    "from pattern.es import tag\n",
    "url = 'http://www.emol.com/'\n",
    "from pattern.vector import KNN, count\n",
    "from collections import Counter\n",
    "archivo = open('sentiment.csv', 'w')\n",
    "\n",
    "browser = RoboBrowser(history=True, parser='html5lib')\n",
    "browser.open(url)\n",
    "titulos = browser.select('h3 a')\n",
    "c=Counter()\n",
    "for titulo in titulos:\n",
    "        browser.follow_link(titulo)\n",
    "        texto = browser.select('#cuDetalle_cuTexto_textoNoticia')[0].text\n",
    "        titulo = browser.select('h1')[0].text\n",
    "        blob = TextBlob(texto)\n",
    "        linea = str(blob.sentiment.polarity)+','+str(blob.sentiment.subjectivity)+'\\n'\n",
    "        #print blob.words\n",
    "        v = tag(texto)\n",
    "        v = [word for word, pos in v if pos == 'JJ'] # JJ = adjective\n",
    "        c.update(v)\n",
    "        \n",
    "        #archivo.write(linea)\n",
    "\n",
    "print c.most_common(30)\n"
   ]
  },
  {
   "cell_type": "code",
   "execution_count": 39,
   "metadata": {
    "collapsed": false
   },
   "outputs": [
    {
     "data": {
      "text/plain": [
       "dict"
      ]
     },
     "execution_count": 39,
     "metadata": {},
     "output_type": "execute_result"
    }
   ],
   "source": []
  },
  {
   "cell_type": "code",
   "execution_count": null,
   "metadata": {
    "collapsed": true
   },
   "outputs": [],
   "source": []
  }
 ],
 "metadata": {
  "kernelspec": {
   "display_name": "Python 2",
   "language": "python",
   "name": "python2"
  },
  "language_info": {
   "codemirror_mode": {
    "name": "ipython",
    "version": 2
   },
   "file_extension": ".py",
   "mimetype": "text/x-python",
   "name": "python",
   "nbconvert_exporter": "python",
   "pygments_lexer": "ipython2",
   "version": "2.7.11"
  }
 },
 "nbformat": 4,
 "nbformat_minor": 0
}
