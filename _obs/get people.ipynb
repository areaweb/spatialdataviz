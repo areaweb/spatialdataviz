{
 "cells": [
  {
   "cell_type": "code",
   "execution_count": 8,
   "metadata": {
    "collapsed": false
   },
   "outputs": [
    {
     "name": "stdout",
     "output_type": "stream",
     "text": [
      "Benito Mussolini 0.945443034172\n",
      "Francesco Starace 0.658991277218\n",
      "Matteo Renzi 0.600738525391\n",
      "Augusto Pinochet 0.908190131187\n",
      "Michelle Bachelet 0.641868054867\n",
      "Jorge Burgos 0.528574228287\n",
      "Michelle Bachelet 0.950163424015\n",
      "Michelle Bachelet 0.535023033619\n",
      "Gabriel Aldoney 0.551414370537\n",
      "Marcelo Díaz 0.501518070698\n",
      "Jaime Orpis 0.520878553391\n",
      "David Shrigley 0.652491509914\n",
      "David Shrigley 0.605256736279\n",
      "David Shrigley 0.519118666649\n",
      "David Rubilar 0.889929950237\n",
      "Marcelo Isasi 0.542045772076\n",
      "David Rubilar 0.52465480566\n",
      "Javier Frelijj 0.916057109833\n",
      "Eduardo Opazo 0.836603879929\n",
      "Catalina Melo 0.713195741177\n",
      "Laura Sotomayor 0.684027791023\n",
      "Claudio Soto 0.674298763275\n",
      "Enrique Polanco 0.672268927097\n",
      "Gustavo Gómez 0.536503493786\n",
      "Manuel Moya 0.507074892521\n",
      "Jo-Wilfried Tsonga 0.945881307125\n",
      "Novak Djokovic 0.892457723618\n",
      "Rafael Nadal 0.890555202961\n",
      "Roger Federer 0.811700880527\n",
      "Dominic Thiem 0.569457292557\n",
      "Jaclyn Williams 0.77884799242\n",
      "Alberto Pizarro 0.675554394722\n",
      "Donald Trump 0.873642265797\n",
      "Marco Enríquez-Ominami 0.726083815098\n",
      "Leonardo Farkas 0.648653328419\n",
      "Patricio Aylwin 0.67596578598\n",
      "Bernardo O'higgins 0.613832235336\n",
      "Michelle Bachelet 0.905894935131\n",
      "Gonzalo Navarrete 0.741410017014\n",
      "Cristina Girardi 0.714200913906\n",
      "Patricio Rodrigo 0.533284723759\n",
      "Patricio Aylwin 0.580707132816\n",
      "Ennio Vivaldi 0.854244172573\n",
      "Michelle Bachelet 0.927941083908\n",
      "Marcos Espinosa 0.73183208704\n",
      "ARTES CIRCENSES 0.906336069107\n",
      "Compañía PuroCirco 0.724820435047\n",
      "TEATRO CALLEJERO 0.704973459244\n",
      "OLLA COMÚN 0.65291249752\n",
      "CUENTA CUENTOS 0.609945356846\n",
      "Compañía Espumanía 0.513922870159\n"
     ]
    }
   ],
   "source": [
    "from robobrowser import RoboBrowser\n",
    "from textblob import TextBlob\n",
    "from pattern.es import tag\n",
    "url = 'http://www.elmostrador.cl/'\n",
    "import indicoio\n",
    "indicoio.config.api_key = '37958de57fa5f9d8d4bbec0c0902fd1e'\n",
    "browser = RoboBrowser(history=True, parser='html5lib')\n",
    "\n",
    "browser.open(url)\n",
    "from string import uppercase\n",
    "\n",
    "def is_person(txt):\n",
    "    partes = txt.split(' ')\n",
    "    if len(partes)<2:\n",
    "        return False\n",
    "    for parte in partes:\n",
    "        if parte[0] not in uppercase:\n",
    "            return False\n",
    "    return True\n",
    "    \n",
    "articulos = browser.select('h3 a') + browser.select('h2 a')\n",
    "for articulo in articulos:\n",
    "    if '2016' not in articulo.attrs['href']:\n",
    "        continue\n",
    "    browser.follow_link(articulo)\n",
    "    texto = browser.select('.cuerpo-noticia')\n",
    "    if texto:\n",
    "        texto = texto[0].text\n",
    "    else:\n",
    "        continue        \n",
    "    titulo = browser.select('.datos-noticias h2')\n",
    "    if titulo:\n",
    "        titulo = titulo[0].text\n",
    "    else:\n",
    "        continue\n",
    "    people = indicoio.people(texto, threshold=0.5)\n",
    "    for person in people:\n",
    "        nombre = person['text']\n",
    "        if is_person(nombre):\n",
    "            print nombre, person['confidence']"
   ]
  },
  {
   "cell_type": "code",
   "execution_count": null,
   "metadata": {
    "collapsed": true
   },
   "outputs": [],
   "source": []
  }
 ],
 "metadata": {
  "kernelspec": {
   "display_name": "Python 2",
   "language": "python",
   "name": "python2"
  },
  "language_info": {
   "codemirror_mode": {
    "name": "ipython",
    "version": 2
   },
   "file_extension": ".py",
   "mimetype": "text/x-python",
   "name": "python",
   "nbconvert_exporter": "python",
   "pygments_lexer": "ipython2",
   "version": "2.7.11"
  }
 },
 "nbformat": 4,
 "nbformat_minor": 0
}
