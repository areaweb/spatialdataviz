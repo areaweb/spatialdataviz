{
 "cells": [
  {
   "cell_type": "code",
   "execution_count": null,
   "metadata": {
    "collapsed": false
   },
   "outputs": [],
   "source": [
    "print 'Hola!'\n",
    "\n",
    "from robobrowser import RoboBrowser\n",
    "from textblob import TextBlob\n",
    "from pattern.es import tag\n",
    "urls = 'http://www.elmostrador.cl/','http://www.elmostrador.cl/noticias/pais','http://www.elmostrador.cl/noticias/mundo','http://www.elmostrador.cl/noticias/opinion'\n",
    "urls = urls[:1]\n",
    "from pattern.vector import KNN, count\n",
    "from collections import Counter, defaultdict\n",
    "import indicoio\n",
    "indicoio.config.api_key = '37958de57fa5f9d8d4bbec0c0902fd1e'\n",
    "import networkx as nx\n",
    "\n",
    "from string import uppercase\n",
    "\n",
    "def is_person(txt):\n",
    "    partes = txt.split(' ')\n",
    "    if len(partes)<2:\n",
    "        return False\n",
    "    for parte in partes:\n",
    "        try:\n",
    "            if parte[0] not in uppercase:\n",
    "                return False\n",
    "        except:\n",
    "            return False\n",
    "    return True\n",
    "\n",
    "\n",
    "browser = RoboBrowser(history=True, parser='html5lib')\n",
    "G=nx.Graph()\n",
    "x=0\n",
    "for url in urls:\n",
    "    print url\n",
    "    browser.open(url)\n",
    "    articulos = browser.select('h3 a') + browser.select('h2 a')\n",
    "    for articulo in articulos:\n",
    "        if x>50:\n",
    "            break\n",
    "        x+=1\n",
    "        if '2016' not in articulo.attrs['href']:\n",
    "            continue\n",
    "        browser.follow_link(articulo)\n",
    "        texto = browser.select('.cuerpo-noticia')\n",
    "        if texto:\n",
    "            texto = texto[0].text\n",
    "        else:\n",
    "            continue        \n",
    "        titulo = browser.select('.datos-noticias h2')\n",
    "        if titulo:\n",
    "            titulo = titulo[0].text\n",
    "        else:\n",
    "            continue\n",
    "        try:\n",
    "            people = indicoio.people(texto)\n",
    "        except:\n",
    "            continue\n",
    "        palabras = []\n",
    "        for person in people:\n",
    "            nombre = person['text']\n",
    "            if is_person(nombre):\n",
    "                #print nombre, person['confidence']\n",
    "                palabras.append(nombre)\n",
    "        for palabra1 in palabras:\n",
    "            for palabra2 in palabras:\n",
    "                if palabra1 != palabra2:\n",
    "                    G.add_edge(palabra1, palabra2)\n",
    "\n",
    "\n",
    "\n",
    "        \n"
   ]
  },
  {
   "cell_type": "code",
   "execution_count": null,
   "metadata": {
    "collapsed": false
   },
   "outputs": [],
   "source": [
    "import json\n",
    "from networkx.readwrite import json_graph\n",
    " \n",
    "for n in G:\n",
    "    G.node[n]['name'] = n\n",
    " \n",
    "d = json_graph.node_link_data(G)\n",
    "json.dump(d, open('force/force.json','w'))"
   ]
  },
  {
   "cell_type": "code",
   "execution_count": null,
   "metadata": {
    "collapsed": false
   },
   "outputs": [],
   "source": [
    "import flask\n",
    "app = flask.Flask(__name__, static_folder=\"force\")\n",
    "\n",
    "@app.route('/<path:path>')\n",
    "def static_proxy(path):\n",
    "  return app.send_static_file(path)\n",
    "print('\\nGo to http://localhost:8000/force.html to see the example\\n')\n",
    "app.run(port=8000)"
   ]
  },
  {
   "cell_type": "code",
   "execution_count": null,
   "metadata": {
    "collapsed": true
   },
   "outputs": [],
   "source": []
  }
 ],
 "metadata": {
  "kernelspec": {
   "display_name": "Python 2",
   "language": "python",
   "name": "python2"
  },
  "language_info": {
   "codemirror_mode": {
    "name": "ipython",
    "version": 2
   },
   "file_extension": ".py",
   "mimetype": "text/x-python",
   "name": "python",
   "nbconvert_exporter": "python",
   "pygments_lexer": "ipython2",
   "version": "2.7.11"
  }
 },
 "nbformat": 4,
 "nbformat_minor": 0
}
