{
 "cells": [
  {
   "cell_type": "code",
   "execution_count": 2,
   "metadata": {},
   "outputs": [
    {
     "name": "stdout",
     "output_type": "stream",
     "text": [
      "Mexico 1971-07-19 August 19, 1971 Yes Santa Martha Acatitla\n",
      "Ireland 1973-10-31 October 31, 1973 Yes Mountjoy Jail\n",
      "United States 1978-05-24 May 24, 1978 No United States Penitentiary, Marion\n",
      "Canada 1981-05-7 May 7, 1981 No Orsainville Prison, Quebec City\n",
      "Australia 1983-01-31 January, 1983 No Pentridge [[HM Prison Pentridge|Pentridge (HM Prison)]]\n",
      "United States 1985-12-19 December 19, 1985 Yes Perry Correctional Institution, Pelzer, South Carolina\n",
      "Brazil 1985-12-31 December 31, 1985 Yes Cândido Mendes penitentiary, Ilha Grande , Rio de Janeiro (state)\n",
      "France 1986-05-26 May 26, 1986 Yes Prison de la Santé\n",
      "United States 1986-11-05 November 5, 1986 Yes Federal Correctional Institution, Dublin\n",
      "Italy 1986-11-23 November 23, 1986 Yes Rebibbia\n",
      "United Kingdom 1987-12-10 December 10, 1987 Yes Gartree (HM Prison)\n",
      "United States 1988-07-11 July 11, 1988 Yes New Mexico State Penitentiary riot\n",
      "United States 1989-04-17 April 17, 1989 No Federal Detention Center, Miami , FL\n",
      "United States 1989-08-19 August 19, 1989 Yes Arkansas Valley Correctional Facility\n",
      "Canada 1990-06-19 June 19, 1990 Yes Kent Penitentiary, British Columbia\n",
      "United States 1991 1991 Yes Rio Piedras State Penitentiary, Puerto Rico\n",
      "France 1992 1992 Yes Lyon Prison\n",
      "France 1992-12-17 December 1992 No Touraine Central Prison, Tours\n",
      "France 1993-06-17 June 17, 1993 No Touraine Central Prison, Tours\n",
      "Chile 1996-12-30 December 30, 1996 Yes \n",
      "Netherlands 1997-09-18 September 18, 1997 No De Geerhorst jail\n",
      "Australia 1999-03-25 March 25, 1999 Yes Metropolitan Remand and Reception Centre\n",
      "United States 2000-06-05 June 5, 2000 Yes Martin Treatment Center for Sexually Violent Predators, Martin County Florida\n",
      "France 2000 2000 Yes Lyon prison\n",
      "France 2001 2001 Yes Luynnes prison\n",
      "France 2001-03-24 March 24, 2001 Yes Draguignan prison\n",
      "France 2001-05-28 May 28, 2001 No Fresnes prison\n",
      "Brazil 2002-01-17 January 17, 2002 Yes Parada Neto Penitentiary\n",
      "United States 2002-12-30 December 30, 2002 Yes Las Cucharas prison, Puerto Rico\n",
      "France 2003 2003 Yes Luynnes prison\n",
      "France 2005-07 July 2005 No France\n",
      "France 2005-12-10 December 10, 2005 Yes Aiton Prison\n",
      "Greece 2006-06-06 June 6, 2006 Yes Korydallos Prison\n",
      "Belgium 2007-04-15 April 15, 2007 Yes Lantin Prison , Liège (city)\n",
      "France 2007-07-15 July 15, 2007 Yes Grasse prison\n",
      "Belgium 2007-10-28 October 28, 2007 No Ittre prison\n",
      "Greece 2009-02-22 February 22, 2009 Yes Korydallos Prison\n",
      "France 2009-04-27 April 27, 2009 Yes Domenjod Prison, Réunion\n",
      "Belgium 2009-07-23 July 23, 2009 Yes Bruges\n",
      "United Kingdom 2009-06-25 June 25, 2010 No Isle of Wight\n",
      "Russia 2012-03-22 March 22, 2012 Yes Sheksna, Sheksninsky District, Vologda Oblast , Penal colony N17\n",
      "Greece 2013-02-25 February 24, 2013 No Trikala, Thessaly District, Thikala Regional Unit , Trikala Prison\n",
      "Canada 2013-02-25 March 17, 2013 Yes Saint-Jérôme Detention Facility, Quebec\n",
      "Canada 2014-02-25 June 7, 2014 Yes Orsainville Detention Facility, Quebec\n",
      "Greece 2016-02-24 February 22, 2016 No Thiva\n"
     ]
    }
   ],
   "source": [
    "# encoding=utf8\n",
    "import sys\n",
    "stdout=sys.stdout\n",
    "reload(sys)\n",
    "sys.setdefaultencoding('utf8')\n",
    "sys.stdout=stdout\n",
    "\n",
    "from wikitables import import_tables\n",
    "tables = import_tables('List of helicopter prison escapes')\n",
    "df=tables[0]\n",
    "for row in df.rows:\n",
    "    print row['Country'], row['Date'], row['Succeeded'], row['Prison name']"
   ]
  },
  {
   "cell_type": "code",
   "execution_count": 3,
   "metadata": {},
   "outputs": [],
   "source": []
  },
  {
   "cell_type": "code",
   "execution_count": null,
   "metadata": {},
   "outputs": [],
   "source": []
  },
  {
   "cell_type": "code",
   "execution_count": null,
   "metadata": {},
   "outputs": [],
   "source": []
  },
  {
   "cell_type": "code",
   "execution_count": null,
   "metadata": {
    "collapsed": true
   },
   "outputs": [],
   "source": []
  }
 ],
 "metadata": {
  "kernelspec": {
   "display_name": "\"",
   "language": "python",
   "name": "\""
  },
  "language_info": {
   "codemirror_mode": {
    "name": "ipython",
    "version": 2
   },
   "file_extension": ".py",
   "mimetype": "text/x-python",
   "name": "python",
   "nbconvert_exporter": "python",
   "pygments_lexer": "ipython2",
   "version": "2.7.14"
  }
 },
 "nbformat": 4,
 "nbformat_minor": 2
}
