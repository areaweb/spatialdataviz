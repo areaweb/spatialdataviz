{
 "cells": [
  {
   "cell_type": "code",
   "execution_count": 18,
   "metadata": {},
   "outputs": [
    {
     "name": "stdout",
     "output_type": "stream",
     "text": [
      "60\n",
      "checking:  mydreamplace\n"
     ]
    }
   ],
   "source": [
    "import time\n",
    "from selenium import webdriver\n",
    "from selenium.webdriver.common.keys import Keys\n",
    "import indicoio\n",
    "import keys \n",
    "\n",
    "indicoio.config.api_key = keys.indicio_key_1\n",
    "browser = webdriver.Chrome()\n",
    "base_url = 'https://twitter.com/hashtag/{}?src=hash'\n",
    "query = 'mydreamplace'\n",
    "url = base_url.format(query)\n",
    "\n",
    "browser.get(url)\n",
    "time.sleep(1)\n",
    "\n",
    "body = browser.find_element_by_tag_name('body')\n",
    "\n",
    "for i in range(15):\n",
    "    body.send_keys(Keys.PAGE_DOWN)\n",
    "    time.sleep(1)\n",
    "\n",
    "\n",
    "tweets = browser.find_elements_by_class_name('tweet-text')\n",
    "\n",
    "\n"
   ]
  },
  {
   "cell_type": "code",
   "execution_count": 24,
   "metadata": {},
   "outputs": [
    {
     "name": "stdout",
     "output_type": "stream",
     "text": [
      "60\n",
      "When your husband moves you to your new home state (WI to TX), he welcomes you by taking you to @magnolia #milestomagnolia #mydreamplace  \n",
      "checking:  When\n",
      "checking:  your\n",
      "checking:  husband\n",
      "checking:  moves\n",
      "checking:  you\n",
      "checking:  to\n",
      "checking:  new\n",
      "checking:  home\n",
      "checking:  state\n",
      "checking:  (WI\n",
      "checking:  TX),\n",
      "checking:  he\n",
      "checking:  welcomes\n",
      "checking:  by\n",
      "checking:  taking\n",
      "checking:  @magnolia\n",
      "checking:  #milestomagnolia\n",
      "checking:  #mydreamplace\n",
      "#StMaryForaneChurch #Pullikunnu #VTV Location spot visited @iam_str @menongautham @trishtrashers @arrahman #Mydreamplace till now \n",
      "Yay! Love it! \n",
      "#beattheheat plus #mydreamplace #greenpa\n",
      "checking:  Yay!\n",
      "checking:  Love\n",
      "checking:  it!\n",
      "checking:  #beattheheat\n",
      "checking:  plus\n",
      "checking:  #greenpa\n",
      "Yes I dare soon  #eiffeltower #mydreamplace  \n",
      "checking:  Yes\n",
      "checking:  I\n",
      "checking:  dare\n",
      "checking:  soon\n",
      "checking:  #eiffeltower\n",
      "Would you dare step into the void? I'm waiting for the bravest among you on my glass floor, 57 meters above ground!  #EiffelTower \n",
      "I hope someday, I get a chance to see you.  #mydreamplace \n",
      "checking:  hope\n",
      "checking:  someday,\n",
      "checking:  get\n",
      "checking:  a\n",
      "checking:  chance\n",
      "checking:  see\n",
      "checking:  you.\n",
      "I wanted to travel in Paris #mydreamplace\n",
      "checking:  wanted\n",
      "checking:  travel\n",
      "checking:  in\n",
      "checking:  Paris\n",
      "FOUND:  [{'text': 'Paris', 'confidence': 0.9043790102, 'position': [0, 5]}] Paris\n",
      "Friday night! Gym tunes after a long long day in the office. Dreams do indeed come true! #OurImperial #mydreamplace \n",
      "checking:  Friday\n",
      "checking:  night!\n",
      "checking:  Gym\n",
      "checking:  tunes\n",
      "checking:  after\n",
      "checking:  long\n",
      "checking:  day\n",
      "checking:  the\n",
      "checking:  office.\n",
      "checking:  Dreams\n",
      "checking:  do\n",
      "checking:  indeed\n",
      "checking:  come\n",
      "checking:  true!\n",
      "checking:  #OurImperial\n",
      "In GOD's perfect time \n",
      "\n",
      "#MyDreamPlace  http://fb.me/7KBjYMzKt \n",
      "#newzealand natural untouched beauty is extra magical  #ilovenewzealand #mydreamplace… https://www.instagram.com/p/BZDIS8KBcrT/ \n",
      "checking:  #newzealand\n",
      "checking:  natural\n",
      "checking:  untouched\n",
      "checking:  beauty\n",
      "checking:  is\n",
      "checking:  extra\n",
      "checking:  magical\n",
      "checking:  #ilovenewzealand\n",
      "checking:  #mydreamplace…\n",
      "checking:  https://www.instagram.com/p/BZDIS8KBcrT/\n",
      "FOUND:  [{'text': 'Instagram', 'confidence': 0.41513213520000003, 'position': [118, 127]}] https://www.instagram.com/p/BZDIS8KBcrT/\n",
      "I wanna go to Bora Bora Beach \n",
      "#MyDreamPlace\n",
      "#mydreamplace https://www.instagram.com/p/Baw8e9cFSrr/ \n",
      "checking:  https://www.instagram.com/p/Baw8e9cFSrr/\n"
     ]
    },
    {
     "ename": "IndicoError",
     "evalue": "The page at https://www.instagram.com/p/Baw8e9cFSrr/ does not exist or could not be parsed",
     "output_type": "error",
     "traceback": [
      "\u001b[0;31m---------------------------------------------------------------------------\u001b[0m",
      "\u001b[0;31mIndicoError\u001b[0m                               Traceback (most recent call last)",
      "\u001b[0;32m<ipython-input-24-2bc0e3ab1eb1>\u001b[0m in \u001b[0;36m<module>\u001b[0;34m()\u001b[0m\n\u001b[1;32m      9\u001b[0m                 \u001b[0mprint\u001b[0m \u001b[0;34m(\u001b[0m\u001b[0;34m\"checking: \"\u001b[0m\u001b[0;34m,\u001b[0m\u001b[0mword\u001b[0m\u001b[0;34m)\u001b[0m\u001b[0;34m\u001b[0m\u001b[0m\n\u001b[1;32m     10\u001b[0m                 \u001b[0mseenwords\u001b[0m\u001b[0;34m.\u001b[0m\u001b[0mappend\u001b[0m\u001b[0;34m(\u001b[0m\u001b[0mword\u001b[0m\u001b[0;34m)\u001b[0m\u001b[0;34m\u001b[0m\u001b[0m\n\u001b[0;32m---> 11\u001b[0;31m                 \u001b[0mplaces\u001b[0m \u001b[0;34m=\u001b[0m \u001b[0mindicoio\u001b[0m\u001b[0;34m.\u001b[0m\u001b[0mplaces\u001b[0m\u001b[0;34m(\u001b[0m\u001b[0mword\u001b[0m\u001b[0;34m)\u001b[0m\u001b[0;34m\u001b[0m\u001b[0m\n\u001b[0m\u001b[1;32m     12\u001b[0m                 \u001b[0;32mif\u001b[0m \u001b[0mplaces\u001b[0m\u001b[0;34m:\u001b[0m\u001b[0;34m\u001b[0m\u001b[0m\n\u001b[1;32m     13\u001b[0m                     \u001b[0mprint\u001b[0m\u001b[0;34m(\u001b[0m\u001b[0;34m\"FOUND: \"\u001b[0m\u001b[0;34m,\u001b[0m \u001b[0mplaces\u001b[0m\u001b[0;34m,\u001b[0m \u001b[0mword\u001b[0m\u001b[0;34m)\u001b[0m\u001b[0;34m\u001b[0m\u001b[0m\n",
      "\u001b[0;32m~/anaconda/envs/dataviz2/lib/python3.6/site-packages/indicoio/utils/decorators.py\u001b[0m in \u001b[0;36mwrapper\u001b[0;34m(*args, **kwargs)\u001b[0m\n\u001b[1;32m     11\u001b[0m         \u001b[0;32mif\u001b[0m \u001b[0misinstance\u001b[0m\u001b[0;34m(\u001b[0m\u001b[0margs\u001b[0m\u001b[0;34m[\u001b[0m\u001b[0;36m0\u001b[0m\u001b[0;34m]\u001b[0m\u001b[0;34m,\u001b[0m \u001b[0mlist\u001b[0m\u001b[0;34m)\u001b[0m\u001b[0;34m:\u001b[0m\u001b[0;34m\u001b[0m\u001b[0m\n\u001b[1;32m     12\u001b[0m             \u001b[0mkwargs\u001b[0m\u001b[0;34m[\u001b[0m\u001b[0;34m'batch'\u001b[0m\u001b[0;34m]\u001b[0m \u001b[0;34m=\u001b[0m \u001b[0;32mTrue\u001b[0m\u001b[0;34m\u001b[0m\u001b[0m\n\u001b[0;32m---> 13\u001b[0;31m         \u001b[0;32mreturn\u001b[0m \u001b[0mf\u001b[0m\u001b[0;34m(\u001b[0m\u001b[0;34m*\u001b[0m\u001b[0margs\u001b[0m\u001b[0;34m,\u001b[0m \u001b[0;34m**\u001b[0m\u001b[0mkwargs\u001b[0m\u001b[0;34m)\u001b[0m\u001b[0;34m\u001b[0m\u001b[0m\n\u001b[0m\u001b[1;32m     14\u001b[0m     \u001b[0;32mreturn\u001b[0m \u001b[0mwrapper\u001b[0m\u001b[0;34m\u001b[0m\u001b[0m\n",
      "\u001b[0;32m~/anaconda/envs/dataviz2/lib/python3.6/site-packages/indicoio/text/places.py\u001b[0m in \u001b[0;36mplaces\u001b[0;34m(text, cloud, batch, api_key, version, **kwargs)\u001b[0m\n\u001b[1;32m     27\u001b[0m     \"\"\"\n\u001b[1;32m     28\u001b[0m     \u001b[0murl_params\u001b[0m \u001b[0;34m=\u001b[0m \u001b[0;34m{\u001b[0m\u001b[0;34m\"batch\"\u001b[0m\u001b[0;34m:\u001b[0m \u001b[0mbatch\u001b[0m\u001b[0;34m,\u001b[0m \u001b[0;34m\"api_key\"\u001b[0m\u001b[0;34m:\u001b[0m \u001b[0mapi_key\u001b[0m\u001b[0;34m,\u001b[0m \u001b[0;34m\"version\"\u001b[0m\u001b[0;34m:\u001b[0m \u001b[0mversion\u001b[0m\u001b[0;34m}\u001b[0m\u001b[0;34m\u001b[0m\u001b[0m\n\u001b[0;32m---> 29\u001b[0;31m     \u001b[0;32mreturn\u001b[0m \u001b[0mapi_handler\u001b[0m\u001b[0;34m(\u001b[0m\u001b[0mtext\u001b[0m\u001b[0;34m,\u001b[0m \u001b[0mcloud\u001b[0m\u001b[0;34m=\u001b[0m\u001b[0mcloud\u001b[0m\u001b[0;34m,\u001b[0m \u001b[0mapi\u001b[0m\u001b[0;34m=\u001b[0m\u001b[0;34m\"places\"\u001b[0m\u001b[0;34m,\u001b[0m \u001b[0murl_params\u001b[0m\u001b[0;34m=\u001b[0m\u001b[0murl_params\u001b[0m\u001b[0;34m,\u001b[0m \u001b[0;34m**\u001b[0m\u001b[0mkwargs\u001b[0m\u001b[0;34m)\u001b[0m\u001b[0;34m\u001b[0m\u001b[0m\n\u001b[0m",
      "\u001b[0;32m~/anaconda/envs/dataviz2/lib/python3.6/site-packages/indicoio/utils/api.py\u001b[0m in \u001b[0;36mapi_handler\u001b[0;34m(input_data, cloud, api, url_params, batch_size, **kwargs)\u001b[0m\n\u001b[1;32m     66\u001b[0m     \u001b[0mheaders\u001b[0m\u001b[0;34m[\u001b[0m\u001b[0;34m\"X-ApiKey\"\u001b[0m\u001b[0;34m]\u001b[0m \u001b[0;34m=\u001b[0m \u001b[0murl_params\u001b[0m\u001b[0;34m.\u001b[0m\u001b[0mget\u001b[0m\u001b[0;34m(\u001b[0m\u001b[0;34m\"api_key\"\u001b[0m\u001b[0;34m)\u001b[0m \u001b[0;32mor\u001b[0m \u001b[0mconfig\u001b[0m\u001b[0;34m.\u001b[0m\u001b[0mapi_key\u001b[0m\u001b[0;34m\u001b[0m\u001b[0m\n\u001b[1;32m     67\u001b[0m     \u001b[0murl\u001b[0m \u001b[0;34m=\u001b[0m \u001b[0mcreate_url\u001b[0m\u001b[0;34m(\u001b[0m\u001b[0murl_protocol\u001b[0m\u001b[0;34m,\u001b[0m \u001b[0mhost\u001b[0m\u001b[0;34m,\u001b[0m \u001b[0mapi\u001b[0m\u001b[0;34m,\u001b[0m \u001b[0mdict\u001b[0m\u001b[0;34m(\u001b[0m\u001b[0mkwargs\u001b[0m\u001b[0;34m,\u001b[0m \u001b[0;34m**\u001b[0m\u001b[0murl_params\u001b[0m\u001b[0;34m)\u001b[0m\u001b[0;34m)\u001b[0m\u001b[0;34m\u001b[0m\u001b[0m\n\u001b[0;32m---> 68\u001b[0;31m     \u001b[0;32mreturn\u001b[0m \u001b[0mcollect_api_results\u001b[0m\u001b[0;34m(\u001b[0m\u001b[0minput_data\u001b[0m\u001b[0;34m,\u001b[0m \u001b[0murl\u001b[0m\u001b[0;34m,\u001b[0m \u001b[0mheaders\u001b[0m\u001b[0;34m,\u001b[0m \u001b[0mapi\u001b[0m\u001b[0;34m,\u001b[0m \u001b[0mbatch_size\u001b[0m\u001b[0;34m,\u001b[0m \u001b[0mkwargs\u001b[0m\u001b[0;34m)\u001b[0m\u001b[0;34m\u001b[0m\u001b[0m\n\u001b[0m\u001b[1;32m     69\u001b[0m \u001b[0;34m\u001b[0m\u001b[0m\n\u001b[1;32m     70\u001b[0m \u001b[0;34m\u001b[0m\u001b[0m\n",
      "\u001b[0;32m~/anaconda/envs/dataviz2/lib/python3.6/site-packages/indicoio/utils/api.py\u001b[0m in \u001b[0;36mcollect_api_results\u001b[0;34m(input_data, url, headers, api, batch_size, kwargs)\u001b[0m\n\u001b[1;32m    102\u001b[0m         \u001b[0;32mreturn\u001b[0m \u001b[0mresults\u001b[0m\u001b[0;34m\u001b[0m\u001b[0m\n\u001b[1;32m    103\u001b[0m     \u001b[0;32melse\u001b[0m\u001b[0;34m:\u001b[0m\u001b[0;34m\u001b[0m\u001b[0m\n\u001b[0;32m--> 104\u001b[0;31m         \u001b[0;32mreturn\u001b[0m \u001b[0msend_request\u001b[0m\u001b[0;34m(\u001b[0m\u001b[0minput_data\u001b[0m\u001b[0;34m,\u001b[0m \u001b[0mapi\u001b[0m\u001b[0;34m,\u001b[0m \u001b[0murl\u001b[0m\u001b[0;34m,\u001b[0m \u001b[0mheaders\u001b[0m\u001b[0;34m,\u001b[0m \u001b[0mkwargs\u001b[0m\u001b[0;34m)\u001b[0m\u001b[0;34m\u001b[0m\u001b[0m\n\u001b[0m\u001b[1;32m    105\u001b[0m \u001b[0;34m\u001b[0m\u001b[0m\n\u001b[1;32m    106\u001b[0m \u001b[0;34m\u001b[0m\u001b[0m\n",
      "\u001b[0;32m~/anaconda/envs/dataviz2/lib/python3.6/site-packages/indicoio/utils/api.py\u001b[0m in \u001b[0;36msend_request\u001b[0;34m(input_data, api, url, headers, kwargs)\u001b[0m\n\u001b[1;32m    130\u001b[0m     \u001b[0;32mif\u001b[0m \u001b[0mresults\u001b[0m \u001b[0;32mis\u001b[0m \u001b[0;32mFalse\u001b[0m\u001b[0;34m:\u001b[0m\u001b[0;34m\u001b[0m\u001b[0m\n\u001b[1;32m    131\u001b[0m         \u001b[0merror\u001b[0m \u001b[0;34m=\u001b[0m \u001b[0mjson_results\u001b[0m\u001b[0;34m.\u001b[0m\u001b[0mget\u001b[0m\u001b[0;34m(\u001b[0m\u001b[0;34m'error'\u001b[0m\u001b[0;34m)\u001b[0m\u001b[0;34m\u001b[0m\u001b[0m\n\u001b[0;32m--> 132\u001b[0;31m         \u001b[0;32mraise\u001b[0m \u001b[0mIndicoError\u001b[0m\u001b[0;34m(\u001b[0m\u001b[0merror\u001b[0m\u001b[0;34m)\u001b[0m\u001b[0;34m\u001b[0m\u001b[0m\n\u001b[0m\u001b[1;32m    133\u001b[0m     \u001b[0;32mreturn\u001b[0m \u001b[0mresults\u001b[0m\u001b[0;34m\u001b[0m\u001b[0m\n\u001b[1;32m    134\u001b[0m \u001b[0;34m\u001b[0m\u001b[0m\n",
      "\u001b[0;31mIndicoError\u001b[0m: The page at https://www.instagram.com/p/Baw8e9cFSrr/ does not exist or could not be parsed"
     ]
    }
   ],
   "source": [
    "import string\n",
    "print(len(tweets))\n",
    "def clean(txt):\n",
    "    for i in string.pu\n",
    "seenwords=[]\n",
    "for tweet in tweets:\n",
    "    txt = tweet.text\n",
    "    print(txt)\n",
    "    if query in txt:\n",
    "        for word in txt.split():\n",
    "            if word not in seenwords:\n",
    "                print (\"checking: \",word)\n",
    "                seenwords.append(word)\n",
    "                places = indicoio.places(word)\n",
    "                if places:\n",
    "                    print(\"FOUND: \", places, word)"
   ]
  },
  {
   "cell_type": "code",
   "execution_count": 23,
   "metadata": {},
   "outputs": [
    {
     "data": {
      "text/plain": [
       "['mydreamplace']"
      ]
     },
     "execution_count": 23,
     "metadata": {},
     "output_type": "execute_result"
    }
   ],
   "source": [
    "seenwords"
   ]
  },
  {
   "cell_type": "code",
   "execution_count": null,
   "metadata": {},
   "outputs": [],
   "source": []
  }
 ],
 "metadata": {
  "kernelspec": {
   "display_name": "dataviz2",
   "language": "python",
   "name": "dataviz2"
  },
  "language_info": {
   "codemirror_mode": {
    "name": "ipython",
    "version": 3
   },
   "file_extension": ".py",
   "mimetype": "text/x-python",
   "name": "python",
   "nbconvert_exporter": "python",
   "pygments_lexer": "ipython3",
   "version": "3.6.2"
  }
 },
 "nbformat": 4,
 "nbformat_minor": 2
}
