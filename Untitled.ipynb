{
 "cells": [
  {
   "cell_type": "code",
   "execution_count": 2,
   "metadata": {
    "collapsed": false
   },
   "outputs": [
    {
     "data": {
      "text/plain": [
       "'/Users/rodrigo/Envs/datavis/bin:/Users/rodrigo/anaconda/bin:/opt/local/bin:/opt/local/sbin:/Users/rodrigo/anaconda/bin:/opt/local/bin:/opt/local/sbin:/Users/rodrigo/areaweb/museo/dev/trunk/museo/google-cloud-sdk/bin:/Library/Frameworks/Python.framework/Versions/3.4/bin:/usr/local/sbin:/opt/local/bin:/opt/local/sbin:/usr/local/lib:/usr/local/bin:/Users/rodrigo/.autojump/bin:/Users/rodrigo/.autojump/bin:/opt/local/bin:/opt/local/sbin:/sw/bin:/sw/sbin:/Users/rodrigo/.autojump/bin:/Users/rodrigo/.autojump/bin:/usr/local/heroku/bin:/usr/local/share/python:/usr/local/bin:/usr/bin:/bin:/usr/sbin:/sbin:/opt/local/Library/Frameworks/Python.framework/Versions/2.7/bin:/opt/local/bin/python:/usr/X11R6/bin:/Applications/Postgres.app/Contents/Versions/9.4/bin:'"
      ]
     },
     "execution_count": 2,
     "metadata": {},
     "output_type": "execute_result"
    }
   ],
   "source": [
    "import os\n",
    "os.environ['PATH']"
   ]
  },
  {
   "cell_type": "code",
   "execution_count": null,
   "metadata": {
    "collapsed": true
   },
   "outputs": [],
   "source": []
  },
  {
   "cell_type": "code",
   "execution_count": null,
   "metadata": {
    "collapsed": true
   },
   "outputs": [],
   "source": []
  }
 ],
 "metadata": {
  "kernelspec": {
   "display_name": "Python 2",
   "language": "python",
   "name": "python2"
  },
  "language_info": {
   "codemirror_mode": {
    "name": "ipython",
    "version": 2
   },
   "file_extension": ".py",
   "mimetype": "text/x-python",
   "name": "python",
   "nbconvert_exporter": "python",
   "pygments_lexer": "ipython2",
   "version": "2.7.10"
  }
 },
 "nbformat": 4,
 "nbformat_minor": 0
}
