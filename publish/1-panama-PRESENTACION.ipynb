{
 "cells": [
  {
   "cell_type": "markdown",
   "metadata": {},
   "source": [
    "[Addresses.csv](data/Addresses.csv)"
   ]
  },
  {
   "cell_type": "code",
   "execution_count": 1,
   "metadata": {
    "collapsed": false
   },
   "outputs": [
    {
     "data": {
      "text/html": [
       "<div>\n",
       "<table border=\"1\" class=\"dataframe\">\n",
       "  <thead>\n",
       "    <tr style=\"text-align: right;\">\n",
       "      <th></th>\n",
       "      <th>address</th>\n",
       "      <th>icij_id</th>\n",
       "      <th>valid_until</th>\n",
       "      <th>country_codes</th>\n",
       "      <th>countries</th>\n",
       "      <th>node_id</th>\n",
       "      <th>sourceID</th>\n",
       "    </tr>\n",
       "  </thead>\n",
       "  <tbody>\n",
       "    <tr>\n",
       "      <th>0</th>\n",
       "      <td>-\\t27 ROSEWOOD DRIVE #16-19 SINGAPORE 737920</td>\n",
       "      <td>6991059DFFB057DF310B9BF31CC4A0E6</td>\n",
       "      <td>The Panama Papers  data is current through 2015</td>\n",
       "      <td>SGP</td>\n",
       "      <td>Singapore</td>\n",
       "      <td>14000001</td>\n",
       "      <td>Panama Papers</td>\n",
       "    </tr>\n",
       "    <tr>\n",
       "      <th>1</th>\n",
       "      <td>\"Almaly Village\" v.5, Almaty Kazakhstan</td>\n",
       "      <td>C65A269424AA1A8BBAC416FA30150938</td>\n",
       "      <td>The Panama Papers  data is current through 2015</td>\n",
       "      <td>KAZ</td>\n",
       "      <td>Kazakhstan</td>\n",
       "      <td>14000002</td>\n",
       "      <td>Panama Papers</td>\n",
       "    </tr>\n",
       "    <tr>\n",
       "      <th>2</th>\n",
       "      <td>\"Cantonia\" South Road St Georges Hill Weybridg...</td>\n",
       "      <td>240EE44DFB70AF775E6CD02AF8CB889B</td>\n",
       "      <td>The Panama Papers  data is current through 2015</td>\n",
       "      <td>GBR</td>\n",
       "      <td>United Kingdom</td>\n",
       "      <td>14000003</td>\n",
       "      <td>Panama Papers</td>\n",
       "    </tr>\n",
       "    <tr>\n",
       "      <th>3</th>\n",
       "      <td>\"CAY-OS\" NEW ROAD; ST.SAMPSON; GUERNSEY; CHANN...</td>\n",
       "      <td>340C6D3D2FC60AE58C53BB3618129C43</td>\n",
       "      <td>The Panama Papers  data is current through 2015</td>\n",
       "      <td>GGY</td>\n",
       "      <td>Guernsey</td>\n",
       "      <td>14000004</td>\n",
       "      <td>Panama Papers</td>\n",
       "    </tr>\n",
       "    <tr>\n",
       "      <th>4</th>\n",
       "      <td>\"Chirag\" Plot No 652; Mwamba Road; Kizingo; Mo...</td>\n",
       "      <td>6DBCD74F5AAB63EABC166885CE8CD7CD</td>\n",
       "      <td>The Panama Papers  data is current through 2015</td>\n",
       "      <td>KEN</td>\n",
       "      <td>Kenya</td>\n",
       "      <td>14000005</td>\n",
       "      <td>Panama Papers</td>\n",
       "    </tr>\n",
       "  </tbody>\n",
       "</table>\n",
       "</div>"
      ],
      "text/plain": [
       "                                             address  \\\n",
       "0       -\\t27 ROSEWOOD DRIVE #16-19 SINGAPORE 737920   \n",
       "1            \"Almaly Village\" v.5, Almaty Kazakhstan   \n",
       "2  \"Cantonia\" South Road St Georges Hill Weybridg...   \n",
       "3  \"CAY-OS\" NEW ROAD; ST.SAMPSON; GUERNSEY; CHANN...   \n",
       "4  \"Chirag\" Plot No 652; Mwamba Road; Kizingo; Mo...   \n",
       "\n",
       "                            icij_id  \\\n",
       "0  6991059DFFB057DF310B9BF31CC4A0E6   \n",
       "1  C65A269424AA1A8BBAC416FA30150938   \n",
       "2  240EE44DFB70AF775E6CD02AF8CB889B   \n",
       "3  340C6D3D2FC60AE58C53BB3618129C43   \n",
       "4  6DBCD74F5AAB63EABC166885CE8CD7CD   \n",
       "\n",
       "                                       valid_until country_codes  \\\n",
       "0  The Panama Papers  data is current through 2015           SGP   \n",
       "1  The Panama Papers  data is current through 2015           KAZ   \n",
       "2  The Panama Papers  data is current through 2015           GBR   \n",
       "3  The Panama Papers  data is current through 2015           GGY   \n",
       "4  The Panama Papers  data is current through 2015           KEN   \n",
       "\n",
       "        countries   node_id       sourceID  \n",
       "0       Singapore  14000001  Panama Papers  \n",
       "1      Kazakhstan  14000002  Panama Papers  \n",
       "2  United Kingdom  14000003  Panama Papers  \n",
       "3        Guernsey  14000004  Panama Papers  \n",
       "4           Kenya  14000005  Panama Papers  "
      ]
     },
     "execution_count": 1,
     "metadata": {},
     "output_type": "execute_result"
    }
   ],
   "source": [
    "import pandas\n",
    "adds = pandas.read_csv(\"data/Addresses.csv\", dtype=str)\n",
    "adds.head()"
   ]
  },
  {
   "cell_type": "code",
   "execution_count": 2,
   "metadata": {
    "collapsed": false
   },
   "outputs": [
    {
     "data": {
      "text/html": [
       "<div>\n",
       "<table border=\"1\" class=\"dataframe\">\n",
       "  <thead>\n",
       "    <tr style=\"text-align: right;\">\n",
       "      <th></th>\n",
       "      <th>address</th>\n",
       "      <th>icij_id</th>\n",
       "      <th>valid_until</th>\n",
       "      <th>country_codes</th>\n",
       "      <th>countries</th>\n",
       "      <th>node_id</th>\n",
       "      <th>sourceID</th>\n",
       "    </tr>\n",
       "  </thead>\n",
       "  <tbody>\n",
       "    <tr>\n",
       "      <th>24883</th>\n",
       "      <td>Aguas Claras 220; Dept 61; Lo Barnechea; Santi...</td>\n",
       "      <td>46749D72F7E660E52A483B3CA3EB7B70</td>\n",
       "      <td>The Panama Papers  data is current through 2015</td>\n",
       "      <td>CHL</td>\n",
       "      <td>Chile</td>\n",
       "      <td>14025407</td>\n",
       "      <td>Panama Papers</td>\n",
       "    </tr>\n",
       "    <tr>\n",
       "      <th>24887</th>\n",
       "      <td>Agustin del Castillo 2400; Depto. 501; Comuna ...</td>\n",
       "      <td>C5E4806B33902C4F1F65D1856C3BB21A</td>\n",
       "      <td>The Panama Papers  data is current through 2015</td>\n",
       "      <td>CHL</td>\n",
       "      <td>Chile</td>\n",
       "      <td>14025411</td>\n",
       "      <td>Panama Papers</td>\n",
       "    </tr>\n",
       "    <tr>\n",
       "      <th>25887</th>\n",
       "      <td>Alcalde Edo Castillo Velasco 2054; Ñuñoa; Sant...</td>\n",
       "      <td>777AAC999799D024AECAAE60BFD5C51B</td>\n",
       "      <td>The Panama Papers  data is current through 2015</td>\n",
       "      <td>CHL</td>\n",
       "      <td>Chile</td>\n",
       "      <td>14026411</td>\n",
       "      <td>Panama Papers</td>\n",
       "    </tr>\n",
       "    <tr>\n",
       "      <th>26105</th>\n",
       "      <td>Alonso de Sotomayor 4200; Dp. 503; Vitacura; S...</td>\n",
       "      <td>52C2383B9B60D005B6B7E9214FF28B49</td>\n",
       "      <td>The Panama Papers  data is current through 2015</td>\n",
       "      <td>CHL</td>\n",
       "      <td>Chile</td>\n",
       "      <td>14026629</td>\n",
       "      <td>Panama Papers</td>\n",
       "    </tr>\n",
       "    <tr>\n",
       "      <th>26234</th>\n",
       "      <td>Amapolas 1625; Depto.605; Providencia; Santiag...</td>\n",
       "      <td>ED343556BD9F48DDAADC62CE76783001</td>\n",
       "      <td>The Panama Papers  data is current through 2015</td>\n",
       "      <td>CHL</td>\n",
       "      <td>Chile</td>\n",
       "      <td>14026758</td>\n",
       "      <td>Panama Papers</td>\n",
       "    </tr>\n",
       "  </tbody>\n",
       "</table>\n",
       "</div>"
      ],
      "text/plain": [
       "                                                 address  \\\n",
       "24883  Aguas Claras 220; Dept 61; Lo Barnechea; Santi...   \n",
       "24887  Agustin del Castillo 2400; Depto. 501; Comuna ...   \n",
       "25887  Alcalde Edo Castillo Velasco 2054; Ñuñoa; Sant...   \n",
       "26105  Alonso de Sotomayor 4200; Dp. 503; Vitacura; S...   \n",
       "26234  Amapolas 1625; Depto.605; Providencia; Santiag...   \n",
       "\n",
       "                                icij_id  \\\n",
       "24883  46749D72F7E660E52A483B3CA3EB7B70   \n",
       "24887  C5E4806B33902C4F1F65D1856C3BB21A   \n",
       "25887  777AAC999799D024AECAAE60BFD5C51B   \n",
       "26105  52C2383B9B60D005B6B7E9214FF28B49   \n",
       "26234  ED343556BD9F48DDAADC62CE76783001   \n",
       "\n",
       "                                           valid_until country_codes  \\\n",
       "24883  The Panama Papers  data is current through 2015           CHL   \n",
       "24887  The Panama Papers  data is current through 2015           CHL   \n",
       "25887  The Panama Papers  data is current through 2015           CHL   \n",
       "26105  The Panama Papers  data is current through 2015           CHL   \n",
       "26234  The Panama Papers  data is current through 2015           CHL   \n",
       "\n",
       "      countries   node_id       sourceID  \n",
       "24883     Chile  14025407  Panama Papers  \n",
       "24887     Chile  14025411  Panama Papers  \n",
       "25887     Chile  14026411  Panama Papers  \n",
       "26105     Chile  14026629  Panama Papers  \n",
       "26234     Chile  14026758  Panama Papers  "
      ]
     },
     "execution_count": 2,
     "metadata": {},
     "output_type": "execute_result"
    }
   ],
   "source": [
    "adds=adds[adds['countries']=='Chile']\n",
    "adds=adds[adds['address'].str.contains(\"Santiago\")]\n",
    "adds.head()"
   ]
  },
  {
   "cell_type": "code",
   "execution_count": 3,
   "metadata": {
    "collapsed": false
   },
   "outputs": [
    {
     "name": "stdout",
     "output_type": "stream",
     "text": [
      "[-33.4210835, -70.5918529]\n"
     ]
    }
   ],
   "source": [
    "import geocoder\n",
    "g = geocoder.google(u\"Pdte Errazuriz 3485, Las Condes, Chile\" )\n",
    "print g.latlng"
   ]
  },
  {
   "cell_type": "code",
   "execution_count": 4,
   "metadata": {
    "collapsed": false
   },
   "outputs": [
    {
     "name": "stdout",
     "output_type": "stream",
     "text": [
      "-33.3582893 -70.5469872\n",
      "-33.3905211 -70.5724124\n",
      "fail Agustin del Castillo 2400; Depto. 501; Comuna de Vitacura; Santiago; Chile.\n",
      "-33.378039 -70.6346786\n",
      "-33.4303296 -70.5907291\n",
      "fail Amapolas 1625; Depto.605; Providencia; Santiago; Chile.\n",
      "fail Amapolas 1625; Depto.605; Providencia; Santiago; Chile.\n",
      "-33.3742128 -70.6367425\n",
      "-33.4098736 -70.7240893\n",
      "-33.4488897 -70.6692655\n",
      "-33.4488897 -70.6692655\n",
      "fail Avenida del valle 961; Oficina 3705; Ciudad Empresarial Huechuraba; 8580710 Santiago; Chile\n",
      "-33.4421135 -70.7640644\n",
      "-33.4510482 -70.6024573\n",
      "-33.3975364 -70.5835587\n",
      "-33.3400588 -70.5513969\n",
      "-33.3703906 -70.5117619\n",
      "-33.3758858 -70.5793991\n",
      "-33.4484692 -70.6150504\n",
      "-33.4054373 -70.5762715\n",
      "-33.4087844 -70.567069\n",
      "fail C/El Convento 720; Comuna De Las Condes; Santiago Chile\n",
      "fail Calle Asturias 280; oficina 701; Las Condes; Santiago de Chile; Rep. de Chile\n",
      "-33.4437335 -70.6279455\n",
      "-33.4151297 -70.5922177\n",
      "fail Calle El Golf 40 piso 12, Las Condes Santiago de Chile\n",
      "fail Calle El Golf 40 piso 12, Las Condes Santiago de Chile\n",
      "-33.4586717 -70.5611267\n",
      "fail Camberra 620; La Reina; Santiago; Chile.\n",
      "-33.3243917 -70.5438346\n",
      "-33.3958845 -70.5411324\n",
      "-33.396093 -70.5411396\n",
      "-33.411979 -70.5349449\n",
      "fail Con domicilio en Rio Guadiana 9226; Las Condes; Santiago; Chile\n",
      "fail Con domicilio en Rio Guadiana 9226; Las Condes; Santiago; Chile\n",
      "-33.3548464 -70.5165236\n",
      "fail Encomenderos 253; Oficina 12; Comunas de las Condes; Santiago de Chile; 7550166\n",
      "-33.3969263 -70.5995975\n",
      "-33.3905211 -70.5724124\n",
      "-33.4302275 -70.6177735\n",
      "-33.2832474 -70.6345255\n",
      "-33.4314935 -70.6230085\n",
      "fail Huelen 56; Dpto.B; Proviencia; Santiago; Chile.\n",
      "-33.4399766 -70.6531155\n",
      "-33.4396961 -70.6516047\n",
      "-33.4330125 -70.6234459\n",
      "-33.4160087 -70.5668379\n",
      "fail La Capitania 939 depto. 165; Las Condes; Santiago; Chile.\n",
      "-33.4311581 -70.6025654\n",
      "-33.4078266 -70.5758832\n",
      "-33.3608369 -70.5273465\n",
      "-33.3892541 -70.5884347\n",
      "-33.4143118 -70.5935384\n",
      "fail Magdalena 140; Piso 21; Las Condes; Santiago; Chile\n",
      "fail Magdalena 140; Piso 21; Las Condes; Santiago; Chile\n",
      "fail Magdalena 140; Piso 21; Las Condes; Santiago; Chile\n",
      "-33.4438264 -70.6173071\n",
      "-33.4293898 -70.6277326\n",
      "-33.399852 -70.598181\n",
      "-33.2824072 -70.7384418\n",
      "fail Panamericana Norte 1890; Lampa Santiago; Chile\n",
      "-33.3615798 -70.482196\n",
      "fail Pastor Fernandez 16200 Lo Barnechea; Santiago; Chile\n",
      "-33.4400089 -70.5483545\n",
      "fail Principe de Gales 8007 A La Reina; Santiago; Chile.\n",
      "fail Principe de Gales 8007 A La Reina; Santiago; Chile.\n",
      "-33.4087844 -70.567069\n",
      "-33.3291732 -70.7020092\n",
      "fail San Ignacio 101; Quilicura; Santiago; Chile.\n",
      "-33.4151832 -70.6006806\n",
      "fail San Sebastien; 27-30 Appt; 31 Las Condes; Santiago; Chile\n",
      "-33.3769042 -70.5832475\n",
      "-33.4235788 -70.5776717\n",
      "-33.3874219 -70.55135\n",
      "-33.3943929 -70.5929228\n",
      "-33.4143118 -70.5935384\n",
      "-33.4314474 -70.6093325\n",
      "-33.411979 -70.5349449\n",
      "-33.518938 -70.7668647\n",
      "-33.4087844 -70.567069\n",
      "-33.4004057 -70.5290537\n",
      "fail Camino Mirasol 1569; Santiago Las Condes; Chile\n",
      "-33.4238329 -70.6224425\n",
      "-33.4168157 -70.5985298\n",
      "-33.3740683 -70.5470884\n",
      "-33.4405776 -70.6453107\n",
      "-33.3594861 -70.4825932\n",
      "-33.3758394 -70.5773706\n",
      "-33.4186107 -70.5919693\n",
      "-33.545305 -70.6746371\n",
      "-33.4202268 -70.6041302\n",
      "-33.4556915 -70.6044907\n",
      "-33.4315749 -70.6370635\n",
      "-33.3845912 -70.534584\n",
      "-33.4812278 -70.6341231\n",
      "-33.3895687 -70.5408764\n",
      "-33.4270004 -70.6125385\n",
      "-33.3895687 -70.5408764\n",
      "-33.4131274 -70.5913517\n",
      "-33.4154993 -70.5953593\n"
     ]
    }
   ],
   "source": [
    "import folium\n",
    "import unicodedata\n",
    "coords = []\n",
    "x=0\n",
    "for name, row in adds.iterrows():\n",
    "    x+=1\n",
    "    if x>200:\n",
    "        break\n",
    "    try:\n",
    "        add= u\"%s\" % row['address']\n",
    "        add = unicodedata.normalize('NFD', add).encode('ascii', 'ignore')\n",
    "        g = geocoder.google(u\"%s\" % add)\n",
    "        lat, lon = g.latlng\n",
    "        coords.append(tuple(g.latlng))\n",
    "        print lat, lon\n",
    "    except:\n",
    "        print 'fail', add\n",
    "        continue"
   ]
  },
  {
   "cell_type": "markdown",
   "metadata": {},
   "source": [
    "[Stamen Toner](http://maps.stamen.com/toner/#15/-33.4187/-70.5908)"
   ]
  },
  {
   "cell_type": "code",
   "execution_count": 5,
   "metadata": {
    "collapsed": false,
    "scrolled": true
   },
   "outputs": [
    {
     "data": {
      "text/html": [
       "<div style=\"width:100%;\"><div style=\"position:relative;width:100%;height:0;padding-bottom:60%;\"><iframe src=\"data:text/html;base64,CiAgICAgICAgPCFET0NUWVBFIGh0bWw+CiAgICAgICAgPGhlYWQ+CiAgICAgICAgICAgIAogICAgICAgIAogICAgICAgICAgICA8bWV0YSBodHRwLWVxdWl2PSJjb250ZW50LXR5cGUiIGNvbnRlbnQ9InRleHQvaHRtbDsgY2hhcnNldD1VVEYtOCIgLz4KICAgICAgICAKICAgICAgICAgICAgCiAgICAgICAgCiAgICAgICAgICAgIDxzY3JpcHQgc3JjPSJodHRwczovL2NkbmpzLmNsb3VkZmxhcmUuY29tL2FqYXgvbGlicy9sZWFmbGV0LzAuNy4zL2xlYWZsZXQuanMiPjwvc2NyaXB0PgogICAgICAgIAogICAgICAgIAogICAgICAgIAogICAgICAgICAgICAKICAgICAgICAKICAgICAgICAgICAgPHNjcmlwdCBzcmM9Imh0dHBzOi8vYWpheC5nb29nbGVhcGlzLmNvbS9hamF4L2xpYnMvanF1ZXJ5LzEuMTEuMS9qcXVlcnkubWluLmpzIj48L3NjcmlwdD4KICAgICAgICAKICAgICAgICAKICAgICAgICAKICAgICAgICAgICAgCiAgICAgICAgCiAgICAgICAgICAgIDxzY3JpcHQgc3JjPSJodHRwczovL21heGNkbi5ib290c3RyYXBjZG4uY29tL2Jvb3RzdHJhcC8zLjIuMC9qcy9ib290c3RyYXAubWluLmpzIj48L3NjcmlwdD4KICAgICAgICAKICAgICAgICAKICAgICAgICAKICAgICAgICAgICAgCiAgICAgICAgCiAgICAgICAgICAgIDxzY3JpcHQgc3JjPSJodHRwczovL2NkbmpzLmNsb3VkZmxhcmUuY29tL2FqYXgvbGlicy9MZWFmbGV0LmF3ZXNvbWUtbWFya2Vycy8yLjAuMi9sZWFmbGV0LmF3ZXNvbWUtbWFya2Vycy5taW4uanMiPjwvc2NyaXB0PgogICAgICAgIAogICAgICAgIAogICAgICAgIAogICAgICAgICAgICAKICAgICAgICAKICAgICAgICAgICAgPHNjcmlwdCBzcmM9Imh0dHBzOi8vY2RuanMuY2xvdWRmbGFyZS5jb20vYWpheC9saWJzL2xlYWZsZXQubWFya2VyY2x1c3Rlci8wLjQuMC9sZWFmbGV0Lm1hcmtlcmNsdXN0ZXItc3JjLmpzIj48L3NjcmlwdD4KICAgICAgICAKICAgICAgICAKICAgICAgICAKICAgICAgICAgICAgCiAgICAgICAgCiAgICAgICAgICAgIDxzY3JpcHQgc3JjPSJodHRwczovL2NkbmpzLmNsb3VkZmxhcmUuY29tL2FqYXgvbGlicy9sZWFmbGV0Lm1hcmtlcmNsdXN0ZXIvMC40LjAvbGVhZmxldC5tYXJrZXJjbHVzdGVyLmpzIj48L3NjcmlwdD4KICAgICAgICAKICAgICAgICAKICAgICAgICAKICAgICAgICAgICAgCiAgICAgICAgCiAgICAgICAgICAgIDxsaW5rIHJlbD0ic3R5bGVzaGVldCIgaHJlZj0iaHR0cHM6Ly9jZG5qcy5jbG91ZGZsYXJlLmNvbS9hamF4L2xpYnMvbGVhZmxldC8wLjcuMy9sZWFmbGV0LmNzcyIgLz4KICAgICAgICAKICAgICAgICAKICAgICAgICAKICAgICAgICAgICAgCiAgICAgICAgCiAgICAgICAgICAgIDxsaW5rIHJlbD0ic3R5bGVzaGVldCIgaHJlZj0iaHR0cHM6Ly9tYXhjZG4uYm9vdHN0cmFwY2RuLmNvbS9ib290c3RyYXAvMy4yLjAvY3NzL2Jvb3RzdHJhcC5taW4uY3NzIiAvPgogICAgICAgIAogICAgICAgIAogICAgICAgIAogICAgICAgICAgICAKICAgICAgICAKICAgICAgICAgICAgPGxpbmsgcmVsPSJzdHlsZXNoZWV0IiBocmVmPSJodHRwczovL21heGNkbi5ib290c3RyYXBjZG4uY29tL2Jvb3RzdHJhcC8zLjIuMC9jc3MvYm9vdHN0cmFwLXRoZW1lLm1pbi5jc3MiIC8+CiAgICAgICAgCiAgICAgICAgCiAgICAgICAgCiAgICAgICAgICAgIAogICAgICAgIAogICAgICAgICAgICA8bGluayByZWw9InN0eWxlc2hlZXQiIGhyZWY9Imh0dHBzOi8vbWF4Y2RuLmJvb3RzdHJhcGNkbi5jb20vZm9udC1hd2Vzb21lLzQuMS4wL2Nzcy9mb250LWF3ZXNvbWUubWluLmNzcyIgLz4KICAgICAgICAKICAgICAgICAKICAgICAgICAKICAgICAgICAgICAgCiAgICAgICAgCiAgICAgICAgICAgIDxsaW5rIHJlbD0ic3R5bGVzaGVldCIgaHJlZj0iaHR0cHM6Ly9jZG5qcy5jbG91ZGZsYXJlLmNvbS9hamF4L2xpYnMvTGVhZmxldC5hd2Vzb21lLW1hcmtlcnMvMi4wLjIvbGVhZmxldC5hd2Vzb21lLW1hcmtlcnMuY3NzIiAvPgogICAgICAgIAogICAgICAgIAogICAgICAgIAogICAgICAgICAgICAKICAgICAgICAKICAgICAgICAgICAgPGxpbmsgcmVsPSJzdHlsZXNoZWV0IiBocmVmPSJodHRwczovL2NkbmpzLmNsb3VkZmxhcmUuY29tL2FqYXgvbGlicy9sZWFmbGV0Lm1hcmtlcmNsdXN0ZXIvMC40LjAvTWFya2VyQ2x1c3Rlci5EZWZhdWx0LmNzcyIgLz4KICAgICAgICAKICAgICAgICAKICAgICAgICAKICAgICAgICAgICAgCiAgICAgICAgCiAgICAgICAgICAgIDxsaW5rIHJlbD0ic3R5bGVzaGVldCIgaHJlZj0iaHR0cHM6Ly9jZG5qcy5jbG91ZGZsYXJlLmNvbS9hamF4L2xpYnMvbGVhZmxldC5tYXJrZXJjbHVzdGVyLzAuNC4wL01hcmtlckNsdXN0ZXIuY3NzIiAvPgogICAgICAgIAogICAgICAgIAogICAgICAgIAogICAgICAgICAgICAKICAgICAgICAKICAgICAgICAgICAgPGxpbmsgcmVsPSJzdHlsZXNoZWV0IiBocmVmPSJodHRwczovL3Jhdy5naXRodWJ1c2VyY29udGVudC5jb20vcHl0aG9uLXZpc3VhbGl6YXRpb24vZm9saXVtL21hc3Rlci9mb2xpdW0vdGVtcGxhdGVzL2xlYWZsZXQuYXdlc29tZS5yb3RhdGUuY3NzIiAvPgogICAgICAgIAogICAgICAgIAogICAgICAgIAogICAgICAgICAgICAKICAgICAgICAgICAgPHN0eWxlPgoKICAgICAgICAgICAgaHRtbCwgYm9keSB7CiAgICAgICAgICAgICAgICB3aWR0aDogMTAwJTsKICAgICAgICAgICAgICAgIGhlaWdodDogMTAwJTsKICAgICAgICAgICAgICAgIG1hcmdpbjogMDsKICAgICAgICAgICAgICAgIHBhZGRpbmc6IDA7CiAgICAgICAgICAgICAgICB9CgogICAgICAgICAgICAjbWFwIHsKICAgICAgICAgICAgICAgIHBvc2l0aW9uOmFic29sdXRlOwogICAgICAgICAgICAgICAgdG9wOjA7CiAgICAgICAgICAgICAgICBib3R0b206MDsKICAgICAgICAgICAgICAgIHJpZ2h0OjA7CiAgICAgICAgICAgICAgICBsZWZ0OjA7CiAgICAgICAgICAgICAgICB9CiAgICAgICAgICAgIDwvc3R5bGU+CiAgICAgICAgICAgIAogICAgICAgIAogICAgICAgICAgICAKICAgICAgICAgICAgPHN0eWxlPiAjbWFwXzcxZjZmMTIzMTljZDQ2NGY4NjAxYTdkZDFhYWQ2ZGIxIHsKICAgICAgICAgICAgICAgIHBvc2l0aW9uIDogcmVsYXRpdmU7CiAgICAgICAgICAgICAgICB3aWR0aCA6IDEwMC4wJTsKICAgICAgICAgICAgICAgIGhlaWdodDogMTAwLjAlOwogICAgICAgICAgICAgICAgbGVmdDogMC4wJTsKICAgICAgICAgICAgICAgIHRvcDogMC4wJTsKICAgICAgICAgICAgICAgIH0KICAgICAgICAgICAgPC9zdHlsZT4KICAgICAgICAKICAgICAgICAKICAgICAgICAKICAgICAgICA8L2hlYWQ+CiAgICAgICAgPGJvZHk+CiAgICAgICAgICAgIAogICAgICAgIAogICAgICAgICAgICAKICAgICAgICAgICAgPGRpdiBjbGFzcz0iZm9saXVtLW1hcCIgaWQ9Im1hcF83MWY2ZjEyMzE5Y2Q0NjRmODYwMWE3ZGQxYWFkNmRiMSIgPjwvZGl2PgogICAgICAgIAogICAgICAgIAogICAgICAgIAogICAgICAgIDwvYm9keT4KICAgICAgICA8c2NyaXB0PgogICAgICAgICAgICAKICAgICAgICAKICAgICAgICAgICAgCgogICAgICAgICAgICB2YXIgc291dGhXZXN0ID0gTC5sYXRMbmcoLTkwLCAtMTgwKTsKICAgICAgICAgICAgdmFyIG5vcnRoRWFzdCA9IEwubGF0TG5nKDkwLCAxODApOwogICAgICAgICAgICB2YXIgYm91bmRzID0gTC5sYXRMbmdCb3VuZHMoc291dGhXZXN0LCBub3J0aEVhc3QpOwoKICAgICAgICAgICAgdmFyIG1hcF83MWY2ZjEyMzE5Y2Q0NjRmODYwMWE3ZGQxYWFkNmRiMSA9IEwubWFwKCdtYXBfNzFmNmYxMjMxOWNkNDY0Zjg2MDFhN2RkMWFhZDZkYjEnLCB7CiAgICAgICAgICAgICAgICAgICAgICAgICAgICAgICAgICAgICAgICAgICBjZW50ZXI6Wy0zMy4zOSwtNzAuNTddLAogICAgICAgICAgICAgICAgICAgICAgICAgICAgICAgICAgICAgICAgICAgem9vbTogMTAsCiAgICAgICAgICAgICAgICAgICAgICAgICAgICAgICAgICAgICAgICAgICBtYXhCb3VuZHM6IGJvdW5kcywKICAgICAgICAgICAgICAgICAgICAgICAgICAgICAgICAgICAgICAgICAgIGxheWVyczogW10sCiAgICAgICAgICAgICAgICAgICAgICAgICAgICAgICAgICAgICAgICAgICBjcnM6IEwuQ1JTLkVQU0czODU3CiAgICAgICAgICAgICAgICAgICAgICAgICAgICAgICAgICAgICAgICAgfSk7CiAgICAgICAgICAgIAogICAgICAgIAogICAgICAgIAogICAgICAgICAgICAKICAgICAgICAgICAgdmFyIHRpbGVfbGF5ZXJfZDFmZmYwMzRlMjY5NDJhZjkwNDJjNzhhZjM0ZTZjYWIgPSBMLnRpbGVMYXllcigKICAgICAgICAgICAgICAgICdodHRwczovL3N0YW1lbi10aWxlcy17c30uYS5zc2wuZmFzdGx5Lm5ldC90b25lci97en0ve3h9L3t5fS5wbmcnLAogICAgICAgICAgICAgICAgewogICAgICAgICAgICAgICAgICAgIG1heFpvb206IDE4LAogICAgICAgICAgICAgICAgICAgIG1pblpvb206IDEsCiAgICAgICAgICAgICAgICAgICAgYXR0cmlidXRpb246ICdNYXAgdGlsZXMgYnkgPGEgaHJlZj0iaHR0cDovL3N0YW1lbi5jb20iPlN0YW1lbiBEZXNpZ248L2E+LCB1bmRlciA8YSBocmVmPSJodHRwOi8vY3JlYXRpdmVjb21tb25zLm9yZy9saWNlbnNlcy9ieS8zLjAiPkNDIEJZIDMuMDwvYT4uIERhdGEgYnkgPGEgaHJlZj0iaHR0cDovL29wZW5zdHJlZXRtYXAub3JnIj5PcGVuU3RyZWV0TWFwPC9hPiwgdW5kZXIgPGEgaHJlZj0iaHR0cDovL3d3dy5vcGVuc3RyZWV0bWFwLm9yZy9jb3B5cmlnaHQiPk9EYkw8L2E+LicsCiAgICAgICAgICAgICAgICAgICAgZGV0ZWN0UmV0aW5hOiBmYWxzZQogICAgICAgICAgICAgICAgICAgIH0KICAgICAgICAgICAgICAgICkuYWRkVG8obWFwXzcxZjZmMTIzMTljZDQ2NGY4NjAxYTdkZDFhYWQ2ZGIxKTsKCiAgICAgICAgCiAgICAgICAgCiAgICAgICAgICAgIAoKICAgICAgICAgICAgdmFyIGNpcmNsZV9tYXJrZXJfMzcwNjdhMmIxMDU0NDM2NWFhYjA2OWRiNjMwOGQ3OTEgPSBMLmNpcmNsZSgKICAgICAgICAgICAgICAgIFstMzMuMzU4Mjg5MywtNzAuNTQ2OTg3Ml0sCiAgICAgICAgICAgICAgICAyMDAsCiAgICAgICAgICAgICAgICB7CiAgICAgICAgICAgICAgICAgICAgY29sb3I6ICdyZ2JhKDI1NSwwLDAsMC43NSknLAogICAgICAgICAgICAgICAgICAgIGZpbGxDb2xvcjogJ3JnYmEoMjU1LDAsMCwwLjc1KScsCiAgICAgICAgICAgICAgICAgICAgZmlsbE9wYWNpdHk6IDAuNgogICAgICAgICAgICAgICAgICAgIH0KICAgICAgICAgICAgICAgICkKICAgICAgICAgICAgICAgIC5hZGRUbyhtYXBfNzFmNmYxMjMxOWNkNDY0Zjg2MDFhN2RkMWFhZDZkYjEpOwogICAgICAgICAgICAKICAgICAgICAKICAgICAgICAgICAgCgogICAgICAgICAgICB2YXIgY2lyY2xlX21hcmtlcl80YjM3ODg3ZDZjYzk0ZmY2YTBkNDQ5YjNmODUxZjQxOCA9IEwuY2lyY2xlKAogICAgICAgICAgICAgICAgWy0zMy4zOTA1MjExLC03MC41NzI0MTI0XSwKICAgICAgICAgICAgICAgIDIwMCwKICAgICAgICAgICAgICAgIHsKICAgICAgICAgICAgICAgICAgICBjb2xvcjogJ3JnYmEoMjU1LDAsMCwwLjc1KScsCiAgICAgICAgICAgICAgICAgICAgZmlsbENvbG9yOiAncmdiYSgyNTUsMCwwLDAuNzUpJywKICAgICAgICAgICAgICAgICAgICBmaWxsT3BhY2l0eTogMC42CiAgICAgICAgICAgICAgICAgICAgfQogICAgICAgICAgICAgICAgKQogICAgICAgICAgICAgICAgLmFkZFRvKG1hcF83MWY2ZjEyMzE5Y2Q0NjRmODYwMWE3ZGQxYWFkNmRiMSk7CiAgICAgICAgICAgIAogICAgICAgIAogICAgICAgICAgICAKCiAgICAgICAgICAgIHZhciBjaXJjbGVfbWFya2VyX2Q5OGJlOGU2Mjk0ODQyZDA4MjU2ZTg2NTBjYWYzNTI1ID0gTC5jaXJjbGUoCiAgICAgICAgICAgICAgICBbLTMzLjM3ODAzOSwtNzAuNjM0Njc4Nl0sCiAgICAgICAgICAgICAgICAyMDAsCiAgICAgICAgICAgICAgICB7CiAgICAgICAgICAgICAgICAgICAgY29sb3I6ICdyZ2JhKDI1NSwwLDAsMC43NSknLAogICAgICAgICAgICAgICAgICAgIGZpbGxDb2xvcjogJ3JnYmEoMjU1LDAsMCwwLjc1KScsCiAgICAgICAgICAgICAgICAgICAgZmlsbE9wYWNpdHk6IDAuNgogICAgICAgICAgICAgICAgICAgIH0KICAgICAgICAgICAgICAgICkKICAgICAgICAgICAgICAgIC5hZGRUbyhtYXBfNzFmNmYxMjMxOWNkNDY0Zjg2MDFhN2RkMWFhZDZkYjEpOwogICAgICAgICAgICAKICAgICAgICAKICAgICAgICAgICAgCgogICAgICAgICAgICB2YXIgY2lyY2xlX21hcmtlcl8xMGVhMDYyOTNkMDY0OTM4YTBmMzM5NjQxNDU5MmFmMyA9IEwuY2lyY2xlKAogICAgICAgICAgICAgICAgWy0zMy40MzAzMjk2LC03MC41OTA3MjkxXSwKICAgICAgICAgICAgICAgIDIwMCwKICAgICAgICAgICAgICAgIHsKICAgICAgICAgICAgICAgICAgICBjb2xvcjogJ3JnYmEoMjU1LDAsMCwwLjc1KScsCiAgICAgICAgICAgICAgICAgICAgZmlsbENvbG9yOiAncmdiYSgyNTUsMCwwLDAuNzUpJywKICAgICAgICAgICAgICAgICAgICBmaWxsT3BhY2l0eTogMC42CiAgICAgICAgICAgICAgICAgICAgfQogICAgICAgICAgICAgICAgKQogICAgICAgICAgICAgICAgLmFkZFRvKG1hcF83MWY2ZjEyMzE5Y2Q0NjRmODYwMWE3ZGQxYWFkNmRiMSk7CiAgICAgICAgICAgIAogICAgICAgIAogICAgICAgICAgICAKCiAgICAgICAgICAgIHZhciBjaXJjbGVfbWFya2VyXzYyYTcxZGRlMzhlMDQ3OThhYTMzNDJkNWU4NTlkNGY3ID0gTC5jaXJjbGUoCiAgICAgICAgICAgICAgICBbLTMzLjM3NDIxMjgsLTcwLjYzNjc0MjVdLAogICAgICAgICAgICAgICAgMjAwLAogICAgICAgICAgICAgICAgewogICAgICAgICAgICAgICAgICAgIGNvbG9yOiAncmdiYSgyNTUsMCwwLDAuNzUpJywKICAgICAgICAgICAgICAgICAgICBmaWxsQ29sb3I6ICdyZ2JhKDI1NSwwLDAsMC43NSknLAogICAgICAgICAgICAgICAgICAgIGZpbGxPcGFjaXR5OiAwLjYKICAgICAgICAgICAgICAgICAgICB9CiAgICAgICAgICAgICAgICApCiAgICAgICAgICAgICAgICAuYWRkVG8obWFwXzcxZjZmMTIzMTljZDQ2NGY4NjAxYTdkZDFhYWQ2ZGIxKTsKICAgICAgICAgICAgCiAgICAgICAgCiAgICAgICAgICAgIAoKICAgICAgICAgICAgdmFyIGNpcmNsZV9tYXJrZXJfODllZWViOGJmYWNmNDljZThmNDVlNzhmNjFiZWM2OWQgPSBMLmNpcmNsZSgKICAgICAgICAgICAgICAgIFstMzMuNDA5ODczNiwtNzAuNzI0MDg5M10sCiAgICAgICAgICAgICAgICAyMDAsCiAgICAgICAgICAgICAgICB7CiAgICAgICAgICAgICAgICAgICAgY29sb3I6ICdyZ2JhKDI1NSwwLDAsMC43NSknLAogICAgICAgICAgICAgICAgICAgIGZpbGxDb2xvcjogJ3JnYmEoMjU1LDAsMCwwLjc1KScsCiAgICAgICAgICAgICAgICAgICAgZmlsbE9wYWNpdHk6IDAuNgogICAgICAgICAgICAgICAgICAgIH0KICAgICAgICAgICAgICAgICkKICAgICAgICAgICAgICAgIC5hZGRUbyhtYXBfNzFmNmYxMjMxOWNkNDY0Zjg2MDFhN2RkMWFhZDZkYjEpOwogICAgICAgICAgICAKICAgICAgICAKICAgICAgICAgICAgCgogICAgICAgICAgICB2YXIgY2lyY2xlX21hcmtlcl85OWVlNTIyMDU1ZTg0YmU4YWI0ODg5NzNiZGViNDM3MyA9IEwuY2lyY2xlKAogICAgICAgICAgICAgICAgWy0zMy40NDg4ODk3LC03MC42NjkyNjU1XSwKICAgICAgICAgICAgICAgIDIwMCwKICAgICAgICAgICAgICAgIHsKICAgICAgICAgICAgICAgICAgICBjb2xvcjogJ3JnYmEoMjU1LDAsMCwwLjc1KScsCiAgICAgICAgICAgICAgICAgICAgZmlsbENvbG9yOiAncmdiYSgyNTUsMCwwLDAuNzUpJywKICAgICAgICAgICAgICAgICAgICBmaWxsT3BhY2l0eTogMC42CiAgICAgICAgICAgICAgICAgICAgfQogICAgICAgICAgICAgICAgKQogICAgICAgICAgICAgICAgLmFkZFRvKG1hcF83MWY2ZjEyMzE5Y2Q0NjRmODYwMWE3ZGQxYWFkNmRiMSk7CiAgICAgICAgICAgIAogICAgICAgIAogICAgICAgICAgICAKCiAgICAgICAgICAgIHZhciBjaXJjbGVfbWFya2VyXzA4NjAzODA5MWY3NDRhZTU5NmYxZmNhMGNjZmY0MWMyID0gTC5jaXJjbGUoCiAgICAgICAgICAgICAgICBbLTMzLjQ0ODg4OTcsLTcwLjY2OTI2NTVdLAogICAgICAgICAgICAgICAgMjAwLAogICAgICAgICAgICAgICAgewogICAgICAgICAgICAgICAgICAgIGNvbG9yOiAncmdiYSgyNTUsMCwwLDAuNzUpJywKICAgICAgICAgICAgICAgICAgICBmaWxsQ29sb3I6ICdyZ2JhKDI1NSwwLDAsMC43NSknLAogICAgICAgICAgICAgICAgICAgIGZpbGxPcGFjaXR5OiAwLjYKICAgICAgICAgICAgICAgICAgICB9CiAgICAgICAgICAgICAgICApCiAgICAgICAgICAgICAgICAuYWRkVG8obWFwXzcxZjZmMTIzMTljZDQ2NGY4NjAxYTdkZDFhYWQ2ZGIxKTsKICAgICAgICAgICAgCiAgICAgICAgCiAgICAgICAgICAgIAoKICAgICAgICAgICAgdmFyIGNpcmNsZV9tYXJrZXJfNjYxY2M5Mzc0ZDZmNDczM2JhOTEyNzJjZjc4NmNmYjMgPSBMLmNpcmNsZSgKICAgICAgICAgICAgICAgIFstMzMuNDQyMTEzNSwtNzAuNzY0MDY0NF0sCiAgICAgICAgICAgICAgICAyMDAsCiAgICAgICAgICAgICAgICB7CiAgICAgICAgICAgICAgICAgICAgY29sb3I6ICdyZ2JhKDI1NSwwLDAsMC43NSknLAogICAgICAgICAgICAgICAgICAgIGZpbGxDb2xvcjogJ3JnYmEoMjU1LDAsMCwwLjc1KScsCiAgICAgICAgICAgICAgICAgICAgZmlsbE9wYWNpdHk6IDAuNgogICAgICAgICAgICAgICAgICAgIH0KICAgICAgICAgICAgICAgICkKICAgICAgICAgICAgICAgIC5hZGRUbyhtYXBfNzFmNmYxMjMxOWNkNDY0Zjg2MDFhN2RkMWFhZDZkYjEpOwogICAgICAgICAgICAKICAgICAgICAKICAgICAgICAgICAgCgogICAgICAgICAgICB2YXIgY2lyY2xlX21hcmtlcl9lYjBmNzYyMTBhYmI0NTJjOTZhY2E0ZGRkMTQ0YzViMiA9IEwuY2lyY2xlKAogICAgICAgICAgICAgICAgWy0zMy40NTEwNDgyLC03MC42MDI0NTczXSwKICAgICAgICAgICAgICAgIDIwMCwKICAgICAgICAgICAgICAgIHsKICAgICAgICAgICAgICAgICAgICBjb2xvcjogJ3JnYmEoMjU1LDAsMCwwLjc1KScsCiAgICAgICAgICAgICAgICAgICAgZmlsbENvbG9yOiAncmdiYSgyNTUsMCwwLDAuNzUpJywKICAgICAgICAgICAgICAgICAgICBmaWxsT3BhY2l0eTogMC42CiAgICAgICAgICAgICAgICAgICAgfQogICAgICAgICAgICAgICAgKQogICAgICAgICAgICAgICAgLmFkZFRvKG1hcF83MWY2ZjEyMzE5Y2Q0NjRmODYwMWE3ZGQxYWFkNmRiMSk7CiAgICAgICAgICAgIAogICAgICAgIAogICAgICAgICAgICAKCiAgICAgICAgICAgIHZhciBjaXJjbGVfbWFya2VyX2E4ODUxOTllZDEyYTQyNTBiZTYwN2RmZTg3NDBiZTNjID0gTC5jaXJjbGUoCiAgICAgICAgICAgICAgICBbLTMzLjM5NzUzNjQsLTcwLjU4MzU1ODddLAogICAgICAgICAgICAgICAgMjAwLAogICAgICAgICAgICAgICAgewogICAgICAgICAgICAgICAgICAgIGNvbG9yOiAncmdiYSgyNTUsMCwwLDAuNzUpJywKICAgICAgICAgICAgICAgICAgICBmaWxsQ29sb3I6ICdyZ2JhKDI1NSwwLDAsMC43NSknLAogICAgICAgICAgICAgICAgICAgIGZpbGxPcGFjaXR5OiAwLjYKICAgICAgICAgICAgICAgICAgICB9CiAgICAgICAgICAgICAgICApCiAgICAgICAgICAgICAgICAuYWRkVG8obWFwXzcxZjZmMTIzMTljZDQ2NGY4NjAxYTdkZDFhYWQ2ZGIxKTsKICAgICAgICAgICAgCiAgICAgICAgCiAgICAgICAgICAgIAoKICAgICAgICAgICAgdmFyIGNpcmNsZV9tYXJrZXJfYjJmZmYxNWNjNGJlNGI2NTg5OGM5Zjg3NTk5M2FjNDggPSBMLmNpcmNsZSgKICAgICAgICAgICAgICAgIFstMzMuMzQwMDU4OCwtNzAuNTUxMzk2OV0sCiAgICAgICAgICAgICAgICAyMDAsCiAgICAgICAgICAgICAgICB7CiAgICAgICAgICAgICAgICAgICAgY29sb3I6ICdyZ2JhKDI1NSwwLDAsMC43NSknLAogICAgICAgICAgICAgICAgICAgIGZpbGxDb2xvcjogJ3JnYmEoMjU1LDAsMCwwLjc1KScsCiAgICAgICAgICAgICAgICAgICAgZmlsbE9wYWNpdHk6IDAuNgogICAgICAgICAgICAgICAgICAgIH0KICAgICAgICAgICAgICAgICkKICAgICAgICAgICAgICAgIC5hZGRUbyhtYXBfNzFmNmYxMjMxOWNkNDY0Zjg2MDFhN2RkMWFhZDZkYjEpOwogICAgICAgICAgICAKICAgICAgICAKICAgICAgICAgICAgCgogICAgICAgICAgICB2YXIgY2lyY2xlX21hcmtlcl9jZDVmM2VmZGQ5ZDI0MzliOTVjZDQyMzVmMjdjZGU1YSA9IEwuY2lyY2xlKAogICAgICAgICAgICAgICAgWy0zMy4zNzAzOTA2LC03MC41MTE3NjE5XSwKICAgICAgICAgICAgICAgIDIwMCwKICAgICAgICAgICAgICAgIHsKICAgICAgICAgICAgICAgICAgICBjb2xvcjogJ3JnYmEoMjU1LDAsMCwwLjc1KScsCiAgICAgICAgICAgICAgICAgICAgZmlsbENvbG9yOiAncmdiYSgyNTUsMCwwLDAuNzUpJywKICAgICAgICAgICAgICAgICAgICBmaWxsT3BhY2l0eTogMC42CiAgICAgICAgICAgICAgICAgICAgfQogICAgICAgICAgICAgICAgKQogICAgICAgICAgICAgICAgLmFkZFRvKG1hcF83MWY2ZjEyMzE5Y2Q0NjRmODYwMWE3ZGQxYWFkNmRiMSk7CiAgICAgICAgICAgIAogICAgICAgIAogICAgICAgICAgICAKCiAgICAgICAgICAgIHZhciBjaXJjbGVfbWFya2VyX2Y0NDhmMzI5NGJiMTQwOGRhOGMwZjFmMWQ4YzZlYjU3ID0gTC5jaXJjbGUoCiAgICAgICAgICAgICAgICBbLTMzLjM3NTg4NTgsLTcwLjU3OTM5OTFdLAogICAgICAgICAgICAgICAgMjAwLAogICAgICAgICAgICAgICAgewogICAgICAgICAgICAgICAgICAgIGNvbG9yOiAncmdiYSgyNTUsMCwwLDAuNzUpJywKICAgICAgICAgICAgICAgICAgICBmaWxsQ29sb3I6ICdyZ2JhKDI1NSwwLDAsMC43NSknLAogICAgICAgICAgICAgICAgICAgIGZpbGxPcGFjaXR5OiAwLjYKICAgICAgICAgICAgICAgICAgICB9CiAgICAgICAgICAgICAgICApCiAgICAgICAgICAgICAgICAuYWRkVG8obWFwXzcxZjZmMTIzMTljZDQ2NGY4NjAxYTdkZDFhYWQ2ZGIxKTsKICAgICAgICAgICAgCiAgICAgICAgCiAgICAgICAgICAgIAoKICAgICAgICAgICAgdmFyIGNpcmNsZV9tYXJrZXJfODQ3YzlmMzQ4ZTM3NDljMGE0N2MxZjJmYjRlYzg5ODAgPSBMLmNpcmNsZSgKICAgICAgICAgICAgICAgIFstMzMuNDQ4NDY5MiwtNzAuNjE1MDUwNF0sCiAgICAgICAgICAgICAgICAyMDAsCiAgICAgICAgICAgICAgICB7CiAgICAgICAgICAgICAgICAgICAgY29sb3I6ICdyZ2JhKDI1NSwwLDAsMC43NSknLAogICAgICAgICAgICAgICAgICAgIGZpbGxDb2xvcjogJ3JnYmEoMjU1LDAsMCwwLjc1KScsCiAgICAgICAgICAgICAgICAgICAgZmlsbE9wYWNpdHk6IDAuNgogICAgICAgICAgICAgICAgICAgIH0KICAgICAgICAgICAgICAgICkKICAgICAgICAgICAgICAgIC5hZGRUbyhtYXBfNzFmNmYxMjMxOWNkNDY0Zjg2MDFhN2RkMWFhZDZkYjEpOwogICAgICAgICAgICAKICAgICAgICAKICAgICAgICAgICAgCgogICAgICAgICAgICB2YXIgY2lyY2xlX21hcmtlcl9lZmYyZTUwMmNkYzc0ODFlYjJkMDA5MmUyYzk1NjIyZSA9IEwuY2lyY2xlKAogICAgICAgICAgICAgICAgWy0zMy40MDU0MzczLC03MC41NzYyNzE1XSwKICAgICAgICAgICAgICAgIDIwMCwKICAgICAgICAgICAgICAgIHsKICAgICAgICAgICAgICAgICAgICBjb2xvcjogJ3JnYmEoMjU1LDAsMCwwLjc1KScsCiAgICAgICAgICAgICAgICAgICAgZmlsbENvbG9yOiAncmdiYSgyNTUsMCwwLDAuNzUpJywKICAgICAgICAgICAgICAgICAgICBmaWxsT3BhY2l0eTogMC42CiAgICAgICAgICAgICAgICAgICAgfQogICAgICAgICAgICAgICAgKQogICAgICAgICAgICAgICAgLmFkZFRvKG1hcF83MWY2ZjEyMzE5Y2Q0NjRmODYwMWE3ZGQxYWFkNmRiMSk7CiAgICAgICAgICAgIAogICAgICAgIAogICAgICAgICAgICAKCiAgICAgICAgICAgIHZhciBjaXJjbGVfbWFya2VyXzVmYTJmOGNkMTgwYjQ0ZmM5NjQxM2M4OTQzYzBhOWRjID0gTC5jaXJjbGUoCiAgICAgICAgICAgICAgICBbLTMzLjQwODc4NDQsLTcwLjU2NzA2OV0sCiAgICAgICAgICAgICAgICAyMDAsCiAgICAgICAgICAgICAgICB7CiAgICAgICAgICAgICAgICAgICAgY29sb3I6ICdyZ2JhKDI1NSwwLDAsMC43NSknLAogICAgICAgICAgICAgICAgICAgIGZpbGxDb2xvcjogJ3JnYmEoMjU1LDAsMCwwLjc1KScsCiAgICAgICAgICAgICAgICAgICAgZmlsbE9wYWNpdHk6IDAuNgogICAgICAgICAgICAgICAgICAgIH0KICAgICAgICAgICAgICAgICkKICAgICAgICAgICAgICAgIC5hZGRUbyhtYXBfNzFmNmYxMjMxOWNkNDY0Zjg2MDFhN2RkMWFhZDZkYjEpOwogICAgICAgICAgICAKICAgICAgICAKICAgICAgICAgICAgCgogICAgICAgICAgICB2YXIgY2lyY2xlX21hcmtlcl8zNjhhMWY4MTNlNzU0YTgzYjhmOWNiOTZkMmY4MmI5OSA9IEwuY2lyY2xlKAogICAgICAgICAgICAgICAgWy0zMy40NDM3MzM1LC03MC42Mjc5NDU1XSwKICAgICAgICAgICAgICAgIDIwMCwKICAgICAgICAgICAgICAgIHsKICAgICAgICAgICAgICAgICAgICBjb2xvcjogJ3JnYmEoMjU1LDAsMCwwLjc1KScsCiAgICAgICAgICAgICAgICAgICAgZmlsbENvbG9yOiAncmdiYSgyNTUsMCwwLDAuNzUpJywKICAgICAgICAgICAgICAgICAgICBmaWxsT3BhY2l0eTogMC42CiAgICAgICAgICAgICAgICAgICAgfQogICAgICAgICAgICAgICAgKQogICAgICAgICAgICAgICAgLmFkZFRvKG1hcF83MWY2ZjEyMzE5Y2Q0NjRmODYwMWE3ZGQxYWFkNmRiMSk7CiAgICAgICAgICAgIAogICAgICAgIAogICAgICAgICAgICAKCiAgICAgICAgICAgIHZhciBjaXJjbGVfbWFya2VyXzA4ZDMyMTI4YTFmNjRiN2FhOTQ2YTdiMjU0OTMyMmQwID0gTC5jaXJjbGUoCiAgICAgICAgICAgICAgICBbLTMzLjQxNTEyOTcsLTcwLjU5MjIxNzddLAogICAgICAgICAgICAgICAgMjAwLAogICAgICAgICAgICAgICAgewogICAgICAgICAgICAgICAgICAgIGNvbG9yOiAncmdiYSgyNTUsMCwwLDAuNzUpJywKICAgICAgICAgICAgICAgICAgICBmaWxsQ29sb3I6ICdyZ2JhKDI1NSwwLDAsMC43NSknLAogICAgICAgICAgICAgICAgICAgIGZpbGxPcGFjaXR5OiAwLjYKICAgICAgICAgICAgICAgICAgICB9CiAgICAgICAgICAgICAgICApCiAgICAgICAgICAgICAgICAuYWRkVG8obWFwXzcxZjZmMTIzMTljZDQ2NGY4NjAxYTdkZDFhYWQ2ZGIxKTsKICAgICAgICAgICAgCiAgICAgICAgCiAgICAgICAgICAgIAoKICAgICAgICAgICAgdmFyIGNpcmNsZV9tYXJrZXJfYTg3YTEyMzM3YTBjNDFkZWI5YTY5ZjQ5M2MyMzFiNTkgPSBMLmNpcmNsZSgKICAgICAgICAgICAgICAgIFstMzMuNDU4NjcxNywtNzAuNTYxMTI2N10sCiAgICAgICAgICAgICAgICAyMDAsCiAgICAgICAgICAgICAgICB7CiAgICAgICAgICAgICAgICAgICAgY29sb3I6ICdyZ2JhKDI1NSwwLDAsMC43NSknLAogICAgICAgICAgICAgICAgICAgIGZpbGxDb2xvcjogJ3JnYmEoMjU1LDAsMCwwLjc1KScsCiAgICAgICAgICAgICAgICAgICAgZmlsbE9wYWNpdHk6IDAuNgogICAgICAgICAgICAgICAgICAgIH0KICAgICAgICAgICAgICAgICkKICAgICAgICAgICAgICAgIC5hZGRUbyhtYXBfNzFmNmYxMjMxOWNkNDY0Zjg2MDFhN2RkMWFhZDZkYjEpOwogICAgICAgICAgICAKICAgICAgICAKICAgICAgICAgICAgCgogICAgICAgICAgICB2YXIgY2lyY2xlX21hcmtlcl81NGFmYmM0M2Q1YTc0YTA2YjdhMWY2OTI1MGU0MDU0MiA9IEwuY2lyY2xlKAogICAgICAgICAgICAgICAgWy0zMy4zMjQzOTE3LC03MC41NDM4MzQ2XSwKICAgICAgICAgICAgICAgIDIwMCwKICAgICAgICAgICAgICAgIHsKICAgICAgICAgICAgICAgICAgICBjb2xvcjogJ3JnYmEoMjU1LDAsMCwwLjc1KScsCiAgICAgICAgICAgICAgICAgICAgZmlsbENvbG9yOiAncmdiYSgyNTUsMCwwLDAuNzUpJywKICAgICAgICAgICAgICAgICAgICBmaWxsT3BhY2l0eTogMC42CiAgICAgICAgICAgICAgICAgICAgfQogICAgICAgICAgICAgICAgKQogICAgICAgICAgICAgICAgLmFkZFRvKG1hcF83MWY2ZjEyMzE5Y2Q0NjRmODYwMWE3ZGQxYWFkNmRiMSk7CiAgICAgICAgICAgIAogICAgICAgIAogICAgICAgICAgICAKCiAgICAgICAgICAgIHZhciBjaXJjbGVfbWFya2VyXzg3ZTc4YzNhNTE2NDQxNGI5NGFjYTc0NzBiZTBmOTVmID0gTC5jaXJjbGUoCiAgICAgICAgICAgICAgICBbLTMzLjM5NTg4NDUsLTcwLjU0MTEzMjRdLAogICAgICAgICAgICAgICAgMjAwLAogICAgICAgICAgICAgICAgewogICAgICAgICAgICAgICAgICAgIGNvbG9yOiAncmdiYSgyNTUsMCwwLDAuNzUpJywKICAgICAgICAgICAgICAgICAgICBmaWxsQ29sb3I6ICdyZ2JhKDI1NSwwLDAsMC43NSknLAogICAgICAgICAgICAgICAgICAgIGZpbGxPcGFjaXR5OiAwLjYKICAgICAgICAgICAgICAgICAgICB9CiAgICAgICAgICAgICAgICApCiAgICAgICAgICAgICAgICAuYWRkVG8obWFwXzcxZjZmMTIzMTljZDQ2NGY4NjAxYTdkZDFhYWQ2ZGIxKTsKICAgICAgICAgICAgCiAgICAgICAgCiAgICAgICAgICAgIAoKICAgICAgICAgICAgdmFyIGNpcmNsZV9tYXJrZXJfNjRiNTY5YTE5MGNmNGY5YzgwNzU5MzhjMWZjNzA0NTkgPSBMLmNpcmNsZSgKICAgICAgICAgICAgICAgIFstMzMuMzk2MDkzLC03MC41NDExMzk2XSwKICAgICAgICAgICAgICAgIDIwMCwKICAgICAgICAgICAgICAgIHsKICAgICAgICAgICAgICAgICAgICBjb2xvcjogJ3JnYmEoMjU1LDAsMCwwLjc1KScsCiAgICAgICAgICAgICAgICAgICAgZmlsbENvbG9yOiAncmdiYSgyNTUsMCwwLDAuNzUpJywKICAgICAgICAgICAgICAgICAgICBmaWxsT3BhY2l0eTogMC42CiAgICAgICAgICAgICAgICAgICAgfQogICAgICAgICAgICAgICAgKQogICAgICAgICAgICAgICAgLmFkZFRvKG1hcF83MWY2ZjEyMzE5Y2Q0NjRmODYwMWE3ZGQxYWFkNmRiMSk7CiAgICAgICAgICAgIAogICAgICAgIAogICAgICAgICAgICAKCiAgICAgICAgICAgIHZhciBjaXJjbGVfbWFya2VyX2RhNzZjOTJhYjdiNjQ4ZDE4ODc0ZGE2ZTFhNTQzZDZlID0gTC5jaXJjbGUoCiAgICAgICAgICAgICAgICBbLTMzLjQxMTk3OSwtNzAuNTM0OTQ0OV0sCiAgICAgICAgICAgICAgICAyMDAsCiAgICAgICAgICAgICAgICB7CiAgICAgICAgICAgICAgICAgICAgY29sb3I6ICdyZ2JhKDI1NSwwLDAsMC43NSknLAogICAgICAgICAgICAgICAgICAgIGZpbGxDb2xvcjogJ3JnYmEoMjU1LDAsMCwwLjc1KScsCiAgICAgICAgICAgICAgICAgICAgZmlsbE9wYWNpdHk6IDAuNgogICAgICAgICAgICAgICAgICAgIH0KICAgICAgICAgICAgICAgICkKICAgICAgICAgICAgICAgIC5hZGRUbyhtYXBfNzFmNmYxMjMxOWNkNDY0Zjg2MDFhN2RkMWFhZDZkYjEpOwogICAgICAgICAgICAKICAgICAgICAKICAgICAgICAgICAgCgogICAgICAgICAgICB2YXIgY2lyY2xlX21hcmtlcl8xZTVjYjBmZDhkMDc0ODYyYTlhYWFiOTgxY2UxZGIxMyA9IEwuY2lyY2xlKAogICAgICAgICAgICAgICAgWy0zMy4zNTQ4NDY0LC03MC41MTY1MjM2XSwKICAgICAgICAgICAgICAgIDIwMCwKICAgICAgICAgICAgICAgIHsKICAgICAgICAgICAgICAgICAgICBjb2xvcjogJ3JnYmEoMjU1LDAsMCwwLjc1KScsCiAgICAgICAgICAgICAgICAgICAgZmlsbENvbG9yOiAncmdiYSgyNTUsMCwwLDAuNzUpJywKICAgICAgICAgICAgICAgICAgICBmaWxsT3BhY2l0eTogMC42CiAgICAgICAgICAgICAgICAgICAgfQogICAgICAgICAgICAgICAgKQogICAgICAgICAgICAgICAgLmFkZFRvKG1hcF83MWY2ZjEyMzE5Y2Q0NjRmODYwMWE3ZGQxYWFkNmRiMSk7CiAgICAgICAgICAgIAogICAgICAgIAogICAgICAgICAgICAKCiAgICAgICAgICAgIHZhciBjaXJjbGVfbWFya2VyXzM1NWIzM2Y3N2QyMTQxOWY4YTcwMDQ0NjU2NDc4MDU2ID0gTC5jaXJjbGUoCiAgICAgICAgICAgICAgICBbLTMzLjM5NjkyNjMsLTcwLjU5OTU5NzVdLAogICAgICAgICAgICAgICAgMjAwLAogICAgICAgICAgICAgICAgewogICAgICAgICAgICAgICAgICAgIGNvbG9yOiAncmdiYSgyNTUsMCwwLDAuNzUpJywKICAgICAgICAgICAgICAgICAgICBmaWxsQ29sb3I6ICdyZ2JhKDI1NSwwLDAsMC43NSknLAogICAgICAgICAgICAgICAgICAgIGZpbGxPcGFjaXR5OiAwLjYKICAgICAgICAgICAgICAgICAgICB9CiAgICAgICAgICAgICAgICApCiAgICAgICAgICAgICAgICAuYWRkVG8obWFwXzcxZjZmMTIzMTljZDQ2NGY4NjAxYTdkZDFhYWQ2ZGIxKTsKICAgICAgICAgICAgCiAgICAgICAgCiAgICAgICAgICAgIAoKICAgICAgICAgICAgdmFyIGNpcmNsZV9tYXJrZXJfODk5NGMzMjRhNzlhNDIxNmE5NTVlZmQ5ZjM5ODE5NGUgPSBMLmNpcmNsZSgKICAgICAgICAgICAgICAgIFstMzMuMzkwNTIxMSwtNzAuNTcyNDEyNF0sCiAgICAgICAgICAgICAgICAyMDAsCiAgICAgICAgICAgICAgICB7CiAgICAgICAgICAgICAgICAgICAgY29sb3I6ICdyZ2JhKDI1NSwwLDAsMC43NSknLAogICAgICAgICAgICAgICAgICAgIGZpbGxDb2xvcjogJ3JnYmEoMjU1LDAsMCwwLjc1KScsCiAgICAgICAgICAgICAgICAgICAgZmlsbE9wYWNpdHk6IDAuNgogICAgICAgICAgICAgICAgICAgIH0KICAgICAgICAgICAgICAgICkKICAgICAgICAgICAgICAgIC5hZGRUbyhtYXBfNzFmNmYxMjMxOWNkNDY0Zjg2MDFhN2RkMWFhZDZkYjEpOwogICAgICAgICAgICAKICAgICAgICAKICAgICAgICAgICAgCgogICAgICAgICAgICB2YXIgY2lyY2xlX21hcmtlcl9mZTNkYjBkOTI1OTA0YTg1YWZiODQ5MTM4YmNiZDI1OCA9IEwuY2lyY2xlKAogICAgICAgICAgICAgICAgWy0zMy40MzAyMjc1LC03MC42MTc3NzM1XSwKICAgICAgICAgICAgICAgIDIwMCwKICAgICAgICAgICAgICAgIHsKICAgICAgICAgICAgICAgICAgICBjb2xvcjogJ3JnYmEoMjU1LDAsMCwwLjc1KScsCiAgICAgICAgICAgICAgICAgICAgZmlsbENvbG9yOiAncmdiYSgyNTUsMCwwLDAuNzUpJywKICAgICAgICAgICAgICAgICAgICBmaWxsT3BhY2l0eTogMC42CiAgICAgICAgICAgICAgICAgICAgfQogICAgICAgICAgICAgICAgKQogICAgICAgICAgICAgICAgLmFkZFRvKG1hcF83MWY2ZjEyMzE5Y2Q0NjRmODYwMWE3ZGQxYWFkNmRiMSk7CiAgICAgICAgICAgIAogICAgICAgIAogICAgICAgICAgICAKCiAgICAgICAgICAgIHZhciBjaXJjbGVfbWFya2VyX2M1M2MxNWRiYjhhODQ3NmRiZDE1N2EwZTIyMWYxNWI4ID0gTC5jaXJjbGUoCiAgICAgICAgICAgICAgICBbLTMzLjI4MzI0NzQsLTcwLjYzNDUyNTVdLAogICAgICAgICAgICAgICAgMjAwLAogICAgICAgICAgICAgICAgewogICAgICAgICAgICAgICAgICAgIGNvbG9yOiAncmdiYSgyNTUsMCwwLDAuNzUpJywKICAgICAgICAgICAgICAgICAgICBmaWxsQ29sb3I6ICdyZ2JhKDI1NSwwLDAsMC43NSknLAogICAgICAgICAgICAgICAgICAgIGZpbGxPcGFjaXR5OiAwLjYKICAgICAgICAgICAgICAgICAgICB9CiAgICAgICAgICAgICAgICApCiAgICAgICAgICAgICAgICAuYWRkVG8obWFwXzcxZjZmMTIzMTljZDQ2NGY4NjAxYTdkZDFhYWQ2ZGIxKTsKICAgICAgICAgICAgCiAgICAgICAgCiAgICAgICAgICAgIAoKICAgICAgICAgICAgdmFyIGNpcmNsZV9tYXJrZXJfNGQ2MmQzMzlhYWQxNGUyN2JkNWY3MTU2NDQ3OGQ2MjEgPSBMLmNpcmNsZSgKICAgICAgICAgICAgICAgIFstMzMuNDMxNDkzNSwtNzAuNjIzMDA4NV0sCiAgICAgICAgICAgICAgICAyMDAsCiAgICAgICAgICAgICAgICB7CiAgICAgICAgICAgICAgICAgICAgY29sb3I6ICdyZ2JhKDI1NSwwLDAsMC43NSknLAogICAgICAgICAgICAgICAgICAgIGZpbGxDb2xvcjogJ3JnYmEoMjU1LDAsMCwwLjc1KScsCiAgICAgICAgICAgICAgICAgICAgZmlsbE9wYWNpdHk6IDAuNgogICAgICAgICAgICAgICAgICAgIH0KICAgICAgICAgICAgICAgICkKICAgICAgICAgICAgICAgIC5hZGRUbyhtYXBfNzFmNmYxMjMxOWNkNDY0Zjg2MDFhN2RkMWFhZDZkYjEpOwogICAgICAgICAgICAKICAgICAgICAKICAgICAgICAgICAgCgogICAgICAgICAgICB2YXIgY2lyY2xlX21hcmtlcl8wNWJiMjg5ZTU4Yzg0OWE2YThkMzhiZTg2MzA3ZGI3OCA9IEwuY2lyY2xlKAogICAgICAgICAgICAgICAgWy0zMy40Mzk5NzY2LC03MC42NTMxMTU1XSwKICAgICAgICAgICAgICAgIDIwMCwKICAgICAgICAgICAgICAgIHsKICAgICAgICAgICAgICAgICAgICBjb2xvcjogJ3JnYmEoMjU1LDAsMCwwLjc1KScsCiAgICAgICAgICAgICAgICAgICAgZmlsbENvbG9yOiAncmdiYSgyNTUsMCwwLDAuNzUpJywKICAgICAgICAgICAgICAgICAgICBmaWxsT3BhY2l0eTogMC42CiAgICAgICAgICAgICAgICAgICAgfQogICAgICAgICAgICAgICAgKQogICAgICAgICAgICAgICAgLmFkZFRvKG1hcF83MWY2ZjEyMzE5Y2Q0NjRmODYwMWE3ZGQxYWFkNmRiMSk7CiAgICAgICAgICAgIAogICAgICAgIAogICAgICAgICAgICAKCiAgICAgICAgICAgIHZhciBjaXJjbGVfbWFya2VyXzFjNWZlMDc4ODg1NzQ1NGQ4OTZhNTQ4MTBlNzM3ZDU4ID0gTC5jaXJjbGUoCiAgICAgICAgICAgICAgICBbLTMzLjQzOTY5NjEsLTcwLjY1MTYwNDddLAogICAgICAgICAgICAgICAgMjAwLAogICAgICAgICAgICAgICAgewogICAgICAgICAgICAgICAgICAgIGNvbG9yOiAncmdiYSgyNTUsMCwwLDAuNzUpJywKICAgICAgICAgICAgICAgICAgICBmaWxsQ29sb3I6ICdyZ2JhKDI1NSwwLDAsMC43NSknLAogICAgICAgICAgICAgICAgICAgIGZpbGxPcGFjaXR5OiAwLjYKICAgICAgICAgICAgICAgICAgICB9CiAgICAgICAgICAgICAgICApCiAgICAgICAgICAgICAgICAuYWRkVG8obWFwXzcxZjZmMTIzMTljZDQ2NGY4NjAxYTdkZDFhYWQ2ZGIxKTsKICAgICAgICAgICAgCiAgICAgICAgCiAgICAgICAgICAgIAoKICAgICAgICAgICAgdmFyIGNpcmNsZV9tYXJrZXJfMTNiMzIxMTU1NDQxNDQ3ZGJiZTg2ZmQwNmI4OGU3MjEgPSBMLmNpcmNsZSgKICAgICAgICAgICAgICAgIFstMzMuNDMzMDEyNSwtNzAuNjIzNDQ1OV0sCiAgICAgICAgICAgICAgICAyMDAsCiAgICAgICAgICAgICAgICB7CiAgICAgICAgICAgICAgICAgICAgY29sb3I6ICdyZ2JhKDI1NSwwLDAsMC43NSknLAogICAgICAgICAgICAgICAgICAgIGZpbGxDb2xvcjogJ3JnYmEoMjU1LDAsMCwwLjc1KScsCiAgICAgICAgICAgICAgICAgICAgZmlsbE9wYWNpdHk6IDAuNgogICAgICAgICAgICAgICAgICAgIH0KICAgICAgICAgICAgICAgICkKICAgICAgICAgICAgICAgIC5hZGRUbyhtYXBfNzFmNmYxMjMxOWNkNDY0Zjg2MDFhN2RkMWFhZDZkYjEpOwogICAgICAgICAgICAKICAgICAgICAKICAgICAgICAgICAgCgogICAgICAgICAgICB2YXIgY2lyY2xlX21hcmtlcl82ZWZmZGUxN2Y4NTQ0MjNhODNlZTNjM2YyZjNiNTIwOCA9IEwuY2lyY2xlKAogICAgICAgICAgICAgICAgWy0zMy40MTYwMDg3LC03MC41NjY4Mzc5XSwKICAgICAgICAgICAgICAgIDIwMCwKICAgICAgICAgICAgICAgIHsKICAgICAgICAgICAgICAgICAgICBjb2xvcjogJ3JnYmEoMjU1LDAsMCwwLjc1KScsCiAgICAgICAgICAgICAgICAgICAgZmlsbENvbG9yOiAncmdiYSgyNTUsMCwwLDAuNzUpJywKICAgICAgICAgICAgICAgICAgICBmaWxsT3BhY2l0eTogMC42CiAgICAgICAgICAgICAgICAgICAgfQogICAgICAgICAgICAgICAgKQogICAgICAgICAgICAgICAgLmFkZFRvKG1hcF83MWY2ZjEyMzE5Y2Q0NjRmODYwMWE3ZGQxYWFkNmRiMSk7CiAgICAgICAgICAgIAogICAgICAgIAogICAgICAgICAgICAKCiAgICAgICAgICAgIHZhciBjaXJjbGVfbWFya2VyXzA1Nzk0YjJiMDljYzRiMjg5ZGIwYjE3NGQzNWI4NjgxID0gTC5jaXJjbGUoCiAgICAgICAgICAgICAgICBbLTMzLjQzMTE1ODEsLTcwLjYwMjU2NTRdLAogICAgICAgICAgICAgICAgMjAwLAogICAgICAgICAgICAgICAgewogICAgICAgICAgICAgICAgICAgIGNvbG9yOiAncmdiYSgyNTUsMCwwLDAuNzUpJywKICAgICAgICAgICAgICAgICAgICBmaWxsQ29sb3I6ICdyZ2JhKDI1NSwwLDAsMC43NSknLAogICAgICAgICAgICAgICAgICAgIGZpbGxPcGFjaXR5OiAwLjYKICAgICAgICAgICAgICAgICAgICB9CiAgICAgICAgICAgICAgICApCiAgICAgICAgICAgICAgICAuYWRkVG8obWFwXzcxZjZmMTIzMTljZDQ2NGY4NjAxYTdkZDFhYWQ2ZGIxKTsKICAgICAgICAgICAgCiAgICAgICAgCiAgICAgICAgICAgIAoKICAgICAgICAgICAgdmFyIGNpcmNsZV9tYXJrZXJfNDY0OGMxNTM1MDZjNDQyNWE0OTZkYTIzODU4ZjI1NzkgPSBMLmNpcmNsZSgKICAgICAgICAgICAgICAgIFstMzMuNDA3ODI2NiwtNzAuNTc1ODgzMl0sCiAgICAgICAgICAgICAgICAyMDAsCiAgICAgICAgICAgICAgICB7CiAgICAgICAgICAgICAgICAgICAgY29sb3I6ICdyZ2JhKDI1NSwwLDAsMC43NSknLAogICAgICAgICAgICAgICAgICAgIGZpbGxDb2xvcjogJ3JnYmEoMjU1LDAsMCwwLjc1KScsCiAgICAgICAgICAgICAgICAgICAgZmlsbE9wYWNpdHk6IDAuNgogICAgICAgICAgICAgICAgICAgIH0KICAgICAgICAgICAgICAgICkKICAgICAgICAgICAgICAgIC5hZGRUbyhtYXBfNzFmNmYxMjMxOWNkNDY0Zjg2MDFhN2RkMWFhZDZkYjEpOwogICAgICAgICAgICAKICAgICAgICAKICAgICAgICAgICAgCgogICAgICAgICAgICB2YXIgY2lyY2xlX21hcmtlcl9kOTEyYTkzNTg0NGE0NTA3OWRkY2Y5NGFjN2M0Yzg2ZiA9IEwuY2lyY2xlKAogICAgICAgICAgICAgICAgWy0zMy4zNjA4MzY5LC03MC41MjczNDY1XSwKICAgICAgICAgICAgICAgIDIwMCwKICAgICAgICAgICAgICAgIHsKICAgICAgICAgICAgICAgICAgICBjb2xvcjogJ3JnYmEoMjU1LDAsMCwwLjc1KScsCiAgICAgICAgICAgICAgICAgICAgZmlsbENvbG9yOiAncmdiYSgyNTUsMCwwLDAuNzUpJywKICAgICAgICAgICAgICAgICAgICBmaWxsT3BhY2l0eTogMC42CiAgICAgICAgICAgICAgICAgICAgfQogICAgICAgICAgICAgICAgKQogICAgICAgICAgICAgICAgLmFkZFRvKG1hcF83MWY2ZjEyMzE5Y2Q0NjRmODYwMWE3ZGQxYWFkNmRiMSk7CiAgICAgICAgICAgIAogICAgICAgIAogICAgICAgICAgICAKCiAgICAgICAgICAgIHZhciBjaXJjbGVfbWFya2VyXzllY2YxZTczODE5NjQ0YjVhZTQ1ZTdjMzMzMTNmODVlID0gTC5jaXJjbGUoCiAgICAgICAgICAgICAgICBbLTMzLjM4OTI1NDEsLTcwLjU4ODQzNDddLAogICAgICAgICAgICAgICAgMjAwLAogICAgICAgICAgICAgICAgewogICAgICAgICAgICAgICAgICAgIGNvbG9yOiAncmdiYSgyNTUsMCwwLDAuNzUpJywKICAgICAgICAgICAgICAgICAgICBmaWxsQ29sb3I6ICdyZ2JhKDI1NSwwLDAsMC43NSknLAogICAgICAgICAgICAgICAgICAgIGZpbGxPcGFjaXR5OiAwLjYKICAgICAgICAgICAgICAgICAgICB9CiAgICAgICAgICAgICAgICApCiAgICAgICAgICAgICAgICAuYWRkVG8obWFwXzcxZjZmMTIzMTljZDQ2NGY4NjAxYTdkZDFhYWQ2ZGIxKTsKICAgICAgICAgICAgCiAgICAgICAgCiAgICAgICAgICAgIAoKICAgICAgICAgICAgdmFyIGNpcmNsZV9tYXJrZXJfMjZkZDVhY2Y2NTk3NGQxYjhmOTE5MzRkZGEyNDMyMjAgPSBMLmNpcmNsZSgKICAgICAgICAgICAgICAgIFstMzMuNDE0MzExOCwtNzAuNTkzNTM4NF0sCiAgICAgICAgICAgICAgICAyMDAsCiAgICAgICAgICAgICAgICB7CiAgICAgICAgICAgICAgICAgICAgY29sb3I6ICdyZ2JhKDI1NSwwLDAsMC43NSknLAogICAgICAgICAgICAgICAgICAgIGZpbGxDb2xvcjogJ3JnYmEoMjU1LDAsMCwwLjc1KScsCiAgICAgICAgICAgICAgICAgICAgZmlsbE9wYWNpdHk6IDAuNgogICAgICAgICAgICAgICAgICAgIH0KICAgICAgICAgICAgICAgICkKICAgICAgICAgICAgICAgIC5hZGRUbyhtYXBfNzFmNmYxMjMxOWNkNDY0Zjg2MDFhN2RkMWFhZDZkYjEpOwogICAgICAgICAgICAKICAgICAgICAKICAgICAgICAgICAgCgogICAgICAgICAgICB2YXIgY2lyY2xlX21hcmtlcl9lMTU3NWU5NjU0ZTg0MWVkYTFkOGY2NDc5YzI4Nzc3NyA9IEwuY2lyY2xlKAogICAgICAgICAgICAgICAgWy0zMy40NDM4MjY0LC03MC42MTczMDcxXSwKICAgICAgICAgICAgICAgIDIwMCwKICAgICAgICAgICAgICAgIHsKICAgICAgICAgICAgICAgICAgICBjb2xvcjogJ3JnYmEoMjU1LDAsMCwwLjc1KScsCiAgICAgICAgICAgICAgICAgICAgZmlsbENvbG9yOiAncmdiYSgyNTUsMCwwLDAuNzUpJywKICAgICAgICAgICAgICAgICAgICBmaWxsT3BhY2l0eTogMC42CiAgICAgICAgICAgICAgICAgICAgfQogICAgICAgICAgICAgICAgKQogICAgICAgICAgICAgICAgLmFkZFRvKG1hcF83MWY2ZjEyMzE5Y2Q0NjRmODYwMWE3ZGQxYWFkNmRiMSk7CiAgICAgICAgICAgIAogICAgICAgIAogICAgICAgICAgICAKCiAgICAgICAgICAgIHZhciBjaXJjbGVfbWFya2VyXzdhMDQ1NmJhMjYwMjQ4NzZhNDMxNmZlOGRhNTEyZDcxID0gTC5jaXJjbGUoCiAgICAgICAgICAgICAgICBbLTMzLjQyOTM4OTgsLTcwLjYyNzczMjZdLAogICAgICAgICAgICAgICAgMjAwLAogICAgICAgICAgICAgICAgewogICAgICAgICAgICAgICAgICAgIGNvbG9yOiAncmdiYSgyNTUsMCwwLDAuNzUpJywKICAgICAgICAgICAgICAgICAgICBmaWxsQ29sb3I6ICdyZ2JhKDI1NSwwLDAsMC43NSknLAogICAgICAgICAgICAgICAgICAgIGZpbGxPcGFjaXR5OiAwLjYKICAgICAgICAgICAgICAgICAgICB9CiAgICAgICAgICAgICAgICApCiAgICAgICAgICAgICAgICAuYWRkVG8obWFwXzcxZjZmMTIzMTljZDQ2NGY4NjAxYTdkZDFhYWQ2ZGIxKTsKICAgICAgICAgICAgCiAgICAgICAgCiAgICAgICAgICAgIAoKICAgICAgICAgICAgdmFyIGNpcmNsZV9tYXJrZXJfZTBhNGM4NzI4MDYzNDJmZWE5NjJlMDM5M2Y4N2NmM2EgPSBMLmNpcmNsZSgKICAgICAgICAgICAgICAgIFstMzMuMzk5ODUyLC03MC41OTgxODFdLAogICAgICAgICAgICAgICAgMjAwLAogICAgICAgICAgICAgICAgewogICAgICAgICAgICAgICAgICAgIGNvbG9yOiAncmdiYSgyNTUsMCwwLDAuNzUpJywKICAgICAgICAgICAgICAgICAgICBmaWxsQ29sb3I6ICdyZ2JhKDI1NSwwLDAsMC43NSknLAogICAgICAgICAgICAgICAgICAgIGZpbGxPcGFjaXR5OiAwLjYKICAgICAgICAgICAgICAgICAgICB9CiAgICAgICAgICAgICAgICApCiAgICAgICAgICAgICAgICAuYWRkVG8obWFwXzcxZjZmMTIzMTljZDQ2NGY4NjAxYTdkZDFhYWQ2ZGIxKTsKICAgICAgICAgICAgCiAgICAgICAgCiAgICAgICAgICAgIAoKICAgICAgICAgICAgdmFyIGNpcmNsZV9tYXJrZXJfZTFjYzcyNTBmOTJhNGI0YTgxYjA0ZTYxZTU2MzgwOWYgPSBMLmNpcmNsZSgKICAgICAgICAgICAgICAgIFstMzMuMjgyNDA3MiwtNzAuNzM4NDQxOF0sCiAgICAgICAgICAgICAgICAyMDAsCiAgICAgICAgICAgICAgICB7CiAgICAgICAgICAgICAgICAgICAgY29sb3I6ICdyZ2JhKDI1NSwwLDAsMC43NSknLAogICAgICAgICAgICAgICAgICAgIGZpbGxDb2xvcjogJ3JnYmEoMjU1LDAsMCwwLjc1KScsCiAgICAgICAgICAgICAgICAgICAgZmlsbE9wYWNpdHk6IDAuNgogICAgICAgICAgICAgICAgICAgIH0KICAgICAgICAgICAgICAgICkKICAgICAgICAgICAgICAgIC5hZGRUbyhtYXBfNzFmNmYxMjMxOWNkNDY0Zjg2MDFhN2RkMWFhZDZkYjEpOwogICAgICAgICAgICAKICAgICAgICAKICAgICAgICAgICAgCgogICAgICAgICAgICB2YXIgY2lyY2xlX21hcmtlcl9iYmE5NThkNjhkMmM0YjE4ODM1MjIxYTgxZDVhZDA5YyA9IEwuY2lyY2xlKAogICAgICAgICAgICAgICAgWy0zMy4zNjE1Nzk4LC03MC40ODIxOTZdLAogICAgICAgICAgICAgICAgMjAwLAogICAgICAgICAgICAgICAgewogICAgICAgICAgICAgICAgICAgIGNvbG9yOiAncmdiYSgyNTUsMCwwLDAuNzUpJywKICAgICAgICAgICAgICAgICAgICBmaWxsQ29sb3I6ICdyZ2JhKDI1NSwwLDAsMC43NSknLAogICAgICAgICAgICAgICAgICAgIGZpbGxPcGFjaXR5OiAwLjYKICAgICAgICAgICAgICAgICAgICB9CiAgICAgICAgICAgICAgICApCiAgICAgICAgICAgICAgICAuYWRkVG8obWFwXzcxZjZmMTIzMTljZDQ2NGY4NjAxYTdkZDFhYWQ2ZGIxKTsKICAgICAgICAgICAgCiAgICAgICAgCiAgICAgICAgICAgIAoKICAgICAgICAgICAgdmFyIGNpcmNsZV9tYXJrZXJfMTFhNWJkNzI4OGRmNDIxZGI4MjQ5ZDk4ZDljYzgwMTEgPSBMLmNpcmNsZSgKICAgICAgICAgICAgICAgIFstMzMuNDQwMDA4OSwtNzAuNTQ4MzU0NV0sCiAgICAgICAgICAgICAgICAyMDAsCiAgICAgICAgICAgICAgICB7CiAgICAgICAgICAgICAgICAgICAgY29sb3I6ICdyZ2JhKDI1NSwwLDAsMC43NSknLAogICAgICAgICAgICAgICAgICAgIGZpbGxDb2xvcjogJ3JnYmEoMjU1LDAsMCwwLjc1KScsCiAgICAgICAgICAgICAgICAgICAgZmlsbE9wYWNpdHk6IDAuNgogICAgICAgICAgICAgICAgICAgIH0KICAgICAgICAgICAgICAgICkKICAgICAgICAgICAgICAgIC5hZGRUbyhtYXBfNzFmNmYxMjMxOWNkNDY0Zjg2MDFhN2RkMWFhZDZkYjEpOwogICAgICAgICAgICAKICAgICAgICAKICAgICAgICAgICAgCgogICAgICAgICAgICB2YXIgY2lyY2xlX21hcmtlcl83MzkwNTFhZDQ4OGM0MjEwODUzOTQ0ZDEyN2E3OGJlOSA9IEwuY2lyY2xlKAogICAgICAgICAgICAgICAgWy0zMy40MDg3ODQ0LC03MC41NjcwNjldLAogICAgICAgICAgICAgICAgMjAwLAogICAgICAgICAgICAgICAgewogICAgICAgICAgICAgICAgICAgIGNvbG9yOiAncmdiYSgyNTUsMCwwLDAuNzUpJywKICAgICAgICAgICAgICAgICAgICBmaWxsQ29sb3I6ICdyZ2JhKDI1NSwwLDAsMC43NSknLAogICAgICAgICAgICAgICAgICAgIGZpbGxPcGFjaXR5OiAwLjYKICAgICAgICAgICAgICAgICAgICB9CiAgICAgICAgICAgICAgICApCiAgICAgICAgICAgICAgICAuYWRkVG8obWFwXzcxZjZmMTIzMTljZDQ2NGY4NjAxYTdkZDFhYWQ2ZGIxKTsKICAgICAgICAgICAgCiAgICAgICAgCiAgICAgICAgICAgIAoKICAgICAgICAgICAgdmFyIGNpcmNsZV9tYXJrZXJfYWJmNjg4M2QwNGYzNDRiNjhiNDRlZmViNjE5NjkzZGMgPSBMLmNpcmNsZSgKICAgICAgICAgICAgICAgIFstMzMuMzI5MTczMiwtNzAuNzAyMDA5Ml0sCiAgICAgICAgICAgICAgICAyMDAsCiAgICAgICAgICAgICAgICB7CiAgICAgICAgICAgICAgICAgICAgY29sb3I6ICdyZ2JhKDI1NSwwLDAsMC43NSknLAogICAgICAgICAgICAgICAgICAgIGZpbGxDb2xvcjogJ3JnYmEoMjU1LDAsMCwwLjc1KScsCiAgICAgICAgICAgICAgICAgICAgZmlsbE9wYWNpdHk6IDAuNgogICAgICAgICAgICAgICAgICAgIH0KICAgICAgICAgICAgICAgICkKICAgICAgICAgICAgICAgIC5hZGRUbyhtYXBfNzFmNmYxMjMxOWNkNDY0Zjg2MDFhN2RkMWFhZDZkYjEpOwogICAgICAgICAgICAKICAgICAgICAKICAgICAgICAgICAgCgogICAgICAgICAgICB2YXIgY2lyY2xlX21hcmtlcl9lMWEyN2U5OTVhYmM0YTEyOGMzM2IwN2VhMGRlY2FiMSA9IEwuY2lyY2xlKAogICAgICAgICAgICAgICAgWy0zMy40MTUxODMyLC03MC42MDA2ODA2XSwKICAgICAgICAgICAgICAgIDIwMCwKICAgICAgICAgICAgICAgIHsKICAgICAgICAgICAgICAgICAgICBjb2xvcjogJ3JnYmEoMjU1LDAsMCwwLjc1KScsCiAgICAgICAgICAgICAgICAgICAgZmlsbENvbG9yOiAncmdiYSgyNTUsMCwwLDAuNzUpJywKICAgICAgICAgICAgICAgICAgICBmaWxsT3BhY2l0eTogMC42CiAgICAgICAgICAgICAgICAgICAgfQogICAgICAgICAgICAgICAgKQogICAgICAgICAgICAgICAgLmFkZFRvKG1hcF83MWY2ZjEyMzE5Y2Q0NjRmODYwMWE3ZGQxYWFkNmRiMSk7CiAgICAgICAgICAgIAogICAgICAgIAogICAgICAgICAgICAKCiAgICAgICAgICAgIHZhciBjaXJjbGVfbWFya2VyXzI0Y2ZlODViNWRkYjRiMGFiZjliYWFiMjE3MGRlY2U1ID0gTC5jaXJjbGUoCiAgICAgICAgICAgICAgICBbLTMzLjM3NjkwNDIsLTcwLjU4MzI0NzVdLAogICAgICAgICAgICAgICAgMjAwLAogICAgICAgICAgICAgICAgewogICAgICAgICAgICAgICAgICAgIGNvbG9yOiAncmdiYSgyNTUsMCwwLDAuNzUpJywKICAgICAgICAgICAgICAgICAgICBmaWxsQ29sb3I6ICdyZ2JhKDI1NSwwLDAsMC43NSknLAogICAgICAgICAgICAgICAgICAgIGZpbGxPcGFjaXR5OiAwLjYKICAgICAgICAgICAgICAgICAgICB9CiAgICAgICAgICAgICAgICApCiAgICAgICAgICAgICAgICAuYWRkVG8obWFwXzcxZjZmMTIzMTljZDQ2NGY4NjAxYTdkZDFhYWQ2ZGIxKTsKICAgICAgICAgICAgCiAgICAgICAgCiAgICAgICAgICAgIAoKICAgICAgICAgICAgdmFyIGNpcmNsZV9tYXJrZXJfOWIxODE3ZmI1ZDRkNDk1MGFhN2U0Mzk4YmVjNTgxOGYgPSBMLmNpcmNsZSgKICAgICAgICAgICAgICAgIFstMzMuNDIzNTc4OCwtNzAuNTc3NjcxN10sCiAgICAgICAgICAgICAgICAyMDAsCiAgICAgICAgICAgICAgICB7CiAgICAgICAgICAgICAgICAgICAgY29sb3I6ICdyZ2JhKDI1NSwwLDAsMC43NSknLAogICAgICAgICAgICAgICAgICAgIGZpbGxDb2xvcjogJ3JnYmEoMjU1LDAsMCwwLjc1KScsCiAgICAgICAgICAgICAgICAgICAgZmlsbE9wYWNpdHk6IDAuNgogICAgICAgICAgICAgICAgICAgIH0KICAgICAgICAgICAgICAgICkKICAgICAgICAgICAgICAgIC5hZGRUbyhtYXBfNzFmNmYxMjMxOWNkNDY0Zjg2MDFhN2RkMWFhZDZkYjEpOwogICAgICAgICAgICAKICAgICAgICAKICAgICAgICAgICAgCgogICAgICAgICAgICB2YXIgY2lyY2xlX21hcmtlcl8zZjQyZmY3NDU1OTI0NjViYmI5NTUxNjU1ZjYzZDlmZiA9IEwuY2lyY2xlKAogICAgICAgICAgICAgICAgWy0zMy4zODc0MjE5LC03MC41NTEzNV0sCiAgICAgICAgICAgICAgICAyMDAsCiAgICAgICAgICAgICAgICB7CiAgICAgICAgICAgICAgICAgICAgY29sb3I6ICdyZ2JhKDI1NSwwLDAsMC43NSknLAogICAgICAgICAgICAgICAgICAgIGZpbGxDb2xvcjogJ3JnYmEoMjU1LDAsMCwwLjc1KScsCiAgICAgICAgICAgICAgICAgICAgZmlsbE9wYWNpdHk6IDAuNgogICAgICAgICAgICAgICAgICAgIH0KICAgICAgICAgICAgICAgICkKICAgICAgICAgICAgICAgIC5hZGRUbyhtYXBfNzFmNmYxMjMxOWNkNDY0Zjg2MDFhN2RkMWFhZDZkYjEpOwogICAgICAgICAgICAKICAgICAgICAKICAgICAgICAgICAgCgogICAgICAgICAgICB2YXIgY2lyY2xlX21hcmtlcl81Y2EwZjNiYzRkYjc0YzhiOTViYWQ5MmJmYzc0NzM1NyA9IEwuY2lyY2xlKAogICAgICAgICAgICAgICAgWy0zMy4zOTQzOTI5LC03MC41OTI5MjI4XSwKICAgICAgICAgICAgICAgIDIwMCwKICAgICAgICAgICAgICAgIHsKICAgICAgICAgICAgICAgICAgICBjb2xvcjogJ3JnYmEoMjU1LDAsMCwwLjc1KScsCiAgICAgICAgICAgICAgICAgICAgZmlsbENvbG9yOiAncmdiYSgyNTUsMCwwLDAuNzUpJywKICAgICAgICAgICAgICAgICAgICBmaWxsT3BhY2l0eTogMC42CiAgICAgICAgICAgICAgICAgICAgfQogICAgICAgICAgICAgICAgKQogICAgICAgICAgICAgICAgLmFkZFRvKG1hcF83MWY2ZjEyMzE5Y2Q0NjRmODYwMWE3ZGQxYWFkNmRiMSk7CiAgICAgICAgICAgIAogICAgICAgIAogICAgICAgICAgICAKCiAgICAgICAgICAgIHZhciBjaXJjbGVfbWFya2VyXzUyZjYyNTRmMjQ2NzQzYzQ4ZDE1NTY2MTc4OGIxMzFlID0gTC5jaXJjbGUoCiAgICAgICAgICAgICAgICBbLTMzLjQxNDMxMTgsLTcwLjU5MzUzODRdLAogICAgICAgICAgICAgICAgMjAwLAogICAgICAgICAgICAgICAgewogICAgICAgICAgICAgICAgICAgIGNvbG9yOiAncmdiYSgyNTUsMCwwLDAuNzUpJywKICAgICAgICAgICAgICAgICAgICBmaWxsQ29sb3I6ICdyZ2JhKDI1NSwwLDAsMC43NSknLAogICAgICAgICAgICAgICAgICAgIGZpbGxPcGFjaXR5OiAwLjYKICAgICAgICAgICAgICAgICAgICB9CiAgICAgICAgICAgICAgICApCiAgICAgICAgICAgICAgICAuYWRkVG8obWFwXzcxZjZmMTIzMTljZDQ2NGY4NjAxYTdkZDFhYWQ2ZGIxKTsKICAgICAgICAgICAgCiAgICAgICAgCiAgICAgICAgICAgIAoKICAgICAgICAgICAgdmFyIGNpcmNsZV9tYXJrZXJfYmJmZmYzNzk5NGVkNDJlNGE4MDNhNThlYjFiYjQxMGEgPSBMLmNpcmNsZSgKICAgICAgICAgICAgICAgIFstMzMuNDMxNDQ3NCwtNzAuNjA5MzMyNV0sCiAgICAgICAgICAgICAgICAyMDAsCiAgICAgICAgICAgICAgICB7CiAgICAgICAgICAgICAgICAgICAgY29sb3I6ICdyZ2JhKDI1NSwwLDAsMC43NSknLAogICAgICAgICAgICAgICAgICAgIGZpbGxDb2xvcjogJ3JnYmEoMjU1LDAsMCwwLjc1KScsCiAgICAgICAgICAgICAgICAgICAgZmlsbE9wYWNpdHk6IDAuNgogICAgICAgICAgICAgICAgICAgIH0KICAgICAgICAgICAgICAgICkKICAgICAgICAgICAgICAgIC5hZGRUbyhtYXBfNzFmNmYxMjMxOWNkNDY0Zjg2MDFhN2RkMWFhZDZkYjEpOwogICAgICAgICAgICAKICAgICAgICAKICAgICAgICAgICAgCgogICAgICAgICAgICB2YXIgY2lyY2xlX21hcmtlcl84NjkxODQ4NDBiYzA0YzM3YmFhYzM2ODY4MTg3NzA0NCA9IEwuY2lyY2xlKAogICAgICAgICAgICAgICAgWy0zMy40MTE5NzksLTcwLjUzNDk0NDldLAogICAgICAgICAgICAgICAgMjAwLAogICAgICAgICAgICAgICAgewogICAgICAgICAgICAgICAgICAgIGNvbG9yOiAncmdiYSgyNTUsMCwwLDAuNzUpJywKICAgICAgICAgICAgICAgICAgICBmaWxsQ29sb3I6ICdyZ2JhKDI1NSwwLDAsMC43NSknLAogICAgICAgICAgICAgICAgICAgIGZpbGxPcGFjaXR5OiAwLjYKICAgICAgICAgICAgICAgICAgICB9CiAgICAgICAgICAgICAgICApCiAgICAgICAgICAgICAgICAuYWRkVG8obWFwXzcxZjZmMTIzMTljZDQ2NGY4NjAxYTdkZDFhYWQ2ZGIxKTsKICAgICAgICAgICAgCiAgICAgICAgCiAgICAgICAgICAgIAoKICAgICAgICAgICAgdmFyIGNpcmNsZV9tYXJrZXJfODQ5ZTBhZjcyZTY0NDc3ZDlmNjc1ODA5NWM1ZGIwOTAgPSBMLmNpcmNsZSgKICAgICAgICAgICAgICAgIFstMzMuNTE4OTM4LC03MC43NjY4NjQ3XSwKICAgICAgICAgICAgICAgIDIwMCwKICAgICAgICAgICAgICAgIHsKICAgICAgICAgICAgICAgICAgICBjb2xvcjogJ3JnYmEoMjU1LDAsMCwwLjc1KScsCiAgICAgICAgICAgICAgICAgICAgZmlsbENvbG9yOiAncmdiYSgyNTUsMCwwLDAuNzUpJywKICAgICAgICAgICAgICAgICAgICBmaWxsT3BhY2l0eTogMC42CiAgICAgICAgICAgICAgICAgICAgfQogICAgICAgICAgICAgICAgKQogICAgICAgICAgICAgICAgLmFkZFRvKG1hcF83MWY2ZjEyMzE5Y2Q0NjRmODYwMWE3ZGQxYWFkNmRiMSk7CiAgICAgICAgICAgIAogICAgICAgIAogICAgICAgICAgICAKCiAgICAgICAgICAgIHZhciBjaXJjbGVfbWFya2VyX2UzNDY1ZmUwMzU3YTQ5NjQ5NGUyODk3YTg5ODJhNWFiID0gTC5jaXJjbGUoCiAgICAgICAgICAgICAgICBbLTMzLjQwODc4NDQsLTcwLjU2NzA2OV0sCiAgICAgICAgICAgICAgICAyMDAsCiAgICAgICAgICAgICAgICB7CiAgICAgICAgICAgICAgICAgICAgY29sb3I6ICdyZ2JhKDI1NSwwLDAsMC43NSknLAogICAgICAgICAgICAgICAgICAgIGZpbGxDb2xvcjogJ3JnYmEoMjU1LDAsMCwwLjc1KScsCiAgICAgICAgICAgICAgICAgICAgZmlsbE9wYWNpdHk6IDAuNgogICAgICAgICAgICAgICAgICAgIH0KICAgICAgICAgICAgICAgICkKICAgICAgICAgICAgICAgIC5hZGRUbyhtYXBfNzFmNmYxMjMxOWNkNDY0Zjg2MDFhN2RkMWFhZDZkYjEpOwogICAgICAgICAgICAKICAgICAgICAKICAgICAgICAgICAgCgogICAgICAgICAgICB2YXIgY2lyY2xlX21hcmtlcl9jZjEwM2M5YThkNjY0NGYyODcxMDljYzAxNzRiNzhiZSA9IEwuY2lyY2xlKAogICAgICAgICAgICAgICAgWy0zMy40MDA0MDU3LC03MC41MjkwNTM3XSwKICAgICAgICAgICAgICAgIDIwMCwKICAgICAgICAgICAgICAgIHsKICAgICAgICAgICAgICAgICAgICBjb2xvcjogJ3JnYmEoMjU1LDAsMCwwLjc1KScsCiAgICAgICAgICAgICAgICAgICAgZmlsbENvbG9yOiAncmdiYSgyNTUsMCwwLDAuNzUpJywKICAgICAgICAgICAgICAgICAgICBmaWxsT3BhY2l0eTogMC42CiAgICAgICAgICAgICAgICAgICAgfQogICAgICAgICAgICAgICAgKQogICAgICAgICAgICAgICAgLmFkZFRvKG1hcF83MWY2ZjEyMzE5Y2Q0NjRmODYwMWE3ZGQxYWFkNmRiMSk7CiAgICAgICAgICAgIAogICAgICAgIAogICAgICAgICAgICAKCiAgICAgICAgICAgIHZhciBjaXJjbGVfbWFya2VyX2JjMjc1MWYzYWMxMzRiOGFiYjAyNDBmZjc5NTEyOWJiID0gTC5jaXJjbGUoCiAgICAgICAgICAgICAgICBbLTMzLjQyMzgzMjksLTcwLjYyMjQ0MjVdLAogICAgICAgICAgICAgICAgMjAwLAogICAgICAgICAgICAgICAgewogICAgICAgICAgICAgICAgICAgIGNvbG9yOiAncmdiYSgyNTUsMCwwLDAuNzUpJywKICAgICAgICAgICAgICAgICAgICBmaWxsQ29sb3I6ICdyZ2JhKDI1NSwwLDAsMC43NSknLAogICAgICAgICAgICAgICAgICAgIGZpbGxPcGFjaXR5OiAwLjYKICAgICAgICAgICAgICAgICAgICB9CiAgICAgICAgICAgICAgICApCiAgICAgICAgICAgICAgICAuYWRkVG8obWFwXzcxZjZmMTIzMTljZDQ2NGY4NjAxYTdkZDFhYWQ2ZGIxKTsKICAgICAgICAgICAgCiAgICAgICAgCiAgICAgICAgICAgIAoKICAgICAgICAgICAgdmFyIGNpcmNsZV9tYXJrZXJfMTM3ZDYwOWJmMGE0NGIzOTlmZWNjNjJjM2U2OTE0NWUgPSBMLmNpcmNsZSgKICAgICAgICAgICAgICAgIFstMzMuNDE2ODE1NywtNzAuNTk4NTI5OF0sCiAgICAgICAgICAgICAgICAyMDAsCiAgICAgICAgICAgICAgICB7CiAgICAgICAgICAgICAgICAgICAgY29sb3I6ICdyZ2JhKDI1NSwwLDAsMC43NSknLAogICAgICAgICAgICAgICAgICAgIGZpbGxDb2xvcjogJ3JnYmEoMjU1LDAsMCwwLjc1KScsCiAgICAgICAgICAgICAgICAgICAgZmlsbE9wYWNpdHk6IDAuNgogICAgICAgICAgICAgICAgICAgIH0KICAgICAgICAgICAgICAgICkKICAgICAgICAgICAgICAgIC5hZGRUbyhtYXBfNzFmNmYxMjMxOWNkNDY0Zjg2MDFhN2RkMWFhZDZkYjEpOwogICAgICAgICAgICAKICAgICAgICAKICAgICAgICAgICAgCgogICAgICAgICAgICB2YXIgY2lyY2xlX21hcmtlcl84YzA4ZjJhOGMxODc0MzUxOTQ1OWQ3ODgyOTdkZTYzYyA9IEwuY2lyY2xlKAogICAgICAgICAgICAgICAgWy0zMy4zNzQwNjgzLC03MC41NDcwODg0XSwKICAgICAgICAgICAgICAgIDIwMCwKICAgICAgICAgICAgICAgIHsKICAgICAgICAgICAgICAgICAgICBjb2xvcjogJ3JnYmEoMjU1LDAsMCwwLjc1KScsCiAgICAgICAgICAgICAgICAgICAgZmlsbENvbG9yOiAncmdiYSgyNTUsMCwwLDAuNzUpJywKICAgICAgICAgICAgICAgICAgICBmaWxsT3BhY2l0eTogMC42CiAgICAgICAgICAgICAgICAgICAgfQogICAgICAgICAgICAgICAgKQogICAgICAgICAgICAgICAgLmFkZFRvKG1hcF83MWY2ZjEyMzE5Y2Q0NjRmODYwMWE3ZGQxYWFkNmRiMSk7CiAgICAgICAgICAgIAogICAgICAgIAogICAgICAgICAgICAKCiAgICAgICAgICAgIHZhciBjaXJjbGVfbWFya2VyXzA4NjA5M2Y3NGUyZTQzZmI5M2VkYWI4MGIyYTg4MjYzID0gTC5jaXJjbGUoCiAgICAgICAgICAgICAgICBbLTMzLjQ0MDU3NzYsLTcwLjY0NTMxMDddLAogICAgICAgICAgICAgICAgMjAwLAogICAgICAgICAgICAgICAgewogICAgICAgICAgICAgICAgICAgIGNvbG9yOiAncmdiYSgyNTUsMCwwLDAuNzUpJywKICAgICAgICAgICAgICAgICAgICBmaWxsQ29sb3I6ICdyZ2JhKDI1NSwwLDAsMC43NSknLAogICAgICAgICAgICAgICAgICAgIGZpbGxPcGFjaXR5OiAwLjYKICAgICAgICAgICAgICAgICAgICB9CiAgICAgICAgICAgICAgICApCiAgICAgICAgICAgICAgICAuYWRkVG8obWFwXzcxZjZmMTIzMTljZDQ2NGY4NjAxYTdkZDFhYWQ2ZGIxKTsKICAgICAgICAgICAgCiAgICAgICAgCiAgICAgICAgICAgIAoKICAgICAgICAgICAgdmFyIGNpcmNsZV9tYXJrZXJfY2I4MzE5MmE3N2FjNGY4NTgyZjAxMWVhYmRiYWE2MDEgPSBMLmNpcmNsZSgKICAgICAgICAgICAgICAgIFstMzMuMzU5NDg2MSwtNzAuNDgyNTkzMl0sCiAgICAgICAgICAgICAgICAyMDAsCiAgICAgICAgICAgICAgICB7CiAgICAgICAgICAgICAgICAgICAgY29sb3I6ICdyZ2JhKDI1NSwwLDAsMC43NSknLAogICAgICAgICAgICAgICAgICAgIGZpbGxDb2xvcjogJ3JnYmEoMjU1LDAsMCwwLjc1KScsCiAgICAgICAgICAgICAgICAgICAgZmlsbE9wYWNpdHk6IDAuNgogICAgICAgICAgICAgICAgICAgIH0KICAgICAgICAgICAgICAgICkKICAgICAgICAgICAgICAgIC5hZGRUbyhtYXBfNzFmNmYxMjMxOWNkNDY0Zjg2MDFhN2RkMWFhZDZkYjEpOwogICAgICAgICAgICAKICAgICAgICAKICAgICAgICAgICAgCgogICAgICAgICAgICB2YXIgY2lyY2xlX21hcmtlcl8zNDdlMGMzNDg1Mzk0MzNhOTU3ZmE1YTVjOWNhZWM1ZSA9IEwuY2lyY2xlKAogICAgICAgICAgICAgICAgWy0zMy4zNzU4Mzk0LC03MC41NzczNzA2XSwKICAgICAgICAgICAgICAgIDIwMCwKICAgICAgICAgICAgICAgIHsKICAgICAgICAgICAgICAgICAgICBjb2xvcjogJ3JnYmEoMjU1LDAsMCwwLjc1KScsCiAgICAgICAgICAgICAgICAgICAgZmlsbENvbG9yOiAncmdiYSgyNTUsMCwwLDAuNzUpJywKICAgICAgICAgICAgICAgICAgICBmaWxsT3BhY2l0eTogMC42CiAgICAgICAgICAgICAgICAgICAgfQogICAgICAgICAgICAgICAgKQogICAgICAgICAgICAgICAgLmFkZFRvKG1hcF83MWY2ZjEyMzE5Y2Q0NjRmODYwMWE3ZGQxYWFkNmRiMSk7CiAgICAgICAgICAgIAogICAgICAgIAogICAgICAgICAgICAKCiAgICAgICAgICAgIHZhciBjaXJjbGVfbWFya2VyXzlkY2Q5ZjkyMmEzZTRhMjhhNjU2ODhkNThmOTNlMWRiID0gTC5jaXJjbGUoCiAgICAgICAgICAgICAgICBbLTMzLjQxODYxMDcsLTcwLjU5MTk2OTNdLAogICAgICAgICAgICAgICAgMjAwLAogICAgICAgICAgICAgICAgewogICAgICAgICAgICAgICAgICAgIGNvbG9yOiAncmdiYSgyNTUsMCwwLDAuNzUpJywKICAgICAgICAgICAgICAgICAgICBmaWxsQ29sb3I6ICdyZ2JhKDI1NSwwLDAsMC43NSknLAogICAgICAgICAgICAgICAgICAgIGZpbGxPcGFjaXR5OiAwLjYKICAgICAgICAgICAgICAgICAgICB9CiAgICAgICAgICAgICAgICApCiAgICAgICAgICAgICAgICAuYWRkVG8obWFwXzcxZjZmMTIzMTljZDQ2NGY4NjAxYTdkZDFhYWQ2ZGIxKTsKICAgICAgICAgICAgCiAgICAgICAgCiAgICAgICAgICAgIAoKICAgICAgICAgICAgdmFyIGNpcmNsZV9tYXJrZXJfNDM4ZjgzYWViYjFhNDhjMzk1ZmM0NDFjMzQ0ZWM4ZGIgPSBMLmNpcmNsZSgKICAgICAgICAgICAgICAgIFstMzMuNTQ1MzA1LC03MC42NzQ2MzcxXSwKICAgICAgICAgICAgICAgIDIwMCwKICAgICAgICAgICAgICAgIHsKICAgICAgICAgICAgICAgICAgICBjb2xvcjogJ3JnYmEoMjU1LDAsMCwwLjc1KScsCiAgICAgICAgICAgICAgICAgICAgZmlsbENvbG9yOiAncmdiYSgyNTUsMCwwLDAuNzUpJywKICAgICAgICAgICAgICAgICAgICBmaWxsT3BhY2l0eTogMC42CiAgICAgICAgICAgICAgICAgICAgfQogICAgICAgICAgICAgICAgKQogICAgICAgICAgICAgICAgLmFkZFRvKG1hcF83MWY2ZjEyMzE5Y2Q0NjRmODYwMWE3ZGQxYWFkNmRiMSk7CiAgICAgICAgICAgIAogICAgICAgIAogICAgICAgICAgICAKCiAgICAgICAgICAgIHZhciBjaXJjbGVfbWFya2VyX2YzZTY4Y2I0ZjhlYjQ5NGNiYWNjYmJhNDA0Y2FlODZlID0gTC5jaXJjbGUoCiAgICAgICAgICAgICAgICBbLTMzLjQyMDIyNjgsLTcwLjYwNDEzMDJdLAogICAgICAgICAgICAgICAgMjAwLAogICAgICAgICAgICAgICAgewogICAgICAgICAgICAgICAgICAgIGNvbG9yOiAncmdiYSgyNTUsMCwwLDAuNzUpJywKICAgICAgICAgICAgICAgICAgICBmaWxsQ29sb3I6ICdyZ2JhKDI1NSwwLDAsMC43NSknLAogICAgICAgICAgICAgICAgICAgIGZpbGxPcGFjaXR5OiAwLjYKICAgICAgICAgICAgICAgICAgICB9CiAgICAgICAgICAgICAgICApCiAgICAgICAgICAgICAgICAuYWRkVG8obWFwXzcxZjZmMTIzMTljZDQ2NGY4NjAxYTdkZDFhYWQ2ZGIxKTsKICAgICAgICAgICAgCiAgICAgICAgCiAgICAgICAgICAgIAoKICAgICAgICAgICAgdmFyIGNpcmNsZV9tYXJrZXJfNjc2ZTVhMWU2NDk1NGM1MmJhOWQ1YmFhMDA1MmU4OTggPSBMLmNpcmNsZSgKICAgICAgICAgICAgICAgIFstMzMuNDU1NjkxNSwtNzAuNjA0NDkwN10sCiAgICAgICAgICAgICAgICAyMDAsCiAgICAgICAgICAgICAgICB7CiAgICAgICAgICAgICAgICAgICAgY29sb3I6ICdyZ2JhKDI1NSwwLDAsMC43NSknLAogICAgICAgICAgICAgICAgICAgIGZpbGxDb2xvcjogJ3JnYmEoMjU1LDAsMCwwLjc1KScsCiAgICAgICAgICAgICAgICAgICAgZmlsbE9wYWNpdHk6IDAuNgogICAgICAgICAgICAgICAgICAgIH0KICAgICAgICAgICAgICAgICkKICAgICAgICAgICAgICAgIC5hZGRUbyhtYXBfNzFmNmYxMjMxOWNkNDY0Zjg2MDFhN2RkMWFhZDZkYjEpOwogICAgICAgICAgICAKICAgICAgICAKICAgICAgICAgICAgCgogICAgICAgICAgICB2YXIgY2lyY2xlX21hcmtlcl80NmZhM2Y2ODBlOTQ0YWY0OWM3NGYyOTk3ZmNjMWI5YyA9IEwuY2lyY2xlKAogICAgICAgICAgICAgICAgWy0zMy40MzE1NzQ5LC03MC42MzcwNjM1XSwKICAgICAgICAgICAgICAgIDIwMCwKICAgICAgICAgICAgICAgIHsKICAgICAgICAgICAgICAgICAgICBjb2xvcjogJ3JnYmEoMjU1LDAsMCwwLjc1KScsCiAgICAgICAgICAgICAgICAgICAgZmlsbENvbG9yOiAncmdiYSgyNTUsMCwwLDAuNzUpJywKICAgICAgICAgICAgICAgICAgICBmaWxsT3BhY2l0eTogMC42CiAgICAgICAgICAgICAgICAgICAgfQogICAgICAgICAgICAgICAgKQogICAgICAgICAgICAgICAgLmFkZFRvKG1hcF83MWY2ZjEyMzE5Y2Q0NjRmODYwMWE3ZGQxYWFkNmRiMSk7CiAgICAgICAgICAgIAogICAgICAgIAogICAgICAgICAgICAKCiAgICAgICAgICAgIHZhciBjaXJjbGVfbWFya2VyXzYzMTA2MDg4Njg3NDRkYzFiMGUzMTc4OGJiMjFjMGZiID0gTC5jaXJjbGUoCiAgICAgICAgICAgICAgICBbLTMzLjM4NDU5MTIsLTcwLjUzNDU4NF0sCiAgICAgICAgICAgICAgICAyMDAsCiAgICAgICAgICAgICAgICB7CiAgICAgICAgICAgICAgICAgICAgY29sb3I6ICdyZ2JhKDI1NSwwLDAsMC43NSknLAogICAgICAgICAgICAgICAgICAgIGZpbGxDb2xvcjogJ3JnYmEoMjU1LDAsMCwwLjc1KScsCiAgICAgICAgICAgICAgICAgICAgZmlsbE9wYWNpdHk6IDAuNgogICAgICAgICAgICAgICAgICAgIH0KICAgICAgICAgICAgICAgICkKICAgICAgICAgICAgICAgIC5hZGRUbyhtYXBfNzFmNmYxMjMxOWNkNDY0Zjg2MDFhN2RkMWFhZDZkYjEpOwogICAgICAgICAgICAKICAgICAgICAKICAgICAgICAgICAgCgogICAgICAgICAgICB2YXIgY2lyY2xlX21hcmtlcl85N2JkM2VkOWVjOWI0YmU0YmVjNDQ0NWM1YTRkZjJiMyA9IEwuY2lyY2xlKAogICAgICAgICAgICAgICAgWy0zMy40ODEyMjc4LC03MC42MzQxMjMxXSwKICAgICAgICAgICAgICAgIDIwMCwKICAgICAgICAgICAgICAgIHsKICAgICAgICAgICAgICAgICAgICBjb2xvcjogJ3JnYmEoMjU1LDAsMCwwLjc1KScsCiAgICAgICAgICAgICAgICAgICAgZmlsbENvbG9yOiAncmdiYSgyNTUsMCwwLDAuNzUpJywKICAgICAgICAgICAgICAgICAgICBmaWxsT3BhY2l0eTogMC42CiAgICAgICAgICAgICAgICAgICAgfQogICAgICAgICAgICAgICAgKQogICAgICAgICAgICAgICAgLmFkZFRvKG1hcF83MWY2ZjEyMzE5Y2Q0NjRmODYwMWE3ZGQxYWFkNmRiMSk7CiAgICAgICAgICAgIAogICAgICAgIAogICAgICAgICAgICAKCiAgICAgICAgICAgIHZhciBjaXJjbGVfbWFya2VyX2U5NTllY2I2NDgyMTRkODBiYmUzZTJkZGQxY2E4ZmZkID0gTC5jaXJjbGUoCiAgICAgICAgICAgICAgICBbLTMzLjM4OTU2ODcsLTcwLjU0MDg3NjRdLAogICAgICAgICAgICAgICAgMjAwLAogICAgICAgICAgICAgICAgewogICAgICAgICAgICAgICAgICAgIGNvbG9yOiAncmdiYSgyNTUsMCwwLDAuNzUpJywKICAgICAgICAgICAgICAgICAgICBmaWxsQ29sb3I6ICdyZ2JhKDI1NSwwLDAsMC43NSknLAogICAgICAgICAgICAgICAgICAgIGZpbGxPcGFjaXR5OiAwLjYKICAgICAgICAgICAgICAgICAgICB9CiAgICAgICAgICAgICAgICApCiAgICAgICAgICAgICAgICAuYWRkVG8obWFwXzcxZjZmMTIzMTljZDQ2NGY4NjAxYTdkZDFhYWQ2ZGIxKTsKICAgICAgICAgICAgCiAgICAgICAgCiAgICAgICAgICAgIAoKICAgICAgICAgICAgdmFyIGNpcmNsZV9tYXJrZXJfMTU1YmFiNTUxZWFkNDZjNzliMmFmMzQ0ZDVlNWVhNGUgPSBMLmNpcmNsZSgKICAgICAgICAgICAgICAgIFstMzMuNDI3MDAwNCwtNzAuNjEyNTM4NV0sCiAgICAgICAgICAgICAgICAyMDAsCiAgICAgICAgICAgICAgICB7CiAgICAgICAgICAgICAgICAgICAgY29sb3I6ICdyZ2JhKDI1NSwwLDAsMC43NSknLAogICAgICAgICAgICAgICAgICAgIGZpbGxDb2xvcjogJ3JnYmEoMjU1LDAsMCwwLjc1KScsCiAgICAgICAgICAgICAgICAgICAgZmlsbE9wYWNpdHk6IDAuNgogICAgICAgICAgICAgICAgICAgIH0KICAgICAgICAgICAgICAgICkKICAgICAgICAgICAgICAgIC5hZGRUbyhtYXBfNzFmNmYxMjMxOWNkNDY0Zjg2MDFhN2RkMWFhZDZkYjEpOwogICAgICAgICAgICAKICAgICAgICAKICAgICAgICAgICAgCgogICAgICAgICAgICB2YXIgY2lyY2xlX21hcmtlcl9mNmZmNzI5MTg1MmU0NmFmYWM2ODU3N2EzNTEzMDk4MiA9IEwuY2lyY2xlKAogICAgICAgICAgICAgICAgWy0zMy4zODk1Njg3LC03MC41NDA4NzY0XSwKICAgICAgICAgICAgICAgIDIwMCwKICAgICAgICAgICAgICAgIHsKICAgICAgICAgICAgICAgICAgICBjb2xvcjogJ3JnYmEoMjU1LDAsMCwwLjc1KScsCiAgICAgICAgICAgICAgICAgICAgZmlsbENvbG9yOiAncmdiYSgyNTUsMCwwLDAuNzUpJywKICAgICAgICAgICAgICAgICAgICBmaWxsT3BhY2l0eTogMC42CiAgICAgICAgICAgICAgICAgICAgfQogICAgICAgICAgICAgICAgKQogICAgICAgICAgICAgICAgLmFkZFRvKG1hcF83MWY2ZjEyMzE5Y2Q0NjRmODYwMWE3ZGQxYWFkNmRiMSk7CiAgICAgICAgICAgIAogICAgICAgIAogICAgICAgICAgICAKCiAgICAgICAgICAgIHZhciBjaXJjbGVfbWFya2VyXzU4YzhkYzNlNDBkZDRmYTQ5NzA0ODU1MDMxZmI1NzJmID0gTC5jaXJjbGUoCiAgICAgICAgICAgICAgICBbLTMzLjQxMzEyNzQsLTcwLjU5MTM1MTddLAogICAgICAgICAgICAgICAgMjAwLAogICAgICAgICAgICAgICAgewogICAgICAgICAgICAgICAgICAgIGNvbG9yOiAncmdiYSgyNTUsMCwwLDAuNzUpJywKICAgICAgICAgICAgICAgICAgICBmaWxsQ29sb3I6ICdyZ2JhKDI1NSwwLDAsMC43NSknLAogICAgICAgICAgICAgICAgICAgIGZpbGxPcGFjaXR5OiAwLjYKICAgICAgICAgICAgICAgICAgICB9CiAgICAgICAgICAgICAgICApCiAgICAgICAgICAgICAgICAuYWRkVG8obWFwXzcxZjZmMTIzMTljZDQ2NGY4NjAxYTdkZDFhYWQ2ZGIxKTsKICAgICAgICAgICAgCiAgICAgICAgCiAgICAgICAgICAgIAoKICAgICAgICAgICAgdmFyIGNpcmNsZV9tYXJrZXJfYzZlNGYyNjUwNzBiNDFkZmI2MzRjYWVmMzQyNWY5NmIgPSBMLmNpcmNsZSgKICAgICAgICAgICAgICAgIFstMzMuNDE1NDk5MywtNzAuNTk1MzU5M10sCiAgICAgICAgICAgICAgICAyMDAsCiAgICAgICAgICAgICAgICB7CiAgICAgICAgICAgICAgICAgICAgY29sb3I6ICdyZ2JhKDI1NSwwLDAsMC43NSknLAogICAgICAgICAgICAgICAgICAgIGZpbGxDb2xvcjogJ3JnYmEoMjU1LDAsMCwwLjc1KScsCiAgICAgICAgICAgICAgICAgICAgZmlsbE9wYWNpdHk6IDAuNgogICAgICAgICAgICAgICAgICAgIH0KICAgICAgICAgICAgICAgICkKICAgICAgICAgICAgICAgIC5hZGRUbyhtYXBfNzFmNmYxMjMxOWNkNDY0Zjg2MDFhN2RkMWFhZDZkYjEpOwogICAgICAgICAgICAKICAgICAgICAKICAgICAgICAKICAgICAgICA8L3NjcmlwdD4KICAgICAgICA=\" style=\"position:absolute;width:100%;height:100%;left:0;top:0;\"></iframe></div></div>"
      ],
      "text/plain": [
       "<folium.folium.Map at 0x106029890>"
      ]
     },
     "execution_count": 5,
     "metadata": {},
     "output_type": "execute_result"
    }
   ],
   "source": [
    "map = folium.Map(location=[-33.39, -70.57], zoom_start=10, tiles='Stamen Toner')\n",
    "for coord in coords:\n",
    "    lat,lon = coord\n",
    "    map.add_children(folium.CircleMarker([lat,lon],color='rgba(255,0,0,0.75)',\n",
    "                    fill_color='rgba(255,0,0,0.75)', radius=200))\n",
    "# Create and show the map.\n",
    "map.save('panama.html')\n",
    "map"
   ]
  },
  {
   "cell_type": "markdown",
   "metadata": {
    "collapsed": true
   },
   "source": [
    "[panama.html](panama.html)"
   ]
  }
 ],
 "metadata": {
  "kernelspec": {
   "display_name": "Python 2",
   "language": "python",
   "name": "python2"
  },
  "language_info": {
   "codemirror_mode": {
    "name": "ipython",
    "version": 2
   },
   "file_extension": ".py",
   "mimetype": "text/x-python",
   "name": "python",
   "nbconvert_exporter": "python",
   "pygments_lexer": "ipython2",
   "version": "2.7.10"
  }
 },
 "nbformat": 4,
 "nbformat_minor": 0
}
